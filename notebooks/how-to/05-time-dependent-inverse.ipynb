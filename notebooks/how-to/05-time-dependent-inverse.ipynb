{
 "cells": [
  {
   "cell_type": "markdown",
   "metadata": {},
   "source": [
    "# Time-dependent data assimilation\n",
    "\n",
    "**Warning:** the code demonstrated in this notebook is experimental.\n",
    "Use it at your own risk.\n",
    "We had to tweak solver choices and settings in order to make it work.\n",
    "If you try to build off of it and something breaks, please [get in touch](https://icepack.github.io/contact/).\n",
    "\n",
    "This notebook will demonstrate some more of the capabilities that icepack has for assimilating observational data.\n",
    "In a previous demo, we showed how to estimate a parameter in an ice model (the fluidity) from remote sensing observations.\n",
    "To do so, we had to specify:\n",
    "\n",
    "1. the loss functional, or how we measure the agreement of our computed state with observations\n",
    "2. the regularization functional, or how unusual or complex our guess for these parameters were, and\n",
    "3. the simulation, or what the physics is that relates the parameters and the observable fields.\n",
    "\n",
    "In the previous demo, the governing physics was the momentum conservation equation of ice flow, which is time-independent.\n",
    "Here we'll look at how to use more involved simulations, including both mass and momentum conservation, that relate the unknown and the observable fields.\n",
    "The resulting simulation now depends on time.\n",
    "This is possible thanks to the adjoint capabilities in Firedrake and it looks pretty similar to the simpler time-dependent case.\n",
    "\n",
    "Rather than try to estimate an unobservable parameter as we did in the previous demo, we'll focus here on estimating the value of an initial condition from measurements of the glacier at a later time.\n",
    "In principle, you can do joint estimation of both state and parameters at once; as far as the code is concerned, there's no distinction between the two.\n",
    "We've stuck to a pure state estimation problem here just to keep things simple."
   ]
  },
  {
   "cell_type": "markdown",
   "metadata": {},
   "source": [
    "### Setup\n",
    "\n",
    "We'll start from the MISMIP+ geometry and steady state from the previous notebooks.\n",
    "Computing the steady state of the MISMIP+ test case is expensive.\n",
    "Rather than do a cold start every time, we'll instead load up a previously-computed steady state from checkpoint files if they're available.\n",
    "(See the [how-to guide](https://icepack.github.io/notebooks/how-to/02-checkpointing/) on checkpointing.)\n",
    "If not, we'll do an initial spin-up for 3600 years using a cheaper degree-1 finite element basis and then a final spin-up using a degree-2 basis."
   ]
  },
  {
   "cell_type": "code",
   "execution_count": null,
   "metadata": {},
   "outputs": [],
   "source": [
    "import firedrake\n",
    "from firedrake import (\n",
    "    exp,\n",
    "    sqrt,\n",
    "    inner,\n",
    "    as_vector,\n",
    "    grad,\n",
    "    max_value,\n",
    "    Constant,\n",
    "    dx,\n",
    ")\n",
    "\n",
    "Lx, Ly = 640e3, 80e3\n",
    "ny = 20\n",
    "nx = int(Lx / Ly) * ny\n",
    "area = Constant(Lx * Ly)\n",
    "\n",
    "mesh = firedrake.RectangleMesh(nx, ny, Lx, Ly, name=\"mesh\")\n",
    "\n",
    "Q2 = firedrake.FunctionSpace(mesh, \"CG\", 2)\n",
    "V2 = firedrake.VectorFunctionSpace(mesh, \"CG\", 2)"
   ]
  },
  {
   "cell_type": "code",
   "execution_count": null,
   "metadata": {},
   "outputs": [],
   "source": [
    "def mismip_bed(mesh):\n",
    "    x, y = firedrake.SpatialCoordinate(mesh)\n",
    "\n",
    "    x_c = Constant(300e3)\n",
    "    X = x / x_c\n",
    "\n",
    "    B_0 = Constant(-150)\n",
    "    B_2 = Constant(-728.8)\n",
    "    B_4 = Constant(343.91)\n",
    "    B_6 = Constant(-50.57)\n",
    "    B_x = B_0 + B_2 * X ** 2 + B_4 * X ** 4 + B_6 * X ** 6\n",
    "\n",
    "    f_c = Constant(4e3)\n",
    "    d_c = Constant(500)\n",
    "    w_c = Constant(24e3)\n",
    "\n",
    "    B_y = d_c * (\n",
    "        1 / (1 + exp(-2 * (y - Ly / 2 - w_c) / f_c)) +\n",
    "        1 / (1 + exp(+2 * (y - Ly / 2 + w_c) / f_c))\n",
    "    )\n",
    "\n",
    "    z_deep = Constant(-720)\n",
    "\n",
    "    return max_value(B_x + B_y, z_deep)"
   ]
  },
  {
   "cell_type": "code",
   "execution_count": null,
   "metadata": {},
   "outputs": [],
   "source": [
    "A = Constant(20)\n",
    "C = Constant(1e-2)"
   ]
  },
  {
   "cell_type": "markdown",
   "metadata": {},
   "source": [
    "We'll use the Schoof-type friction law from before rather than the Weertman sliding law."
   ]
  },
  {
   "cell_type": "code",
   "execution_count": null,
   "metadata": {},
   "outputs": [],
   "source": [
    "from icepack.constants import (\n",
    "    ice_density as ρ_I,\n",
    "    water_density as ρ_W,\n",
    "    gravity as g,\n",
    "    weertman_sliding_law as m,\n",
    ")\n",
    "\n",
    "\n",
    "def friction(**kwargs):\n",
    "    variables = (\"velocity\", \"thickness\", \"surface\", \"friction\")\n",
    "    u, h, s, C = map(kwargs.get, variables)\n",
    "\n",
    "    p_W = ρ_W * g * max_value(0, -(s - h))\n",
    "    p_I = ρ_I * g * h\n",
    "    N = max_value(0, p_I - p_W)\n",
    "    τ_c = N / 2\n",
    "\n",
    "    u_c = (τ_c / C) ** m\n",
    "    u_b = sqrt(inner(u, u))\n",
    "\n",
    "    return τ_c * (\n",
    "        (u_c**(1 / m + 1) + u_b**(1 / m + 1))**(m / (m + 1)) - u_c\n",
    "    )"
   ]
  },
  {
   "cell_type": "code",
   "execution_count": null,
   "metadata": {},
   "outputs": [],
   "source": [
    "a_0 = Constant(0.3)"
   ]
  },
  {
   "cell_type": "code",
   "execution_count": null,
   "metadata": {},
   "outputs": [],
   "source": [
    "import icepack\n",
    "model = icepack.models.IceStream(friction=friction)"
   ]
  },
  {
   "cell_type": "code",
   "execution_count": null,
   "metadata": {},
   "outputs": [],
   "source": [
    "import tqdm\n",
    "\n",
    "\n",
    "def run_simulation(solver, h, s, u, z_b, final_time, dt):\n",
    "    h_in = Constant(100.0)\n",
    "    a = firedrake.Function(h.function_space()).interpolate(a_0)\n",
    "\n",
    "    num_steps = int(final_time / dt)\n",
    "    for step in tqdm.trange(num_steps):\n",
    "        h = solver.prognostic_solve(\n",
    "            dt,\n",
    "            thickness=h,\n",
    "            velocity=u,\n",
    "            accumulation=a,\n",
    "            thickness_inflow=h_in,\n",
    "        )\n",
    "        s = icepack.compute_surface(thickness=h, bed=z_b)\n",
    "\n",
    "        u = solver.diagnostic_solve(\n",
    "            velocity=u,\n",
    "            thickness=h,\n",
    "            surface=s,\n",
    "            fluidity=A,\n",
    "            friction=C,\n",
    "        )\n",
    "\n",
    "    return h, s, u"
   ]
  },
  {
   "cell_type": "code",
   "execution_count": null,
   "metadata": {},
   "outputs": [],
   "source": [
    "opts = {\n",
    "    \"dirichlet_ids\": [1],\n",
    "    \"side_wall_ids\": [3, 4],\n",
    "    \"diagnostic_solver_type\": \"petsc\",\n",
    "    \"diagnostic_solver_parameters\": {\n",
    "        \"snes_type\": \"newtontr\",\n",
    "        \"ksp_type\": \"preonly\",\n",
    "        \"pc_type\": \"lu\",\n",
    "        \"pc_factor_mat_solver_type\": \"mumps\",\n",
    "    },\n",
    "    \"prognostic_solver_parameters\": {\n",
    "        \"ksp_type\": \"gmres\",\n",
    "        \"pc_type\": \"ilu\",\n",
    "    },\n",
    "}"
   ]
  },
  {
   "cell_type": "markdown",
   "metadata": {},
   "source": [
    "Load in the steady state of the system, computed with degree-1 elements, from checkpoint files if it exists.\n",
    "Recreate the steady state from a cold start if not."
   ]
  },
  {
   "cell_type": "code",
   "execution_count": null,
   "metadata": {},
   "outputs": [],
   "source": [
    "import os\n",
    "\n",
    "if os.path.exists(\"mismip-degree1.h5\"):\n",
    "    with firedrake.CheckpointFile(\"mismip-degree1.h5\", \"r\") as chk:\n",
    "        mesh = chk.load_mesh(name=\"mesh\")\n",
    "\n",
    "        h_1 = chk.load_function(mesh, name=\"thickness\")\n",
    "        s_1 = chk.load_function(mesh, name=\"surface\")\n",
    "        u_1 = chk.load_function(mesh, name=\"velocity\")\n",
    "        \n",
    "        Q1 = h_1.function_space()\n",
    "        V1 = u_1.function_space()\n",
    "\n",
    "    z_b = firedrake.Function(Q1).interpolate(mismip_bed(mesh))\n",
    "else:\n",
    "    mesh = firedrake.RectangleMesh(nx, ny, Lx, Ly, name=\"mesh\")\n",
    "    Q1 = firedrake.FunctionSpace(mesh, \"CG\", 1)\n",
    "    V1 = firedrake.VectorFunctionSpace(mesh, \"CG\", 1)\n",
    "\n",
    "    z_b = firedrake.Function(Q1).interpolate(mismip_bed(mesh))\n",
    "    h_0 = firedrake.Function(Q1).interpolate(Constant(100))\n",
    "    s_0 = icepack.compute_surface(thickness=h_0, bed=z_b)\n",
    "\n",
    "    flow_solver = icepack.solvers.FlowSolver(model, **opts)\n",
    "    x = firedrake.SpatialCoordinate(mesh)[0]\n",
    "    u_0 = flow_solver.diagnostic_solve(\n",
    "        velocity=firedrake.Function(V1).interpolate(as_vector((90 * x / Lx, 0))),\n",
    "        thickness=h_0,\n",
    "        surface=s_0,\n",
    "        fluidity=A,\n",
    "        friction=C,\n",
    "    )\n",
    "\n",
    "    dt = 5.0\n",
    "    final_time = 3600\n",
    "\n",
    "    h_1, s_1, u_1 = run_simulation(\n",
    "        flow_solver, h_0, s_0, u_0, z_b, final_time, dt\n",
    "    )\n",
    "\n",
    "    with firedrake.CheckpointFile(\"mismip-degree1.h5\", \"w\") as chk:\n",
    "        chk.save_mesh(mesh)\n",
    "        chk.save_function(h_1, name=\"thickness\")\n",
    "        chk.save_function(s_1, name=\"surface\")\n",
    "        chk.save_function(u_1, name=\"velocity\")"
   ]
  },
  {
   "cell_type": "markdown",
   "metadata": {},
   "source": [
    "Load in the steady state computed with degree-2 elements from a file if it exists, or spin it up from the degree-1 solution if not."
   ]
  },
  {
   "cell_type": "code",
   "execution_count": null,
   "metadata": {},
   "outputs": [],
   "source": [
    "flow_solver = icepack.solvers.FlowSolver(model, **opts)\n",
    "\n",
    "if os.path.exists(\"mismip-degree2.h5\"):\n",
    "    with firedrake.CheckpointFile(\"mismip-degree2.h5\", \"r\") as chk:\n",
    "        mesh = chk.load_mesh(name=\"mesh\")\n",
    "        h = chk.load_function(mesh, name=\"thickness\")\n",
    "        s = chk.load_function(mesh, name=\"surface\")\n",
    "        u = chk.load_function(mesh, name=\"velocity\")\n",
    "        \n",
    "        Q2 = h.function_space()\n",
    "        V2 = u.function_space()\n",
    "else:\n",
    "    Q2 = firedrake.FunctionSpace(mesh, \"CG\", 2)\n",
    "    V2 = firedrake.VectorFunctionSpace(mesh, \"CG\", 2)\n",
    "\n",
    "    h = firedrake.Function(Q2).interpolate(h_1)\n",
    "    s = firedrake.Function(Q2).interpolate(s_1)\n",
    "    u = firedrake.Function(V2).interpolate(u_1)\n",
    "\n",
    "    final_time = 3600\n",
    "    dt = 4.0\n",
    "\n",
    "    h, s, u = run_simulation(\n",
    "        flow_solver, h, s, u, z_b, final_time, dt\n",
    "    )\n",
    "\n",
    "    with firedrake.CheckpointFile(\"mismip-degree2.h5\", \"w\") as chk:\n",
    "        chk.save_mesh(mesh)\n",
    "        chk.save_function(h, name=\"thickness\")\n",
    "        chk.save_function(s, name=\"surface\")\n",
    "        chk.save_function(u, name=\"velocity\")\n",
    "        \n",
    "z_b = firedrake.Function(Q2).interpolate(mismip_bed(mesh))"
   ]
  },
  {
   "cell_type": "markdown",
   "metadata": {},
   "source": [
    "### Simulation\n",
    "\n",
    "For the inversion scenario, we'd like to make the system do something a little more interesting than just relax to steady state.\n",
    "To achieve that, we'll add a 1-year periodic oscillation to the accumulation rate.\n",
    "The only change in the core simulation loop is that now we're interpolating a new value to the accumulation rate at every step.\n",
    "Additionally, we're keeping the full time history of the system state in a list instead of just storing the final state."
   ]
  },
  {
   "cell_type": "code",
   "execution_count": null,
   "metadata": {},
   "outputs": [],
   "source": [
    "import numpy as np\n",
    "from numpy import pi as π\n",
    "\n",
    "final_time = 25.0\n",
    "dt = 1.0 / 24\n",
    "\n",
    "hs = [h.copy(deepcopy=True)]\n",
    "ss = [s.copy(deepcopy=True)]\n",
    "us = [u.copy(deepcopy=True)]\n",
    "\n",
    "h_in = Constant(100.0)\n",
    "a = firedrake.Function(Q2)\n",
    "δa = Constant(0.2)\n",
    "\n",
    "num_steps = int(final_time / dt)\n",
    "for step in tqdm.trange(num_steps):\n",
    "    t = step * dt\n",
    "    a.interpolate(a_0 + δa * firedrake.sin(2 * π * t))\n",
    "    \n",
    "    h = flow_solver.prognostic_solve(\n",
    "        dt,\n",
    "        thickness=h,\n",
    "        velocity=u,\n",
    "        accumulation=a,\n",
    "        thickness_inflow=h_in,\n",
    "    )\n",
    "    s = icepack.compute_surface(thickness=h, bed=z_b)\n",
    "\n",
    "    u = flow_solver.diagnostic_solve(\n",
    "        velocity=u,\n",
    "        thickness=h,\n",
    "        surface=s,\n",
    "        fluidity=A,\n",
    "        friction=C,\n",
    "    )\n",
    "\n",
    "    hs.append(h.copy(deepcopy=True))\n",
    "    ss.append(s.copy(deepcopy=True))\n",
    "    us.append(u.copy(deepcopy=True))"
   ]
  },
  {
   "cell_type": "markdown",
   "metadata": {},
   "source": [
    "The plot below shows the average thickness of the glacier over time.\n",
    "By the end of the interval the system has migrated towards a reasonably stable limit cycle."
   ]
  },
  {
   "cell_type": "code",
   "execution_count": null,
   "metadata": {},
   "outputs": [],
   "source": [
    "import matplotlib.pyplot as plt\n",
    "\n",
    "average_thicknesses = np.array([firedrake.assemble(h * dx) / (Lx * Ly) for h in hs])\n",
    "times = np.linspace(0, final_time, num_steps + 1)\n",
    "\n",
    "fig, ax = plt.subplots()\n",
    "ax.set_xlabel(\"time (years)\")\n",
    "ax.set_ylabel(\"average thickness (meters)\")\n",
    "ax.plot(times, average_thicknesses);"
   ]
  },
  {
   "cell_type": "markdown",
   "metadata": {},
   "source": [
    "### Hindcasting\n",
    "\n",
    "We're now going to see if we can recover the state of the system at time $t = 23.5$ from knowledge of the system state at time $t = 25$.\n",
    "The biggest departure in this notebook from the previous demonstration of statistical estimation problems is that now our simulation includes a full loop over all timesteps, rather than a single diagnostic solve.\n",
    "The simulation has to take in the controls (the unknown initial thickness) and return the observables (the final thickness).\n",
    "There are a few extra variables, like the start and end times and the mean and fluctuations of the accumulation rate, that come in implicitly but aren't actual function arguments."
   ]
  },
  {
   "cell_type": "code",
   "execution_count": null,
   "metadata": {},
   "outputs": [],
   "source": [
    "start_time = 23.5\n",
    "final_time = 25.0\n",
    "\n",
    "def simulation(h_initial):\n",
    "    a = firedrake.Function(Q2)\n",
    "    h = h_initial.copy(deepcopy=True)\n",
    "    s = icepack.compute_surface(thickness=h, bed=z_b)\n",
    "    u = flow_solver.diagnostic_solve(\n",
    "        velocity=us[-1].copy(deepcopy=True),\n",
    "        thickness=h,\n",
    "        surface=s,\n",
    "        fluidity=A,\n",
    "        friction=C,\n",
    "    )\n",
    "    t = Constant(start_time)\n",
    "\n",
    "    num_steps = int((final_time - start_time) / dt)\n",
    "    for step in tqdm.trange(num_steps):\n",
    "        t = Constant(t + dt)\n",
    "        a.interpolate(a_0 + δa * firedrake.sin(2 * π * t))\n",
    "\n",
    "        h = flow_solver.prognostic_solve(\n",
    "            dt,\n",
    "            thickness=h,\n",
    "            velocity=u,\n",
    "            accumulation=a,\n",
    "            thickness_inflow=h_in,\n",
    "        )\n",
    "        s = icepack.compute_surface(thickness=h, bed=z_b)\n",
    "\n",
    "        u = flow_solver.diagnostic_solve(\n",
    "            velocity=u,\n",
    "            thickness=h,\n",
    "            surface=s,\n",
    "            fluidity=A,\n",
    "            friction=C,\n",
    "        )\n",
    "\n",
    "    return h"
   ]
  },
  {
   "cell_type": "markdown",
   "metadata": {},
   "source": [
    "The loss functional calculates how well the final thickness and velocity from the simulation matches that from the actual time series."
   ]
  },
  {
   "cell_type": "code",
   "execution_count": null,
   "metadata": {},
   "outputs": [],
   "source": [
    "def loss_functional(h_final):\n",
    "    σ_h = Constant(1.0)\n",
    "    return 0.5 / area * ((h_final - hs[-1]) / σ_h)**2 * dx"
   ]
  },
  {
   "cell_type": "markdown",
   "metadata": {},
   "source": [
    "In the previous demonstration of inverse methods, we used a prior that favored a smooth value of the fluidity:\n",
    "\n",
    "$$R(\\theta) = \\frac{\\alpha^2}{2}\\int_\\Omega|\\nabla\\theta|^2dx.$$\n",
    "\n",
    "Here we have a little more knowledge; while the initial state might depart somewhat from the final state, we expect the difference between the two to be fairly smooth.\n",
    "So we'll instead use the prior\n",
    "\n",
    "$$R(h(t_0)) = \\frac{\\alpha^2}{2}\\int_\\Omega|\\nabla(h(t_1) - h(t_0))|^2dx.$$"
   ]
  },
  {
   "cell_type": "code",
   "execution_count": null,
   "metadata": {},
   "outputs": [],
   "source": [
    "def regularization(h_initial):\n",
    "    α = Constant(0.0)\n",
    "    δh = h_initial - hs[-1]\n",
    "    return 0.5 * α**2 / area * inner(grad(δh), grad(δh)) * dx"
   ]
  },
  {
   "cell_type": "markdown",
   "metadata": {},
   "source": [
    "As our starting guess for the initial thickness, we'll assume that it's equal to the final thickness."
   ]
  },
  {
   "cell_type": "code",
   "execution_count": null,
   "metadata": {},
   "outputs": [],
   "source": [
    "h_initial = hs[-1].copy(deepcopy=True)"
   ]
  },
  {
   "cell_type": "markdown",
   "metadata": {},
   "source": [
    "We've added a few extra options to pass to the optimizer in order to guarantee convergence to the right solution."
   ]
  },
  {
   "cell_type": "code",
   "execution_count": null,
   "metadata": {},
   "outputs": [],
   "source": [
    "from icepack.statistics import (\n",
    "    StatisticsProblem,\n",
    "    MaximumProbabilityEstimator,\n",
    ")\n",
    "\n",
    "stats_problem = StatisticsProblem(\n",
    "    simulation=simulation,\n",
    "    loss_functional=loss_functional,\n",
    "    regularization=regularization,\n",
    "    controls=h_initial,\n",
    ")\n",
    "\n",
    "estimator = MaximumProbabilityEstimator(\n",
    "    stats_problem,\n",
    "    algorithm=\"bfgs\",\n",
    "    memory=10,\n",
    "    gradient_tolerance=1e-12,\n",
    "    step_tolerance=5e-14,\n",
    ")"
   ]
  },
  {
   "cell_type": "code",
   "execution_count": null,
   "metadata": {},
   "outputs": [],
   "source": [
    "h_min = estimator.solve()"
   ]
  },
  {
   "cell_type": "markdown",
   "metadata": {},
   "source": [
    "The minimizer is appreciably different from the thickness at $t = 25.0$ and very to the value at $t = 23.5$, so the algorithm has reproduced the initial condition that we pretended not to know."
   ]
  },
  {
   "cell_type": "code",
   "execution_count": null,
   "metadata": {},
   "outputs": [],
   "source": [
    "δh_end = h_min - hs[-1]\n",
    "print(f\"|h_min - h(25.0)|: {firedrake.norm(δh_end)}\")\n",
    "num_steps = int((final_time - start_time) / dt)\n",
    "δh_start = h_min - hs[-1 - num_steps]\n",
    "print(f\"|h_min - h(23.5)|: {firedrake.norm(δh_start)}\")"
   ]
  },
  {
   "cell_type": "code",
   "execution_count": null,
   "metadata": {},
   "outputs": [],
   "source": [
    "import icepack.plot\n",
    "\n",
    "δh = firedrake.Function(Q2).interpolate(h_min - hs[-1 - num_steps])\n",
    "fig, axes = icepack.plot.subplots()\n",
    "axes.set_title(\"Estimated - True thickness\")\n",
    "colors = firedrake.tripcolor(\n",
    "    δh, vmin=-0.002, vmax=+0.002, cmap=\"RdBu\", axes=axes\n",
    ")\n",
    "fig.colorbar(colors, fraction=0.01, pad=0.046);"
   ]
  },
  {
   "cell_type": "markdown",
   "metadata": {},
   "source": [
    "### Conclusion\n",
    "\n",
    "In previous demos, we've shown how use measurements of observable fields, like ice velocity and thickness, to estimate unknown parameters that satisfy constraints from a physics model.\n",
    "The physics model was fairly rudimentary before -- taking in a single field like the ice fluidity and returning the ice velocity as computed from the momentum conservation equation.\n",
    "Here we showed how to use much more complex simulations involving a full timestepping loop.\n",
    "Instead of estimating an unobservable parameter of the system, like the fluidity or friction coefficient, we instead showed how to estimate the thickness at a different time from when it was observed.\n",
    "\n",
    "Solving these kinds of problems is more computationally expensive and finding better or faster algorithms is an active area of research.\n",
    "While costly, the capability does open up many more possible research directions and improvements on existing practice.\n",
    "For example, when estimating the ice fluidity or friction, it's common to assume that the thickness and velocity measurements were taken at the same time.\n",
    "This assumption is almost never exactly true.\n",
    "The ability to do time-dependent data assimilation means that we can dispense with it."
   ]
  }
 ],
 "metadata": {
  "kernelspec": {
   "display_name": "firedrake",
   "language": "python",
   "name": "firedrake"
  },
  "language_info": {
   "codemirror_mode": {
    "name": "ipython",
    "version": 3
   },
   "file_extension": ".py",
   "mimetype": "text/x-python",
   "name": "python",
   "nbconvert_exporter": "python",
   "pygments_lexer": "ipython3",
   "version": "3.10.2"
  }
 },
 "nbformat": 4,
 "nbformat_minor": 2
}
