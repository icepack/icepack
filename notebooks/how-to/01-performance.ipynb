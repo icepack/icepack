{
 "cells": [
  {
   "cell_type": "markdown",
   "metadata": {},
   "source": [
    "# Performance optimization\n",
    "\n",
    "In this notebook, we'll show you how to make icepack run faster if you're finding that simulation speed is becoming a barrier for you.\n",
    "The solvers in icepack have been designed to give an answer as reliably as possible, even with somewhat outlandish input data.\n",
    "For example, we default to solving linear systems using a direct factorization of the matrix because this approach has better guarantees of giving a useful result.\n",
    "If you're willing to spend the time tweaking solver options, you can get a faster simulation using iterative linear solvers.\n",
    "In this demo we'll show you how.\n",
    "\n",
    "As a test case, we'll use the MISMIP+ experiment as describe in [Asay-Davis et al. (2016)](https://doi.org/10.5194/gmd-9-2471-2016).\n",
    "MISMIP+ is a standard test problem for evaluating glaciological flow models and we'll revisit it again in the guides that follow."
   ]
  },
  {
   "cell_type": "code",
   "execution_count": null,
   "metadata": {},
   "outputs": [],
   "source": [
    "import firedrake\n",
    "from firedrake import (\n",
    "    sqrt, exp, max_value, inner, as_vector, Constant, Function, dx\n",
    ")\n",
    "\n",
    "Lx, Ly = 640e3, 80e3\n",
    "ny = 20\n",
    "nx = int(Lx / Ly) * ny\n",
    "area = Lx * Ly\n",
    "\n",
    "mesh = firedrake.RectangleMesh(nx, ny, Lx, Ly)\n",
    "Q = firedrake.FunctionSpace(mesh, \"CG\", 1)\n",
    "V = firedrake.VectorFunctionSpace(mesh, \"CG\", 1)"
   ]
  },
  {
   "cell_type": "markdown",
   "metadata": {},
   "source": [
    "The MISMIP+ experimental protocol defines a profile for the ice bed that is a 6th-order polynomial in $x$ and an exponential in $y$.\n",
    "The bed shape was designed to create a bench or bedrock high in the $x$ direction that the ice could ground on and, given enough of a meltwater kick, to retreat off of.\n",
    "The shape in the $y$ direction is designed to funnel ice off of the side walls and create geometric constrictions."
   ]
  },
  {
   "cell_type": "code",
   "execution_count": null,
   "metadata": {},
   "outputs": [],
   "source": [
    "x, y = firedrake.SpatialCoordinate(mesh)\n",
    "\n",
    "x_c = Constant(300e3)\n",
    "X = x / x_c\n",
    "\n",
    "B_0 = Constant(-150)\n",
    "B_2 = Constant(-728.8)\n",
    "B_4 = Constant(343.91)\n",
    "B_6 = Constant(-50.57)\n",
    "B_x = B_0 + B_2 * X**2 + B_4 * X**4 + B_6 * X**6\n",
    "\n",
    "f_c = Constant(4e3)\n",
    "d_c = Constant(500)\n",
    "w_c = Constant(24e3)\n",
    "\n",
    "B_y = d_c * (\n",
    "    1 / (1 + exp(-2 * (y - Ly / 2 - w_c) / f_c)) +\n",
    "    1 / (1 + exp(+2 * (y - Ly / 2 + w_c) / f_c))\n",
    ")\n",
    "\n",
    "z_deep = Constant(-720)\n",
    "z_b = Function(Q).interpolate(max_value(B_x + B_y, z_deep))"
   ]
  },
  {
   "cell_type": "code",
   "execution_count": null,
   "metadata": {},
   "outputs": [],
   "source": [
    "import matplotlib.pyplot as plt\n",
    "from mpl_toolkits import mplot3d\n",
    "\n",
    "fig = plt.figure()\n",
    "axes = fig.add_subplot(projection=\"3d\")\n",
    "firedrake.trisurf(z_b, axes=axes);"
   ]
  },
  {
   "cell_type": "markdown",
   "metadata": {},
   "source": [
    "The experiment further sets the default values for the ice fluidity and friction, but leaves it to modelers to set the exact friction law.\n",
    "We'll use our form of the Schoof sliding law from the tutorials on ice streams rather than the Weertman sliding law.\n",
    "This sliding law crucially includes a ramping factor that smoothly dials the friction down towards the grounding line.\n",
    "Without this ramping factor, the system would experience a sudden shock across the grounding line, which often manifests in numerical artifacts."
   ]
  },
  {
   "cell_type": "code",
   "execution_count": null,
   "metadata": {},
   "outputs": [],
   "source": [
    "A = Constant(20)\n",
    "C = Constant(1e-2)"
   ]
  },
  {
   "cell_type": "code",
   "execution_count": null,
   "metadata": {},
   "outputs": [],
   "source": [
    "from icepack.constants import (\n",
    "    ice_density as ρ_I,\n",
    "    water_density as ρ_W,\n",
    "    gravity as g,\n",
    "    weertman_sliding_law as m,\n",
    ")\n",
    "\n",
    "def friction(**kwargs):\n",
    "    variables = (\"velocity\", \"thickness\", \"surface\", \"friction\")\n",
    "    u, h, s, C = map(kwargs.get, variables)\n",
    "\n",
    "    p_W = ρ_W * g * max_value(0, -(s - h))\n",
    "    p_I = ρ_I * g * h\n",
    "    N = max_value(0, p_I - p_W)\n",
    "    τ_c = N / 2\n",
    "\n",
    "    u_c = (τ_c / C)**m\n",
    "    u_b = sqrt(inner(u, u))\n",
    "\n",
    "    return τ_c * (\n",
    "        (u_c**(1 / m + 1) + u_b**(1 / m + 1))**(m / (m + 1)) - u_c\n",
    "    )"
   ]
  },
  {
   "cell_type": "markdown",
   "metadata": {},
   "source": [
    "The experiment specifies an accumulation rate of 30 cm / year in the initial spin-up phase.\n",
    "In later guides we'll look at the next phase of the experiment, which uses a pre-defined function of the depth below the water line to set sub-ice shelf melt rate."
   ]
  },
  {
   "cell_type": "code",
   "execution_count": null,
   "metadata": {},
   "outputs": [],
   "source": [
    "a = Constant(0.3)"
   ]
  },
  {
   "cell_type": "markdown",
   "metadata": {},
   "source": [
    "For now, we'll focus on the 2D ice stream model, which is more than enough to illustrate the different kinds of solver options you can choose.\n",
    "Comparing the results with those of the hybrid model is a worthwhile exercise though -- it tells us the degree to which resolving vertical shear is important for the problem we're solving."
   ]
  },
  {
   "cell_type": "code",
   "execution_count": null,
   "metadata": {},
   "outputs": [],
   "source": [
    "import icepack\n",
    "\n",
    "model = icepack.models.IceStream(friction=friction)"
   ]
  },
  {
   "cell_type": "markdown",
   "metadata": {},
   "source": [
    "### First stage\n",
    "\n",
    "We don't have a great way to know ahead of time what the steady state of the simulation will be, so instead we'll start with a very blunt initial guess -- a constant ice thickness of 100m everywhere.\n",
    "Then we'll spin this up to steady state, like we've done before for other synthetic problems."
   ]
  },
  {
   "cell_type": "code",
   "execution_count": null,
   "metadata": {},
   "outputs": [],
   "source": [
    "h_0 = Function(Q).assign(Constant(100))\n",
    "s_0 = icepack.compute_surface(thickness=h_0, bed=z_b)"
   ]
  },
  {
   "cell_type": "markdown",
   "metadata": {},
   "source": [
    "Since we'll be running the same simulation several times, we'll wrap it up in a Python function.\n",
    "This function will take in the solver object, the initial state of the system, the length of the simulation, and the timestep."
   ]
  },
  {
   "cell_type": "code",
   "execution_count": null,
   "metadata": {},
   "outputs": [],
   "source": [
    "import tqdm\n",
    "\n",
    "def run_simulation(solver, h, s, u, time, dt):\n",
    "    num_steps = int(final_time / dt)\n",
    "    progress_bar = tqdm.trange(num_steps)\n",
    "    for step in progress_bar:\n",
    "        h = solver.prognostic_solve(\n",
    "            dt,\n",
    "            thickness=h,\n",
    "            velocity=u,\n",
    "            accumulation=a,\n",
    "            thickness_inflow=h_0,\n",
    "        )\n",
    "        s = icepack.compute_surface(thickness=h, bed=z_b)\n",
    "\n",
    "        u = solver.diagnostic_solve(\n",
    "            velocity=u,\n",
    "            thickness=h,\n",
    "            surface=s,\n",
    "            fluidity=A,\n",
    "            friction=C,\n",
    "        )\n",
    "\n",
    "        min_h = h.dat.data_ro.min()\n",
    "        avg_h = firedrake.assemble(h * dx) / area\n",
    "        description = f\"avg, min h: {avg_h:4.2f}, {min_h:4.2f}\"\n",
    "        progress_bar.set_description(description)\n",
    "        \n",
    "    return h, s, u"
   ]
  },
  {
   "cell_type": "markdown",
   "metadata": {},
   "source": [
    "The initial state of a constant ice thickness is very weird and unphysical.\n",
    "A consequence of this is that the diagnostic equations become horribly ill-conditioned.\n",
    "So to start things off we'll propagate the model forward by a few hundred years in order to get rid of some of the wilder transients."
   ]
  },
  {
   "cell_type": "code",
   "execution_count": null,
   "metadata": {},
   "outputs": [],
   "source": [
    "dt = 3.0\n",
    "final_time = 900.0"
   ]
  },
  {
   "cell_type": "markdown",
   "metadata": {},
   "source": [
    "For this initial phase of the experiment, we'll use the default nonlinear solver in icepack.\n",
    "This solver is slow but it's more resilient against weird input data than the alternatives.\n",
    "We've shown how to pass otions to the flow solver before in order to specify which parts of the boundary have ice inflow and which parts are the side walls.\n",
    "Here we're passing some extra keyword arguments: `'diagnostic_solver_type`', which can be either `'icepack'` or `'petsc'`; and `'diagnostic_solver_parameters'`, which specifies a list of options to pass to PETSc describing how to solver linear or nonlinear systems."
   ]
  },
  {
   "cell_type": "code",
   "execution_count": null,
   "metadata": {},
   "outputs": [],
   "source": [
    "default_opts = {\n",
    "    \"dirichlet_ids\": [1],\n",
    "    \"side_wall_ids\": [3, 4],\n",
    "    \"diagnostic_solver_type\": \"icepack\",\n",
    "    \"diagnostic_solver_parameters\": {\n",
    "        \"ksp_type\": \"preonly\",\n",
    "        \"pc_type\": \"lu\",\n",
    "        \"pc_factor_mat_solver_type\": \"mumps\",\n",
    "        \"tolerance\": 1e-8,\n",
    "    },\n",
    "}\n",
    "default_solver = icepack.solvers.FlowSolver(model, **default_opts)"
   ]
  },
  {
   "cell_type": "code",
   "execution_count": null,
   "metadata": {},
   "outputs": [],
   "source": [
    "u_0 = default_solver.diagnostic_solve(\n",
    "    velocity=Function(V).interpolate(as_vector((90 * x / Lx, 0))),\n",
    "    thickness=h_0,\n",
    "    surface=s_0,\n",
    "    fluidity=A,\n",
    "    friction=C,\n",
    ")"
   ]
  },
  {
   "cell_type": "code",
   "execution_count": null,
   "metadata": {},
   "outputs": [],
   "source": [
    "h_900, s_900, u_900 = run_simulation(\n",
    "    default_solver, h_0, s_0, u_0, final_time, dt\n",
    ")"
   ]
  },
  {
   "cell_type": "markdown",
   "metadata": {},
   "source": [
    "Now the interesting part begins."
   ]
  },
  {
   "cell_type": "markdown",
   "metadata": {},
   "source": [
    "### Experiment\n",
    "\n",
    "Now that we have a more-or-less reasonable state to start from, we can experiment with solver options.\n",
    "Our experiment will consist of running the model forward by 2700 years.\n",
    "This still isn't quite enough to get close to steady state.\n",
    "Near the shear margins, the ice thickness can get very thin -- on the order of 1-10 m -- after a few thousand years.\n",
    "At the low spatial resolution we're using for this run, the solver can even get negative ice thicknesses, although this unphysical feature can be eliminated by clamping the thickness from below at every timestep.\n",
    "We'll show how to increase the resolution in the demos that follow."
   ]
  },
  {
   "cell_type": "code",
   "execution_count": null,
   "metadata": {},
   "outputs": [],
   "source": [
    "dt = 5.0\n",
    "final_time = 2700"
   ]
  },
  {
   "cell_type": "markdown",
   "metadata": {},
   "source": [
    "#### Baseline: icepack solver\n",
    "\n",
    "First, let's continue using the default solver from icepack again.\n",
    "We'll then try to beat this time by choosing better solvers from PETSc."
   ]
  },
  {
   "cell_type": "code",
   "execution_count": null,
   "metadata": {},
   "outputs": [],
   "source": [
    "h, s, u = run_simulation(\n",
    "    default_solver, h_900, s_900, u_900, final_time, dt\n",
    ")"
   ]
  },
  {
   "cell_type": "markdown",
   "metadata": {},
   "source": [
    "And now let's visualize the results:"
   ]
  },
  {
   "cell_type": "code",
   "execution_count": null,
   "metadata": {},
   "outputs": [],
   "source": [
    "import icepack.plot\n",
    "\n",
    "fig, axes = icepack.plot.subplots()\n",
    "axes.get_yaxis().set_visible(False)\n",
    "triangles = firedrake.tripcolor(\n",
    "    h, shading=\"gouraud\", axes=axes\n",
    ")\n",
    "fig.colorbar(triangles, fraction=0.01, pad=0.046);"
   ]
  },
  {
   "cell_type": "markdown",
   "metadata": {},
   "source": [
    "#### PETSc with LU\n",
    "\n",
    "Now let's try using PETSc's Scalable Nonlinear Equation Solver, or SNES.\n",
    "To switch to PETSc's solver instead of icepack's, pass the key-value pair `'diagnostic_solver_type': 'petsc'` when initializing the flow solver.\n",
    "You can then pass a number of parameters dictating how to solver linear and nonlinear systems.\n",
    "Here, we've chosen to use a direct factorization method to solver linear systems.\n",
    "This is the exact same method that the icepack solver used.\n",
    "We've also specified a special type of line search -- `'cp'` for critical point.\n",
    "This line search procedure assumes that the residual equations are actually the gradient of some nonlinear functional, and in our case they are -- this is exactly the action functional for the ice stream equations.\n",
    "For more information, you can consult the PETSc [documentation](https://www.mcs.anl.gov/petsc/petsc-current/docs/manualpages/SNES/SNESLineSearchSetType.html).\n",
    "\n",
    "To summarize, we're using the same algorithms with the PETSc solver as we are in the icepack solver.\n",
    "This experiment is more a test of how much we save by doing all of our nonlinear equation solving with PETSc."
   ]
  },
  {
   "cell_type": "code",
   "execution_count": null,
   "metadata": {},
   "outputs": [],
   "source": [
    "fast_opts = {\n",
    "    \"dirichlet_ids\": [1],\n",
    "    \"side_wall_ids\": [3, 4],\n",
    "    \"diagnostic_solver_type\": \"petsc\",\n",
    "    \"diagnostic_solver_parameters\": {\n",
    "        \"ksp_type\": \"preonly\",\n",
    "        \"pc_type\": \"lu\",\n",
    "        \"pc_factor_mat_solver_type\": \"mumps\",\n",
    "        \"snes_line_search_type\": \"cp\",\n",
    "    },\n",
    "}\n",
    "fast_solver = icepack.solvers.FlowSolver(model, **fast_opts)"
   ]
  },
  {
   "cell_type": "markdown",
   "metadata": {},
   "source": [
    "Using PETSc's nonlinear solvers shaved off about 1/8 of the total simulation time on the machine I'm using.\n",
    "One likely explanation for some of this performance gain is that round-trips from Python to C and back are relatively expensive.\n",
    "Since the icepack solver is calling out to scipy to do a line search, this round trip happens more frequently than with PETSc, which makes a single call into the C code."
   ]
  },
  {
   "cell_type": "code",
   "execution_count": null,
   "metadata": {},
   "outputs": [],
   "source": [
    "h, s, u = run_simulation(\n",
    "    fast_solver, h_900, s_900, u_900, final_time, dt\n",
    ")"
   ]
  },
  {
   "cell_type": "markdown",
   "metadata": {},
   "source": [
    "#### PETSc with multigrid\n",
    "\n",
    "Now let's see if we can do even better.\n",
    "The direct solver that we used before requires the same amount of computational work no matter what.\n",
    "If you already have a good guess for the solution, say by taking the value from the previous timestep, there's no way to take advantage of that information with direct solvers.\n",
    "Iterative solvers, on the other hand, can converge faster with a good initial guess for the solution.\n",
    "This is true of both the diagnostic equation for the ice velocity and the prognostic equation for the ice thickness.\n",
    "The value of the velocity search direction from the previous Newton step or the ice thickness from the previous timestep can be a good starting guess and we should try to use this fact.\n",
    "\n",
    "The diagnostic equations of ice flow are the derivative of a convex action functional, so the Hessian is a symmetric and positive-definite linear operator.\n",
    "That means that we can use the [conjugate gradient](https://en.wikipedia.org/wiki/Conjugate_gradient_method) algorithm, which has very favorable convergence properties for symmetric and positive-definite systems.\n",
    "Choosing a good preconditioner is just as important as choosing the iterative algorithm.\n",
    "Here we'll be a little blunt and use PETSc's [multigrid](https://en.wikipedia.org/wiki/Multigrid_method) preconditioner.\n",
    "The multigrid method can be a very efficient option for symmetric, positive elliptic systems like the linearization of the diagnostic equations.\n",
    "But there may be other choices that work as well or better and, if you are concerned about performance, you should try others.\n",
    "PETSc offers loads of different preconditioners; to see an exhaustive list, you can consult their [documentation](https://www.mcs.anl.gov/petsc/petsc-current/docs/manualpages/PC/index.html).\n",
    "\n",
    "The prognostic equations don't have the nice symmetry properties of the diagnostic equations.\n",
    "We'll instead use the [generalized minimum residual](https://en.wikipedia.org/wiki/Generalized_minimal_residual_method) (GMRES) algorithm together with an incomplete LU preconditioner."
   ]
  },
  {
   "cell_type": "code",
   "execution_count": null,
   "metadata": {},
   "outputs": [],
   "source": [
    "faster_opts = {\n",
    "    \"dirichlet_ids\": [1],\n",
    "    \"side_wall_ids\": [3, 4],\n",
    "    \"diagnostic_solver_type\": \"petsc\",\n",
    "    \"diagnostic_solver_parameters\": {\n",
    "        \"ksp_type\": \"cg\",\n",
    "        \"pc_type\": \"mg\",\n",
    "        \"pc_mg_cycle_type\": \"w\",\n",
    "        \"snes_line_search_type\": \"cp\",\n",
    "    },\n",
    "    \"prognostic_solver_parameters\": {\n",
    "        \"ksp_type\": \"gmres\",\n",
    "        \"pc_type\": \"ilu\",\n",
    "        \"pc_factor_mat_solver_type\": \"petsc\",\n",
    "    },\n",
    "}\n",
    "faster_solver = icepack.solvers.FlowSolver(model, **faster_opts)"
   ]
  },
  {
   "cell_type": "markdown",
   "metadata": {},
   "source": [
    "This shaves off a further 1/3 of the total simulation time.\n",
    "There's a lot of room for dialing in the multigrid solver as well; for example, you can decide to use V- or W-cycles, and you can set the number of levels.\n",
    "You might also be able to speed up the prognostic solver using a multigrid method, but this is likely to require more hand-tuning than for the diagnostic problem."
   ]
  },
  {
   "cell_type": "code",
   "execution_count": null,
   "metadata": {},
   "outputs": [],
   "source": [
    "h, s, u = run_simulation(\n",
    "    faster_solver, h_900, s_900, u_900, final_time, dt\n",
    ")"
   ]
  },
  {
   "cell_type": "markdown",
   "metadata": {},
   "source": [
    "### Conclusion\n",
    "\n",
    "There are a huge number of ways to accelerate nonlinear solver performance beyond what we've shown here.\n",
    "PETSc implements just about anything you could dream of and then some.\n",
    "To see what else is out there, you can consult the full list of [linear solvers](https://www.mcs.anl.gov/petsc/petsc-current/docs/manualpages/KSP/index.html) and [preconditioners](https://www.mcs.anl.gov/petsc/petsc-current/docs/manualpages/PC/index.html).\n",
    "You can access these different solvers and preconditioners by passing the right solver parameters to the diagnostic or prognostic solver.\n",
    "\n",
    "Making choices about solution methods is often a tradeoff between robustness and speed.\n",
    "For this simulation, we had to use the more robust but slower solver in icepack for the first 900 years of the spin-up because the equivalent line search solvers in PETSc would fail.\n",
    "(They would actually work fine on some machines but fail on others, because computing is hard.)\n",
    "The trust region method from PETSc does work for the first 900 simulation years as well, but can be slower on more reasonable inputs.\n",
    "If you are interested in tuning performance, **you should expect to use multiple solution methods in the same simulation**, especially if the system can meander through multiple regimes.\n",
    "\n",
    "We've focused here on how to get the most performance out of a single simulation at a fixed resolution.\n",
    "Things get much more interesting when we need to get an accurate result and are free to increase the resolution as need be.\n",
    "For these types of problems, a lot of the work can be done at coarser resolution and knowing exactly how much is both an art and a science."
   ]
  }
 ],
 "metadata": {
  "kernelspec": {
   "display_name": "firedrake",
   "language": "python",
   "name": "firedrake"
  },
  "language_info": {
   "codemirror_mode": {
    "name": "ipython",
    "version": 3
   },
   "file_extension": ".py",
   "mimetype": "text/x-python",
   "name": "python",
   "nbconvert_exporter": "python",
   "pygments_lexer": "ipython3",
   "version": "3.11.9"
  }
 },
 "nbformat": 4,
 "nbformat_minor": 4
}
