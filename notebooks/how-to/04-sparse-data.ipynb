{
 "cells": [
  {
   "cell_type": "markdown",
   "metadata": {},
   "source": [
    "# Assimilating sparse data\n",
    "\n",
    "In this demo, we'll look again at estimating the fluidity coefficient $A$ in Glen's flow law\n",
    "\n",
    "$$\\dot\\varepsilon = A\\tau^3$$\n",
    "\n",
    "from observational data for the Larsen Ice Shelf.\n",
    "The [previous tutorial](https://icepack.github.io/notebooks/tutorials/05-ice-shelf-inverse/) showed how to solve statistical estimation problems when we can assume that the measured data $u^o$ are a continuous field defined throughout our entire domain.\n",
    "In that setting the model-data misfit functional is\n",
    "\n",
    "$$E(u) = \\int_\\Omega\\frac{|u - u^o|^2}{2\\sigma^2}dx.$$\n",
    "\n",
    "In this demo, we'll instead focus on *sparse* measurements -- the observations are defined at a set of isolated points $\\{x_k\\}$, and the model-data misfit functional is\n",
    "\n",
    "$$E(u) = \\sum_k\\frac{|u(x_k) - u^o_k|^2}{2\\sigma_k^2}.$$\n",
    "\n",
    "Assembling and differentiating functionals that include pointwise evaluation, alongside the usual continuous operations like taking a gradient or integrating over the whole spatial domain, is relatively uncommon in finite element modeling packages.\n",
    "Firedrake is the only such package that natively supports defining functionals that involve evaluating a state variable at a discrete point set.\n",
    "Moreover, the ability to evaluate at a discrete point set composes nicely with the automatic differentiation features, so we can use it in optimization problems just like before.\n",
    "\n",
    "We'll again use the reparameterization trick of inferring the field $\\theta$ in\n",
    "\n",
    "$$A = A_0e^\\theta$$\n",
    "\n",
    "in order to guarantee that the fluidity coefficient is positive.\n",
    "We'll also use the same regularization functional as before:\n",
    "\n",
    "$$R(\\theta) = \\frac{L^2}{2\\Theta^2}\\int_\\Omega|\\nabla \\theta|^2dx.$$\n",
    "\n",
    "In all other respects, the problem will be identical to the previous tutorial."
   ]
  },
  {
   "cell_type": "markdown",
   "metadata": {},
   "source": [
    "### Input data\n",
    "\n",
    "The input data are the same as from the previous demo on inferring the fluidity of the Larsen Ice Shelf."
   ]
  },
  {
   "cell_type": "code",
   "execution_count": null,
   "metadata": {},
   "outputs": [],
   "source": [
    "import subprocess\n",
    "import geojson\n",
    "import firedrake\n",
    "import icepack\n",
    "\n",
    "outline_filename = icepack.datasets.fetch_outline(\"larsen-2015\")\n",
    "with open(outline_filename, \"r\") as outline_file:\n",
    "    outline = geojson.load(outline_file)\n",
    "\n",
    "geometry = icepack.meshing.collection_to_geo(outline)\n",
    "with open(\"larsen.geo\", \"w\") as geo_file:\n",
    "    geo_file.write(geometry.get_code())\n",
    "    \n",
    "command = \"gmsh -2 -format msh2 -v 2 -o larsen.msh larsen.geo\"\n",
    "subprocess.run(command.split())\n",
    "mesh = firedrake.Mesh(\"larsen.msh\")"
   ]
  },
  {
   "cell_type": "markdown",
   "metadata": {},
   "source": [
    "The code below is the same boilerplate as in the previous tutorial for plotting simulation results on top of the mosaic of Antarctica image."
   ]
  },
  {
   "cell_type": "code",
   "execution_count": null,
   "metadata": {},
   "outputs": [],
   "source": [
    "import numpy as np\n",
    "import rasterio\n",
    "import icepack.plot\n",
    "\n",
    "coords = np.array(list(geojson.utils.coords(outline)))\n",
    "δ = 5e3\n",
    "xmin, xmax = coords[:, 0].min() - δ, coords[:, 0].max() + δ\n",
    "ymin, ymax = coords[:, 1].min() - δ, coords[:, 1].max() + δ\n",
    "\n",
    "image_filename = icepack.datasets.fetch_mosaic_of_antarctica()\n",
    "with rasterio.open(image_filename, \"r\") as image_file:\n",
    "    image_window = rasterio.windows.from_bounds(\n",
    "        left=xmin,\n",
    "        bottom=ymin,\n",
    "        right=xmax,\n",
    "        top=ymax,\n",
    "        transform=image_file.transform,\n",
    "    )\n",
    "    image = image_file.read(indexes=1, window=image_window, masked=True)\n",
    "\n",
    "\n",
    "def subplots(*args, **kwargs):\n",
    "    fig, axes = icepack.plot.subplots(*args, **kwargs)\n",
    "    xmin, ymin, xmax, ymax = rasterio.windows.bounds(\n",
    "        image_window, image_file.transform\n",
    "    )\n",
    "    kw = {\n",
    "        \"extent\": (xmin, xmax, ymin, ymax),\n",
    "        \"cmap\": \"Greys_r\",\n",
    "        \"vmin\": 12e3,\n",
    "        \"vmax\": 16.38e3,\n",
    "    }\n",
    "    try:\n",
    "        axes.imshow(image, **kw)\n",
    "    except AttributeError:\n",
    "        for ax in axes:\n",
    "            ax.imshow(image, **kw)\n",
    "\n",
    "    return fig, axes"
   ]
  },
  {
   "cell_type": "code",
   "execution_count": null,
   "metadata": {},
   "outputs": [],
   "source": [
    "fig, axes = subplots()\n",
    "axes.set_xlabel(\"meters\")\n",
    "kwargs = {\n",
    "    \"interior_kw\": {\"linewidth\": 0.25},\n",
    "    \"boundary_kw\": {\"linewidth\": 2},\n",
    "}\n",
    "icepack.plot.triplot(mesh, axes=axes, **kwargs)\n",
    "axes.legend();"
   ]
  },
  {
   "cell_type": "markdown",
   "metadata": {},
   "source": [
    "Just like in the previous demos, we'll apply a smoothing filter to the thickness, which is necessary to get a reasonable driving stress."
   ]
  },
  {
   "cell_type": "code",
   "execution_count": null,
   "metadata": {},
   "outputs": [],
   "source": [
    "from firedrake import assemble, Constant, inner, grad, dx\n",
    "\n",
    "thickness_filename = icepack.datasets.fetch_bedmachine_antarctica()\n",
    "thickness = rasterio.open(f\"netcdf:{thickness_filename}:thickness\", \"r\")\n",
    "\n",
    "Q = firedrake.FunctionSpace(mesh, family=\"CG\", degree=2)\n",
    "h0 = icepack.interpolate(thickness, Q)\n",
    "\n",
    "h = h0.copy(deepcopy=True)\n",
    "α = Constant(2e3)\n",
    "J = 0.5 * ((h - h0) ** 2 + α ** 2 * inner(grad(h), grad(h))) * dx\n",
    "F = firedrake.derivative(J, h)\n",
    "firedrake.solve(F == 0, h)"
   ]
  },
  {
   "cell_type": "markdown",
   "metadata": {},
   "source": [
    "### Point data\n",
    "\n",
    "Before, we were able to just interpolate the gridded data directly from rasterio datasets to the finite element spaces we were using for the velocity.\n",
    "We're going to have to do a bit more work now that we want to work with the point data directly."
   ]
  },
  {
   "cell_type": "code",
   "execution_count": null,
   "metadata": {},
   "outputs": [],
   "source": [
    "velocity_filename = icepack.datasets.fetch_measures_antarctica()\n",
    "vx_file = rasterio.open(f\"netcdf:{velocity_filename}:VX\", \"r\")\n",
    "vy_file = rasterio.open(f\"netcdf:{velocity_filename}:VY\", \"r\")\n",
    "stdx_file = rasterio.open(f\"netcdf:{velocity_filename}:ERRX\", \"r\")\n",
    "stdy_file = rasterio.open(f\"netcdf:{velocity_filename}:ERRY\", \"r\")"
   ]
  },
  {
   "cell_type": "markdown",
   "metadata": {},
   "source": [
    "For starters, we'll want to create window objects around the observational data just like we did for reading the mosaic of Antarctica image.\n",
    "The windowed transform of the original data will help us to find which points in the raw data are contained inside the mesh."
   ]
  },
  {
   "cell_type": "code",
   "execution_count": null,
   "metadata": {},
   "outputs": [],
   "source": [
    "window = rasterio.windows.from_bounds(\n",
    "    left=xmin,\n",
    "    bottom=ymin,\n",
    "    right=xmax,\n",
    "    top=ymax,\n",
    "    transform=vx_file.transform,\n",
    ").round_lengths().round_offsets()\n",
    "transform = vx_file.window_transform(window)"
   ]
  },
  {
   "cell_type": "markdown",
   "metadata": {},
   "source": [
    "Just so you can get an idea of how dense the data are, the plot below zooms in on part of the shelf near the Gipps Ice Rise.\n",
    "The data points are shown in orange and the mesh triangles in black; in this region, there are about 10-15 data points in each triangle.\n",
    "In other regions, the mesh is much finer or coarser and so the data density could be different."
   ]
  },
  {
   "cell_type": "code",
   "execution_count": null,
   "metadata": {},
   "outputs": [],
   "source": [
    "xs = np.array(\n",
    "    [\n",
    "        transform * (i, j)\n",
    "        for i in range(window.width)\n",
    "        for j in range(window.height)\n",
    "    ]\n",
    ")\n",
    "\n",
    "fig, axes = subplots()\n",
    "firedrake.triplot(mesh, axes=axes, interior_kw={\"linewidth\": 0.25})\n",
    "axes.set_xlim((-2.07e6, -2.06e6))\n",
    "axes.set_ylim((1.135e6, 1.145e6))\n",
    "axes.scatter(xs[:, 0], xs[:, 1], 4.0, \"tab:orange\");"
   ]
  },
  {
   "cell_type": "markdown",
   "metadata": {},
   "source": [
    "Next we'll use the `locate_cell` method of the mesh to determine which points of the gridded data set are inside the computational domain."
   ]
  },
  {
   "cell_type": "code",
   "execution_count": null,
   "metadata": {},
   "outputs": [],
   "source": [
    "indices = np.array(\n",
    "    [\n",
    "        (i, j)\n",
    "        for i in range(window.width)\n",
    "        for j in range(window.height)\n",
    "        if mesh.locate_cell(transform * (i, j))\n",
    "    ]\n",
    ")\n",
    "xs = np.array([transform * idx for idx in indices])"
   ]
  },
  {
   "cell_type": "markdown",
   "metadata": {},
   "source": [
    "The object that represents this point set from the Firedrake side is called `VertexOnlyMesh`.\n",
    "To create a vertex-only mesh, we need to supply the background domain and the coordinates of the point cloud.\n",
    "This step can take some time because there are a lot of points to go through; under the hood, Firedrake is looking through the background mesh to find which triangle each point lives in.\n",
    "\n",
    "We're also passing an extra argument to make sure that creating the vertex-only mesh will crash in the event that one of the input points is outside of the domain.\n",
    "This extra flag isn't necessary in our case because we've already made sure that all the points are inside the domain, but it's helpful to know about this flag for debugging later if, say, the sizes of the arrays don't match up."
   ]
  },
  {
   "cell_type": "code",
   "execution_count": null,
   "metadata": {},
   "outputs": [],
   "source": [
    "point_set = firedrake.VertexOnlyMesh(\n",
    "    mesh, xs, missing_points_behaviour=\"error\"\n",
    ")"
   ]
  },
  {
   "cell_type": "markdown",
   "metadata": {},
   "source": [
    "We can create function spaces defined on this point set just like we make function spaces defined on triangular meshes.\n",
    "We're specifying the element family as \"DG\" for discontinuous Galerkin, but strictly speaking this doesn't really matter -- on a point cloud, continuous and discontinuous Galerkin representations are the same."
   ]
  },
  {
   "cell_type": "code",
   "execution_count": null,
   "metadata": {},
   "outputs": [],
   "source": [
    "Δ = firedrake.FunctionSpace(point_set, \"DG\", 0)\n",
    "\n",
    "u_o = firedrake.Function(Δ)\n",
    "v_o = firedrake.Function(Δ)\n",
    "σ_x = firedrake.Function(Δ)\n",
    "σ_y = firedrake.Function(Δ)"
   ]
  },
  {
   "cell_type": "markdown",
   "metadata": {},
   "source": [
    "To fill these functions, we'll extract the values at the right indices of the gridded data and stuff them into the raw data array."
   ]
  },
  {
   "cell_type": "code",
   "execution_count": null,
   "metadata": {},
   "outputs": [],
   "source": [
    "vx = vx_file.read(indexes=1, window=window)\n",
    "vy = vy_file.read(indexes=1, window=window)\n",
    "stdx = stdx_file.read(indexes=1, window=window)\n",
    "stdy = stdy_file.read(indexes=1, window=window)\n",
    "\n",
    "u_o.dat.data[:] = vx[indices[:, 1], indices[:, 0]]\n",
    "v_o.dat.data[:] = vy[indices[:, 1], indices[:, 0]]\n",
    "σ_x.dat.data[:] = stdx[indices[:, 1], indices[:, 0]]\n",
    "σ_y.dat.data[:] = stdy[indices[:, 1], indices[:, 0]]"
   ]
  },
  {
   "cell_type": "markdown",
   "metadata": {},
   "source": [
    "Finally, we'll make an initial guess for the ice velocity by interpolating the gridded data to the triangular mesh."
   ]
  },
  {
   "cell_type": "code",
   "execution_count": null,
   "metadata": {},
   "outputs": [],
   "source": [
    "V = firedrake.VectorFunctionSpace(mesh, \"CG\", 2)\n",
    "u_initial = icepack.interpolate((vx_file, vy_file), V)"
   ]
  },
  {
   "cell_type": "markdown",
   "metadata": {},
   "source": [
    "We need to make an initial guess for the fluidity parameter.\n",
    "In this case, we'll use the same value as in the second demo -- a constant fluidity assuming a temperature of -13C."
   ]
  },
  {
   "cell_type": "code",
   "execution_count": null,
   "metadata": {},
   "outputs": [],
   "source": [
    "T = Constant(260)\n",
    "A0 = icepack.rate_factor(T)\n",
    "\n",
    "\n",
    "def viscosity(**kwargs):\n",
    "    u = kwargs[\"velocity\"]\n",
    "    h = kwargs[\"thickness\"]\n",
    "    θ = kwargs[\"log_fluidity\"]\n",
    "\n",
    "    A = A0 * firedrake.exp(θ)\n",
    "    return icepack.models.viscosity.viscosity_depth_averaged(\n",
    "        velocity=u, thickness=h, fluidity=A\n",
    "    )\n",
    "\n",
    "\n",
    "model = icepack.models.IceShelf(viscosity=viscosity)\n",
    "opts = {\n",
    "    \"dirichlet_ids\": [2, 4, 5, 6, 7, 8, 9],\n",
    "    \"diagnostic_solver_type\": \"petsc\",\n",
    "    \"diagnostic_solver_parameters\": {\n",
    "        \"snes_type\": \"newtontr\",\n",
    "        \"ksp_type\": \"gmres\",\n",
    "        \"pc_type\": \"lu\",\n",
    "        \"pc_factor_mat_solver_type\": \"mumps\",\n",
    "    },\n",
    "}\n",
    "solver = icepack.solvers.FlowSolver(model, **opts)\n",
    "\n",
    "θ = firedrake.Function(Q)\n",
    "u = solver.diagnostic_solve(\n",
    "    velocity=u_initial,\n",
    "    thickness=h,\n",
    "    log_fluidity=θ,\n",
    ")"
   ]
  },
  {
   "cell_type": "markdown",
   "metadata": {},
   "source": [
    "Let's look at the computed of the ice velocity starting from our assumption that the fluidity is constant in space."
   ]
  },
  {
   "cell_type": "code",
   "execution_count": null,
   "metadata": {},
   "outputs": [],
   "source": [
    "fig, axes = subplots()\n",
    "kwargs = {\"precision\": 1000, \"density\": 2500, \"vmin\": 0, \"vmax\": 750}\n",
    "icepack.plot.streamplot(u, axes=axes, **kwargs);"
   ]
  },
  {
   "cell_type": "markdown",
   "metadata": {},
   "source": [
    "Now let's start with a taste of what comes next: interpolating this computed velocity to the vertex only mesh and evaluating the model-data misfit.\n",
    "The real work is happening here in the two calls to `interpolate` right at the beginning of this cell.\n",
    "The `interpolate` method can do more than just interpolate an algebraic expression into a finite element space -- it can also interpolate a Function defined on one mesh to a Function defined on a point cloud."
   ]
  },
  {
   "cell_type": "code",
   "execution_count": null,
   "metadata": {},
   "outputs": [],
   "source": [
    "u_interp = firedrake.interpolate(u[0], Δ)\n",
    "v_interp = firedrake.interpolate(u[1], Δ)\n",
    "\n",
    "δu, δv = u_interp - u_o, v_interp - v_o\n",
    "\n",
    "square_error = (δu / σ_x)**2 + (δv / σ_y)**2\n",
    "\n",
    "N = len(indices)\n",
    "initial_misfit = assemble(0.5 * square_error * dx) / N\n",
    "print(initial_misfit)"
   ]
  },
  {
   "cell_type": "markdown",
   "metadata": {},
   "source": [
    "To sum up expressions over the point cloud, we use the `assemble` function and the measure `dx` just like we do on ordinary triangular meshes!"
   ]
  },
  {
   "cell_type": "markdown",
   "metadata": {},
   "source": [
    "### Inferring the fluidity\n",
    "\n",
    "There are four parts that go into an inverse problem:\n",
    "\n",
    "* a physics model\n",
    "* an initial guess for the parameter and state\n",
    "* an error metric\n",
    "* a smoothness metric\n",
    "\n",
    "We already have the physics model and some initial guesses.\n",
    "The physics are wrapped up in the Python function `simulation` defined below; we'll pass this function when we create the inverse problem."
   ]
  },
  {
   "cell_type": "code",
   "execution_count": null,
   "metadata": {},
   "outputs": [],
   "source": [
    "def simulation(θ):\n",
    "    return solver.diagnostic_solve(\n",
    "        velocity=u_initial, thickness=h, log_fluidity=θ\n",
    "    )"
   ]
  },
  {
   "cell_type": "markdown",
   "metadata": {},
   "source": [
    "Since the ice shelf is so large, we're going to want to scale some of our output quantities of interest by the area of the shelf.\n",
    "This will make everything into nice dimensionless numbers, rather than on the order of $10{}^{10}$."
   ]
  },
  {
   "cell_type": "code",
   "execution_count": null,
   "metadata": {},
   "outputs": [],
   "source": [
    "area = Constant(assemble(Constant(1.0) * dx(mesh)))"
   ]
  },
  {
   "cell_type": "markdown",
   "metadata": {},
   "source": [
    "The next step is to write a pair of Python functions that will create the model-data misfit functional and the regularization functional.\n",
    "In the previous demo on inverse problems, we scaled both of these quantities by the area of the domain in order to get nice dimensionless quantities.\n",
    "Here the loss functional isn't an area integral -- it's a sum over discrete points.\n",
    "Instead, we'll divide by the number of observations."
   ]
  },
  {
   "cell_type": "code",
   "execution_count": null,
   "metadata": {},
   "outputs": [],
   "source": [
    "def loss_functional(u):\n",
    "    u_interp = firedrake.interpolate(u[0], Δ)\n",
    "    v_interp = firedrake.interpolate(u[1], Δ)\n",
    "    δu, δv = u_interp - u_o, v_interp - v_o\n",
    "    return 0.5 / Constant(N) * ((δu / σ_x)**2 + (δv / σ_y)**2) * dx\n",
    "\n",
    "\n",
    "def regularization(θ):\n",
    "    Θ = Constant(1.)\n",
    "    L = Constant(7.5e3)\n",
    "    return 0.5 / area * (L / Θ)**2 * inner(grad(θ), grad(θ)) * dx"
   ]
  },
  {
   "cell_type": "markdown",
   "metadata": {},
   "source": [
    "Now we'll create create a `StatisticsProblem` object.\n",
    "To specify the problem, we need to give it a procedure for running the simulation, another procedure for evaluating how good our guess is, and an initial guess for the unknown parameters."
   ]
  },
  {
   "cell_type": "code",
   "execution_count": null,
   "metadata": {},
   "outputs": [],
   "source": [
    "from icepack.statistics import StatisticsProblem, MaximumProbabilityEstimator\n",
    "\n",
    "problem = StatisticsProblem(\n",
    "    simulation=simulation,\n",
    "    loss_functional=loss_functional,\n",
    "    regularization=regularization,\n",
    "    controls=θ,\n",
    ")"
   ]
  },
  {
   "cell_type": "markdown",
   "metadata": {},
   "source": [
    "Now that we've specified the problem, we'll create a `MaximumProbabilityEstimator` to look for a solution.\n",
    "The runtime is about the same as in the previous demo, so feel free to put on a fresh pot of coffee."
   ]
  },
  {
   "cell_type": "code",
   "execution_count": null,
   "metadata": {},
   "outputs": [],
   "source": [
    "estimator = MaximumProbabilityEstimator(\n",
    "    problem,\n",
    "    gradient_tolerance=1e-4,\n",
    "    step_tolerance=1e-1,\n",
    "    max_iterations=50,\n",
    ")\n",
    "θ = estimator.solve()"
   ]
  },
  {
   "cell_type": "markdown",
   "metadata": {},
   "source": [
    "As before, the algorithm reduces the objective by two orders of magnitude by the time it's converged.\n",
    "The computed log-fluidity field looks very similar to the one obtained when we matched the computed velocity to the field obtained by interpolating the observations to the mesh."
   ]
  },
  {
   "cell_type": "code",
   "execution_count": null,
   "metadata": {},
   "outputs": [],
   "source": [
    "fig, axes = subplots()\n",
    "colors = icepack.plot.tripcolor(θ, vmin=-5, vmax=+5, axes=axes)\n",
    "fig.colorbar(colors);"
   ]
  },
  {
   "cell_type": "markdown",
   "metadata": {},
   "source": [
    "### Conclusion\n",
    "\n",
    "The results we obtained from assimilating the point data directly were mostly similar to those we obtained from interpolating them to the finite element mesh.\n",
    "Why go through the exercise at all?\n",
    "\n",
    "One of the advantages of assimilating sparse point data directly is that we can be more rigorous about the statistical interpretation of our results.\n",
    "If we assume that the observational data are normally distributed about the true velocity values with mean 0 and with standard deviation as reported in the remote sensing product, then the sum of squared errors is a $\\chi^2$ random variable with $N - M$ degrees of freedom, where $N$ is the number of observation points and $M$ is the number of degrees of freedom of the parameters we're fitting."
   ]
  },
  {
   "cell_type": "code",
   "execution_count": null,
   "metadata": {},
   "outputs": [],
   "source": [
    "u = simulation(θ)\n",
    "χ_2 = assemble(loss_functional(u))\n",
    "print(χ_2)"
   ]
  },
  {
   "cell_type": "markdown",
   "metadata": {},
   "source": [
    "By using the point data directly, we know exactly what $N$ is, which isn't true at all when we're comparing to a velocity that's been interpolated to a mesh that could have a more or less arbitrary and variable resolution.\n",
    "We still have the problem of determining the number $M$ of degrees of freedom, which is a little more involved because of the regularization; we have to read it off from the trace of the posterior covariance matrix.\n",
    "That's outside the scope of this tutorial, but we could also have, for example, used a few eigenfunctions of the Laplace operator as a fixed set of basis functions with no regularization instead.\n",
    "In any case, using the raw data gets us closer to a statistical exactitude.\n",
    "If we can't fit our model to observations as well as we expect, that suggests either that we've mis-characterized the statistical properties of the observations or that our model is incorrect.\n",
    "\n",
    "The second key advantage was not apparent in this notebook but does show up in other applications.\n",
    "Here we used a gridded data product with fairly dense coverage over the domain of interest.\n",
    "Other data sources are genuinely sparse, for example laser altimetry measurements from ICESat-2, radar sounding from Operation IceBridge flights, or even strain gauge or thermometry data from isolated boreholes."
   ]
  }
 ],
 "metadata": {
  "kernelspec": {
   "display_name": "firedrake",
   "language": "python",
   "name": "firedrake"
  },
  "language_info": {
   "codemirror_mode": {
    "name": "ipython",
    "version": 3
   },
   "file_extension": ".py",
   "mimetype": "text/x-python",
   "name": "python",
   "nbconvert_exporter": "python",
   "pygments_lexer": "ipython3",
   "version": "3.10.4"
  }
 },
 "nbformat": 4,
 "nbformat_minor": 2
}
