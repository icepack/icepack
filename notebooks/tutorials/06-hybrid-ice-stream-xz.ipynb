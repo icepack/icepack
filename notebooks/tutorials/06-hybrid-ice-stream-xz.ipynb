{
 "cells": [
  {
   "cell_type": "markdown",
   "metadata": {},
   "source": [
    "# Ice streams, once more\n",
    "\n",
    "In this demo, we'll revisit the ice stream scenario from before but with a different model.\n",
    "The model that we'll use here can resolve both *plug flow* and *shear flow*.\n",
    "The velocity is a plug flow if the velocity is roughly constanty with depth, whereas in shear flow the speed at the ice base is much smaller than at the ice surface.\n",
    "Deep in the interior of an ice sheet, most flow is by vertical shear, whereas the fast ice streams near the margins are roughly in plug flow.\n",
    "The shallow stream equations, and the `IceStream` class we used to solve them in the third demo, assume plug flow and thus are limited in the regions where they can be applied without substantial error.\n",
    "The `HybridModel` class we'll use here has no such limitation."
   ]
  },
  {
   "cell_type": "markdown",
   "metadata": {},
   "source": [
    "### Geometry and input data\n",
    "\n",
    "We'll use the same footprint geometry as the ice stream demo, but since we're working with a flowband instead of a flowline model, we'll need a mesh that resolves the $z$ direction as well as $x$.\n",
    "The model we will use is posed entirely in *terrain-following coordinates*, where the $z$-axis is remapped into the interval $[0, 1]$.\n",
    "This new coordinate is defined as\n",
    "\n",
    "$$\\zeta = \\frac{z - b}{h}$$\n",
    "\n",
    "and the inverse transformation is $z = h\\zeta + b$.\n",
    "In the absence of terminus advance or iceberg calving, the transformation to this coordinate system makes the logical geometry of problem completely steady even though the surface can be rising or falling.\n",
    "\n",
    "Firedrake includes built-in support generating *extruded meshes* out of a footprint mesh.\n",
    "Rather than use a large number of vertical layers to achieve high resolution of functions defined on this mesh, we'll use only one layer but high-degree basis functions."
   ]
  },
  {
   "cell_type": "code",
   "execution_count": null,
   "metadata": {},
   "outputs": [],
   "source": [
    "import firedrake\n",
    "\n",
    "Lx = 50e3\n",
    "nx = 48\n",
    "mesh1d = firedrake.IntervalMesh(nx, Lx)\n",
    "mesh = firedrake.ExtrudedMesh(mesh1d, layers=1)"
   ]
  },
  {
   "cell_type": "markdown",
   "metadata": {},
   "source": [
    "To define a function space on an extruded mesh, the only change over 1D function spaces is the addition of the `vfamily` and `vdegree` arguments.\n",
    "These describe respectively the finite element type and polynomial degree in the vertical direction.\n",
    "The surface and bed elevation only have to be defined on the footprint mesh, so we'll use vertical basis functions that are constant."
   ]
  },
  {
   "cell_type": "code",
   "execution_count": null,
   "metadata": {},
   "outputs": [],
   "source": [
    "Q = firedrake.FunctionSpace(\n",
    "    mesh, family='CG', degree=2,\n",
    "    vfamily='R', vdegree=0\n",
    ")"
   ]
  },
  {
   "cell_type": "markdown",
   "metadata": {},
   "source": [
    "The function space for the velocities is more interesting.\n",
    "Rather than use the usual continuous or discontinuous Galerkin finite element bases in the vertical, we'll use *Gauss-Legendre* elements.\n",
    "This finite element uses [Legendre polynomials](https://en.wikipedia.org/wiki/Legendre_polynomials) instead of the Lagrange interpolating polynomials.\n",
    "The Legendre polynomials are advantageous because they are mutually orthogonal."
   ]
  },
  {
   "cell_type": "code",
   "execution_count": null,
   "metadata": {},
   "outputs": [],
   "source": [
    "V = firedrake.FunctionSpace(\n",
    "    mesh, family='CG', degree=2,\n",
    "    vfamily='GL', vdegree=2\n",
    ")"
   ]
  },
  {
   "cell_type": "markdown",
   "metadata": {},
   "source": [
    "Creating the input data is mostly the same as before.\n",
    "The `SpatialCoordinate` function now returns an additional symbol representing the terrain-following coordinate $\\zeta$."
   ]
  },
  {
   "cell_type": "code",
   "execution_count": null,
   "metadata": {},
   "outputs": [],
   "source": [
    "from icepack.constants import (\n",
    "    ice_density as ρ_I,\n",
    "    water_density as ρ_W,\n",
    "    weertman_sliding_law as m,\n",
    "    gravity as g,\n",
    ")\n",
    "\n",
    "x, ζ = firedrake.SpatialCoordinate(mesh)"
   ]
  },
  {
   "cell_type": "code",
   "execution_count": null,
   "metadata": {},
   "outputs": [],
   "source": [
    "b_in, b_out = 200, -400\n",
    "b = firedrake.interpolate(b_in - (b_in - b_out) * x / Lx, Q)\n",
    "\n",
    "s_in, s_out = 850, 50\n",
    "s0 = firedrake.interpolate(s_in - (s_in - s_out) * x / Lx, Q)\n",
    "\n",
    "h0 = firedrake.interpolate(s0 - b, Q)"
   ]
  },
  {
   "cell_type": "code",
   "execution_count": null,
   "metadata": {},
   "outputs": [],
   "source": [
    "h_in = s_in - b_in\n",
    "δs_δx = (s_out - s_in) / Lx\n",
    "τ_D = -ρ_I * g * h_in * δs_δx"
   ]
  },
  {
   "cell_type": "code",
   "execution_count": null,
   "metadata": {},
   "outputs": [],
   "source": [
    "u_in, u_out = 20, 2400\n",
    "velocity_x = u_in + (u_out - u_in) * (x/Lx)**2\n",
    "u0 = firedrake.interpolate(velocity_x, V)"
   ]
  },
  {
   "cell_type": "code",
   "execution_count": null,
   "metadata": {},
   "outputs": [],
   "source": [
    "import icepack\n",
    "\n",
    "T = firedrake.Constant(255.0)\n",
    "A = icepack.rate_factor(T)"
   ]
  },
  {
   "cell_type": "code",
   "execution_count": null,
   "metadata": {},
   "outputs": [],
   "source": [
    "C = firedrake.interpolate((0.95 - 0.05 * x/Lx) * τ_D / u_in**(1/m), Q)\n",
    "\n",
    "p_W = ρ_W * g * firedrake.max_value(0, h0 - s0)\n",
    "p_I = ρ_I * g * h0\n",
    "ϕ = 1 - p_W / p_I"
   ]
  },
  {
   "cell_type": "markdown",
   "metadata": {},
   "source": [
    "The bed friction can be re-parameterized for the hybrid model in the same way as for the ice stream model."
   ]
  },
  {
   "cell_type": "code",
   "execution_count": null,
   "metadata": {},
   "outputs": [],
   "source": [
    "import icepack.models.hybrid\n",
    "\n",
    "def friction(**kwargs):\n",
    "    u = kwargs['velocity']\n",
    "    h = kwargs['thickness']\n",
    "    s = kwargs['surface']\n",
    "    C = kwargs['friction']\n",
    "    \n",
    "    p_W = ρ_W * g * firedrake.max_value(0, h - s)\n",
    "    p_I = ρ_I * g * h\n",
    "    ϕ = 1 - p_W / p_I\n",
    "    return icepack.models.hybrid.bed_friction(\n",
    "        velocity=u, \n",
    "        friction=C * ϕ\n",
    "    )"
   ]
  },
  {
   "cell_type": "markdown",
   "metadata": {},
   "source": [
    "The setup is the same as in the ice stream case, only here we're using `HybridModel` instead of `IceStream`.\n",
    "Creating a `FlowSolver` works exactly the same as it did before no matter what model we're using."
   ]
  },
  {
   "cell_type": "code",
   "execution_count": null,
   "metadata": {},
   "outputs": [],
   "source": [
    "model = icepack.models.HybridModel(friction=friction)\n",
    "opts = {\n",
    "    \"dirichlet_ids\": [1],\n",
    "    \"diagnostic_solver_type\": \"petsc\",\n",
    "    \"diagnostic_solver_parameters\": {\"snes_type\": \"newtontr\"},\n",
    "}\n",
    "solver = icepack.solvers.FlowSolver(model, **opts)\n",
    "\n",
    "u0 = solver.diagnostic_solve(\n",
    "    velocity=u0,\n",
    "    thickness=h0,\n",
    "    surface=s0,\n",
    "    fluidity=A,\n",
    "    friction=C\n",
    ")"
   ]
  },
  {
   "cell_type": "markdown",
   "metadata": {},
   "source": [
    "One of the major differences between working with flowline and flowband models is that the fields are posed on different geometries and so the kinds of plots we can make are different.\n",
    "Firedrake can make contour plots of flowband fields, but often we only care about changes in the horizontal dimension.\n",
    "The function `depth_average` will integrate a flowband field with respect to $\\zeta$ and give us back the corresponding 1D function, which we can then make line plots of.\n",
    "(At the end of this demo we'll show how to make plots of the vertical variability.)"
   ]
  },
  {
   "cell_type": "code",
   "execution_count": null,
   "metadata": {},
   "outputs": [],
   "source": [
    "import matplotlib.pyplot as plt\n",
    "\n",
    "fig, axes = plt.subplots()\n",
    "axes.set_xlabel(\"distance (m)\")\n",
    "axes.set_ylabel(\"speed (m / yr)\")\n",
    "firedrake.plot(icepack.depth_average(u0), axes=axes);"
   ]
  },
  {
   "cell_type": "markdown",
   "metadata": {},
   "source": [
    "### Modeling\n",
    "\n",
    "The code to run the hybrid model is identical to that of the ice stream demo."
   ]
  },
  {
   "cell_type": "code",
   "execution_count": null,
   "metadata": {},
   "outputs": [],
   "source": [
    "import tqdm\n",
    "\n",
    "num_years = 250\n",
    "timesteps_per_year = 2\n",
    "\n",
    "δt = 1.0 / timesteps_per_year\n",
    "num_timesteps = num_years * timesteps_per_year\n",
    "\n",
    "a = firedrake.interpolate(1.7 - 2.7 * x / Lx, Q)\n",
    "h = h0.copy(deepcopy=True)\n",
    "u = u0.copy(deepcopy=True)\n",
    "\n",
    "for step in tqdm.trange(num_timesteps):\n",
    "    h = solver.prognostic_solve(\n",
    "        δt,\n",
    "        thickness=h,\n",
    "        velocity=u,\n",
    "        accumulation=a,\n",
    "        thickness_inflow=h0\n",
    "    )\n",
    "    s = icepack.compute_surface(thickness=h, bed=b)\n",
    "    \n",
    "    u = solver.diagnostic_solve(\n",
    "        velocity=u,\n",
    "        thickness=h,\n",
    "        surface=s,\n",
    "        fluidity=A,\n",
    "        friction=C\n",
    "    )"
   ]
  },
  {
   "cell_type": "markdown",
   "metadata": {},
   "source": [
    "As a sanity check, we can plot the thickness, velocity, and mass balance.\n",
    "These give very similar results in the eyeball norm to our previous demo assuming only plug flow.\n",
    "Note again that there are some wiggles on the upstream boundary.\n",
    "This is the expected rapid adjustment of the ice within a few kilometers of the upstream boundary when the system isn't quite in equilibrium with the inflow values.\n",
    "In a later notebook, we'll show how to relax the inflow values to equilibrate the two.\n",
    "\n",
    "We're calling the `depth_average` function on the ice thickness below, which might seem a little weird.\n",
    "Again, this is just a trick to get the thickness field, which is strictly defined on the mesh of the whole domain in x and z, onto the 1D footprint mesh."
   ]
  },
  {
   "cell_type": "code",
   "execution_count": null,
   "metadata": {},
   "outputs": [],
   "source": [
    "fig, axes = plt.subplots()\n",
    "axes.set_ylabel(\"thickness (m)\")\n",
    "firedrake.plot(icepack.depth_average(h), axes=axes);"
   ]
  },
  {
   "cell_type": "markdown",
   "metadata": {},
   "source": [
    "The velocity profile again reproduces the gradual rise to a high value attained on the ice shelf."
   ]
  },
  {
   "cell_type": "code",
   "execution_count": null,
   "metadata": {},
   "outputs": [],
   "source": [
    "fig, axes = plt.subplots()\n",
    "axes.set_ylabel(\"ice speed (m / yr)\")\n",
    "firedrake.plot(icepack.depth_average(u), axes=axes);"
   ]
  },
  {
   "cell_type": "markdown",
   "metadata": {},
   "source": [
    "Next, we'd like to plot the total mass balance, which in this case is\n",
    "\n",
    "$$f = a - \\frac{\\partial}{\\partial x}(hu).$$\n",
    "\n",
    "Again, there are some oscillations upstream of the grounding line, but the overall magnitude is much smaller than when we started the simulation."
   ]
  },
  {
   "cell_type": "code",
   "execution_count": null,
   "metadata": {},
   "outputs": [],
   "source": [
    "f = icepack.depth_average(firedrake.project(a - (h * u).dx(0), Q))\n",
    "fig, axes = plt.subplots()\n",
    "axes.set_ylim(-0.1, +0.1)\n",
    "axes.set_ylabel(\"meters / year\")\n",
    "colors = firedrake.plot(f, axes=axes);"
   ]
  },
  {
   "cell_type": "markdown",
   "metadata": {},
   "source": [
    "To put everything together, we'll plot the geometry of the equilibrated ice stream, with the bed in brown and the ice base and surface in blue.\n",
    "The results are again very similar to that of the ice stream case."
   ]
  },
  {
   "cell_type": "code",
   "execution_count": null,
   "metadata": {},
   "outputs": [],
   "source": [
    "fig, axes = plt.subplots()\n",
    "axes.set_xlabel('distance along centerline (m)')\n",
    "axes.set_ylabel('elevation (m)');\n",
    "firedrake.plot(icepack.depth_average(b), edgecolor='tab:brown', axes=axes)\n",
    "z_b = firedrake.interpolate(s - h, Q)\n",
    "firedrake.plot(icepack.depth_average(z_b), edgecolor='tab:blue', axes=axes)\n",
    "firedrake.plot(icepack.depth_average(s), edgecolor='tab:blue', axes=axes);"
   ]
  },
  {
   "cell_type": "markdown",
   "metadata": {},
   "source": [
    "### Resolving shear flow\n",
    "\n",
    "Unlike the ice stream model, however, the hybrid model can resolve vertical shear flow.\n",
    "To quantity the degree to which the glacier is in plug flow vs shear flow, we can calculate a weighted depth average of the velocity.\n",
    "In this case, we'll use the function\n",
    "\n",
    "$$q(\\zeta) = \\sqrt 3 \\cdot (2\\zeta - 1)$$\n",
    "\n",
    "as our weight function.\n",
    "This weight is odd when reflected over the axis $\\zeta = 1/2$, so it's orthogonal to all plug flow fields.\n",
    "The extra factor of $\\sqrt 3$ is there to normalize the weight function so that\n",
    "\n",
    "$$\\int_0^1q(\\zeta)^2d\\zeta = 1.$$\n",
    "\n",
    "This weight is actually just the degree-1 Legendre polynomial, normalized and shifted over to the interval $[0, 1]$.\n",
    "\n",
    "We've already seen the `depth_average` function used before to turn fields defined on the full mesh in x and z into fields on the 1D mesh.\n",
    "It can also evaluate a weighted averages.\n",
    "The weight can be any expression; in our case we're using a polynomial in the symbol $\\zeta$, but we could also have used another finite element function."
   ]
  },
  {
   "cell_type": "code",
   "execution_count": null,
   "metadata": {},
   "outputs": [],
   "source": [
    "import numpy as np\n",
    "\n",
    "u_shear = icepack.depth_average(u, weight=np.sqrt(3) * (2 * ζ - 1))"
   ]
  },
  {
   "cell_type": "markdown",
   "metadata": {},
   "source": [
    "To wrap things up, let's plot the shear flow mode and do a bit of postprocessing."
   ]
  },
  {
   "cell_type": "code",
   "execution_count": null,
   "metadata": {},
   "outputs": [],
   "source": [
    "fig, axes = plt.subplots()\n",
    "axes.set_title(\"Shear component of ice velocity\")\n",
    "axes.set_ylabel(\"velocity (m / yr)\")\n",
    "firedrake.plot(u_shear, axes=axes);"
   ]
  },
  {
   "cell_type": "markdown",
   "metadata": {},
   "source": [
    "The region where the velocity has a significant shear flow component is confined to the left half of the domain, where the ice is grounded.\n",
    "There is virtually no shear flow at all in the right half of the domain where the ice is floating, just as we expect.\n",
    "To be more exact, we can also calculate the unweighted depth average of the velocity and take the ratio of the two components."
   ]
  },
  {
   "cell_type": "code",
   "execution_count": null,
   "metadata": {},
   "outputs": [],
   "source": [
    "from firedrake import inner, sqrt\n",
    "\n",
    "u_avg = icepack.depth_average(u)\n",
    "\n",
    "U_shear = sqrt(inner(u_shear, u_shear))\n",
    "U_avg = sqrt(inner(u_avg, u_avg))\n",
    "ratio = firedrake.interpolate(U_shear / U_avg, u_avg.function_space())"
   ]
  },
  {
   "cell_type": "code",
   "execution_count": null,
   "metadata": {},
   "outputs": [],
   "source": [
    "fig, axes = plt.subplots()\n",
    "axes.set_title(\"Ratio of shear / plug flow\")\n",
    "firedrake.plot(ratio, axes=axes);"
   ]
  },
  {
   "cell_type": "markdown",
   "metadata": {},
   "source": [
    "The shear/plug ratio tops out at around 7%.\n",
    "For comparison, when the vertical velocity profile follows the shallow ice approximation, the horizontal velocity is a quartic polynomial in the vertical:\n",
    "\n",
    "$$u \\propto 1 - (1 - \\zeta)^4.$$\n",
    "\n",
    "In this case, the shear/plug ratio can be calculated by hand to be $\\frac{1}{2\\sqrt3} \\approx 29\\%$.\n",
    "We could arrive at a different shear ratio in steady state by using a larger value for the basal friction coefficient."
   ]
  },
  {
   "cell_type": "markdown",
   "metadata": {},
   "source": [
    "### Conclusion\n",
    "\n",
    "In this demo, we showed how to use a hybrid model that can capture both plug and shear flow.\n",
    "The biggest differences between this model and the ice stream model we showed earlier are that you need to create an extruded mesh and that you need to specify the element family and degree in the vertical dimension.\n",
    "Using spectral methods in the vertical dimension makes it possible to capture much of the variation along this axis without resorting to a large number of layers, as might be necessary if we were using a more \"traditional\" discretization.\n",
    "There are also a few extra steps when you want to analyze or plot 3D fields; depth averaging with a good choice of vertical weight function can get you pretty far.\n",
    "In principle, this hybrid model will work well on much larger spatial scales such as an entire glacier drainage basin or even a whole ice sheet."
   ]
  },
  {
   "cell_type": "markdown",
   "metadata": {},
   "source": [
    "### Epilogue: bootstrapping\n",
    "\n",
    "When we chose a function space to represent the velocity field, we used a vertical degree of 1, which can resolve linear vertical variations.\n",
    "Under the shallow ice approximation, the ice velocity is a quartic polynomial in $\\zeta$, so using a degree of at least 4 might have been a more sensible choice.\n",
    "\n",
    "The degree-1 solution can still be useful as a cheaper initial guess for the degree-4 solution.\n",
    "We rarely have a good initial guess for what the steady-state velocity will be, and computing it from a cold start as we did for the degree-1 solution can be more expensive the more vertical modes we use.\n",
    "Instead, we can run the degree-1 velocity and thickness to steady state and use this to initialize a (hopefully cheaper) degree-4 solution."
   ]
  },
  {
   "cell_type": "code",
   "execution_count": null,
   "metadata": {},
   "outputs": [],
   "source": [
    "V_2 = firedrake.FunctionSpace(\n",
    "    mesh, family='CG', degree=2,\n",
    "    vfamily='GL', vdegree=2\n",
    ")\n",
    "u_2 = firedrake.interpolate(u, V_2)\n",
    "\n",
    "V_4 = firedrake.FunctionSpace(\n",
    "    mesh, family='CG', degree=2,\n",
    "    vfamily='GL', vdegree=4\n",
    ")\n",
    "u_4 = firedrake.interpolate(u, V_4)\n",
    "\n",
    "solver4 = icepack.solvers.FlowSolver(model, **opts)\n",
    "u_4 = solver4.diagnostic_solve(\n",
    "    velocity=u_4,\n",
    "    thickness=h,\n",
    "    surface=s,\n",
    "    fluidity=A,\n",
    "    friction=C\n",
    ")"
   ]
  },
  {
   "cell_type": "markdown",
   "metadata": {},
   "source": [
    "Observe again how we had to create a new solver, which we called `solver4` here, to calculate the higher-degree velocity field.\n",
    "The model object is the same because it's the same physics.\n",
    "The solver changes because the solution we're looking for has more degrees of freedom, and thus the nonlinear system characterizing this solution is larger.\n",
    "\n",
    "To see how much of a change we get with the extra vertical modes, we'll calculate the relative error in the 2-norm."
   ]
  },
  {
   "cell_type": "code",
   "execution_count": null,
   "metadata": {},
   "outputs": [],
   "source": [
    "δu = firedrake.interpolate(u_4 - u_2, V_4)\n",
    "print(firedrake.norm(δu) / firedrake.norm(u_4))"
   ]
  },
  {
   "cell_type": "markdown",
   "metadata": {},
   "source": [
    "A relative error of only 4% is not bad at all!\n",
    "However, if we had used a synthetic glacier that was closer to the idealized shallow ice approximation then the error would be larger.\n",
    "The accuracy of the degree-2 solution in this particular case should not be extrapolated to all scenarios.\n",
    "\n",
    "When we initialize the glacier from a rough initial guess as we did for the degree-2, we have to expect that it will take the entire residence time for any initial transients to propagate out, which in our case is in excess of 100 years.\n",
    "If we initialize a degree-4 solution from the steady state degree-2 solution we may be able to get away with a much shorter spin-up period."
   ]
  }
 ],
 "metadata": {
  "kernelspec": {
   "display_name": "firedrake",
   "language": "python",
   "name": "firedrake"
  },
  "language_info": {
   "name": "python",
   "pygments_lexer": "ipython3"
  }
 },
 "nbformat": 4,
 "nbformat_minor": 2
}
