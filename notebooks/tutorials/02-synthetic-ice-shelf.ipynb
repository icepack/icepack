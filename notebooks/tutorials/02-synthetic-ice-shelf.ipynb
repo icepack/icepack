{
 "cells": [
  {
   "cell_type": "markdown",
   "metadata": {},
   "source": [
    "# Synthetic ice shelf\n",
    "\n",
    "In this demo, we'll show how to simulate the evolution of a floating ice shelf.\n",
    "The example that we'll show is an example of a model *spin-up*.\n",
    "In a spin-up experiment, the objective is to obtain a physically plausible state of some system from an initial guess by simulating its evolution for a long time.\n",
    "For example, it's common to spin up climate models from a very rough initial guess for several thousand years to obtain a representative state of the atmosphere and oceans for the epoch you're interested in.\n",
    "\n",
    "In our case, we'll use an idealized ice shelf geometry and a rough guess for the initial ice thickness.\n",
    "First we'll solve the *diagnostic equation* for the velocity througout the ice shelf.\n",
    "We'll then solve the *prognostic equation* to obtain the ice thickness at a slightly later time.\n",
    "By assuming a given rate of ice accumulation and melting, we can successively solve the prognostic and diagnostic equations until the system is close to a steady state.\n",
    "In our case, that will take about 250 years of model time and (at least on my laptop) only a few minutes of computer time.\n",
    "\n",
    "As with the synthetic ice sheet demo, the whole simulation can be divided into three parts:\n",
    "\n",
    "* Define the shape of the ice shelf and get a triangulation of the interior.\n",
    "* Define the initial guess for the ice thickness and velocity, and set a value of the rheology and accumulation rate.\n",
    "* Set the total simulation time and the number of time steps, and then iteratively update the ice thickness and velocity at each time step.\n",
    "\n",
    "We saw this workflow in the last demo. In later demos we'll see some variations on this procedure -- incorporating real data, comparing different physics, and so forth -- but the essential idea is the same throughout."
   ]
  },
  {
   "cell_type": "markdown",
   "metadata": {},
   "source": [
    "### Geometry\n",
    "\n",
    "First we need to define the geometry of the ice shelf.\n",
    "Although we'll be solving a synthetic problem, we'll try to use a more-or-less realistic shape.\n",
    "The inflow boundary will be a circular arc centered at the origin with a radius of 200 km.\n",
    "The outflow boundary will be another circular arc with a much higher radius.\n",
    "\n",
    "In the first two demos, we used one of firedrake's built-in functions to create the geometry.\n",
    "For more complicated shapes you'll need to use a mesh generator, a program that turns a description of the boundary of a spatial domain into a triangulation of the interior.\n",
    "Two of the more popular 2D mesh generators are [gmsh](http://gmsh.info/) and [Triangle](https://www.cs.cmu.edu/~quake/triangle.html).\n",
    "In this case we'll use gmsh because we can create the input file entirely in Python through the package [pygmsh](https://github.com/nschloe/pygmsh).\n",
    "\n",
    "We'll first define the mesh radius and the spacing for the mesh cells."
   ]
  },
  {
   "cell_type": "code",
   "execution_count": null,
   "metadata": {},
   "outputs": [],
   "source": [
    "import pygmsh\n",
    "\n",
    "R = 200e3\n",
    "δx = 5e3"
   ]
  },
  {
   "cell_type": "markdown",
   "metadata": {},
   "source": [
    "Next, we'll create an empty geometry and add some points to it.\n",
    "The points `x1`, `x2` will represent the left and right endpoints of the mesh.\n",
    "The points `center1`, `center2` will not actually be contained in the mesh, but rather define the centers of the two circular arcs.\n",
    "Finally, we'll add the circular arcs."
   ]
  },
  {
   "cell_type": "code",
   "execution_count": null,
   "metadata": {},
   "outputs": [],
   "source": [
    "geometry = pygmsh.built_in.Geometry()\n",
    "\n",
    "x1 = geometry.add_point([-R, 0, 0], lcar=δx)\n",
    "x2 = geometry.add_point([+R, 0, 0], lcar=δx)\n",
    "\n",
    "center1 = geometry.add_point([0, 0, 0,], lcar=δx)\n",
    "center2 = geometry.add_point([0, -4 * R, 0], lcar=δx)\n",
    "\n",
    "arcs = [\n",
    "    geometry.add_circle_arc(x1, center1, x2),\n",
    "    geometry.add_circle_arc(x2, center2, x1)\n",
    "]"
   ]
  },
  {
   "cell_type": "markdown",
   "metadata": {},
   "source": [
    "Now that we've added the geometric elements of our domain, we also need to tell gmsh about the topology, i.e. how all the arcs are connected to each other and how they're oriented.\n",
    "The physical lines and surfaces are added so that gmsh will tag each geometric entity with a number that we can use to set different boundary conditions."
   ]
  },
  {
   "cell_type": "code",
   "execution_count": null,
   "metadata": {},
   "outputs": [],
   "source": [
    "line_loop = geometry.add_line_loop(arcs)\n",
    "plane_surface = geometry.add_plane_surface(line_loop)\n",
    "\n",
    "physical_lines = [geometry.add_physical(arc) for arc in arcs]\n",
    "physical_surface = geometry.add_physical(plane_surface)"
   ]
  },
  {
   "cell_type": "markdown",
   "metadata": {},
   "source": [
    "This completes the definition of the input geometry.\n",
    "The method `get_code` of the geometry object returns the string describing it in the syntax that gmsh expects.\n",
    "We'll write this string out to a file with the extension `.geo`."
   ]
  },
  {
   "cell_type": "code",
   "execution_count": null,
   "metadata": {},
   "outputs": [],
   "source": [
    "with open('ice-shelf.geo', 'w') as geo_file:\n",
    "    geo_file.write(geometry.get_code())"
   ]
  },
  {
   "cell_type": "markdown",
   "metadata": {},
   "source": [
    "Next, we'll call gmsh from the command line on the input file we just created.\n",
    "The mesh generator will read the description of the domain boundary, triangulate the interior of the domain, and output a file with the extension `.msh`.\n",
    "Other mesh generators have different input and output formats, but the procedure is roughly the same.\n",
    "\n",
    "In a jupyter notebook, you can use an exclamation mark followed by a command to execute this command at the shell rather than in Python.\n",
    "We'll call `gmsh` from the command line with the following arguments:\n",
    "\n",
    "* `-2`: generate a 2D mesh as opposed to 3D\n",
    "* `-format msh2`: specify the storage format of the output file\n",
    "* `-o ice-shelf.msh`: name of the output file\n",
    "* `ice-shelf.geo`: the input data\n",
    "\n",
    "The shell command (without the exclamation mark) is what you would use if you were working directly from the command line rather than in a notebook."
   ]
  },
  {
   "cell_type": "code",
   "execution_count": null,
   "metadata": {},
   "outputs": [],
   "source": [
    "!gmsh -2 -format msh2 -o ice-shelf.msh ice-shelf.geo"
   ]
  },
  {
   "cell_type": "markdown",
   "metadata": {},
   "source": [
    "The terminal output from gmsh gives us some diagnostics like how many vertices and triangles it contains.\n",
    "This is also where gmsh will report if something went wrong -- a syntax error in the .geo file, a degenerate input geometry, and so forth."
   ]
  },
  {
   "cell_type": "markdown",
   "metadata": {},
   "source": [
    "To load the mesh we pass the filename to the function `firedrake.Mesh`.\n",
    "This function will determine the mesh format based on the file extension; it works for meshes that were generated by Triangle or other programs as well."
   ]
  },
  {
   "cell_type": "code",
   "execution_count": null,
   "metadata": {},
   "outputs": [],
   "source": [
    "import firedrake\n",
    "mesh = firedrake.Mesh('ice-shelf.msh')"
   ]
  },
  {
   "cell_type": "markdown",
   "metadata": {},
   "source": [
    "The colors in the figure below show how gmsh tagged the calving terminus with ID 2 and the inflow boundary as 1.\n",
    "This is exactly analogous to how firedrake adds tags for each side of the square geometry that we used in the previous demo.\n",
    "These numeric tags help us define Dirichlet (inflow) and Neumann (terminus) boundary conditions where they apply."
   ]
  },
  {
   "cell_type": "code",
   "execution_count": null,
   "metadata": {},
   "outputs": [],
   "source": [
    "import icepack.plot\n",
    "import matplotlib.pyplot as plt\n",
    "fig, axes = icepack.plot.subplots()\n",
    "icepack.plot.triplot(mesh, axes=axes)\n",
    "axes.legend();"
   ]
  },
  {
   "cell_type": "markdown",
   "metadata": {},
   "source": [
    "In the demos for real glaciers that follow, we use all of the same tools.\n",
    "The main difference is that the boundary arcs are drawn by hand in a geographic information system, rather than defined programatically in Python.\n",
    "In the repository [glacier-meshes](https://github.com/icepack/glacier-meshes) I've included shapefiles of the outlines of several glaciers and a program to automate the translation of a shapefile into a .geo file using pygmsh.\n",
    "This will be used in the demo for the Larsen Ice Shelf."
   ]
  },
  {
   "cell_type": "markdown",
   "metadata": {},
   "source": [
    "### Input data\n",
    "\n",
    "To mimic the state of a real ice shelf, we'll pick a few angles along the inflow boundary that represent the centerlines of the ice streams that feed the shelf.\n",
    "We'll then define velocity and thickness profiles along this inflow boundary.\n",
    "We don't have a great idea from the outset of what the steady state of the ice shelf is; it doesn't have a simple analytical expression in terms of the coordinates.\n",
    "Instead, we'll pick a somewhat arbitrary initial profile and evolve it towards steady state.\n",
    "\n",
    "Many ice shelves (Larsen, Ross, etc.) have several streams feeding them.\n",
    "Our synthetic glacier will be fed by four streams.\n",
    "We'll define the inlets by picking the angles around the inflow boundary where each inlet comes in from and the width in radians.\n",
    "You can re-run this notebook and change the values or the number of streams to whatever you like."
   ]
  },
  {
   "cell_type": "code",
   "execution_count": null,
   "metadata": {},
   "outputs": [],
   "source": [
    "import numpy as np\n",
    "from numpy import pi as π\n",
    "inlet_angles = π * np.array([-3/4, -1/2, -1/3, -1/6])\n",
    "inlet_widths = π * np.array([1/8, 1/12, 1/24, 1/12])"
   ]
  },
  {
   "cell_type": "markdown",
   "metadata": {},
   "source": [
    "Next, we'll come up with some rather arbitrary and un-physical input data.\n",
    "The basic idea is to make the thickness slope down as you go towards the calving terminus and away from the centerline of an inlet.\n",
    "Likewise the ice speed goes up as you go towards the calving terminus.\n",
    "We'll create a list of the perturbation thickness and velocity for each inlet and combine them all together at the end.\n",
    "See again the 0th demo for how to create bumps, ramps, and other building blocks for synthesizing fields with a desired spatial pattern."
   ]
  },
  {
   "cell_type": "code",
   "execution_count": null,
   "metadata": {},
   "outputs": [],
   "source": [
    "from firedrake import inner, as_vector\n",
    "x = firedrake.SpatialCoordinate(mesh)\n",
    "\n",
    "u_in = 300\n",
    "h_in = 350\n",
    "hb = 100\n",
    "dh, du = 400, 250\n",
    "\n",
    "hs, us = [], []\n",
    "for θ, ϕ in zip(inlet_angles, inlet_widths):\n",
    "    x0 = R * as_vector((np.cos(θ), np.sin(θ)))\n",
    "    v = -as_vector((np.cos(θ), np.sin(θ)))\n",
    "    L = inner(x - x0, v)\n",
    "    W = x - x0 - L * v\n",
    "    Rn = 2 * ϕ / π * R\n",
    "    q = firedrake.max_value(1 - (W / Rn)**2, 0)\n",
    "    hs.append(hb + q * ((h_in - hb) - dh * L /R))\n",
    "    us.append(firedrake.exp(-4 * (W/R)**2) * (u_in + du * L / R) * v)"
   ]
  },
  {
   "cell_type": "markdown",
   "metadata": {},
   "source": [
    "To combine the expressions for the thickness and velocity of each inlet into expressions for the whole ice shelf, we'll take the maximum thickness at any point, and the sum of the velocities."
   ]
  },
  {
   "cell_type": "code",
   "execution_count": null,
   "metadata": {},
   "outputs": [],
   "source": [
    "h_expr = firedrake.Constant(hb)\n",
    "for h in hs:\n",
    "    h_expr = firedrake.max_value(h, h_expr)\n",
    "    \n",
    "u_expr = sum(us)"
   ]
  },
  {
   "cell_type": "markdown",
   "metadata": {},
   "source": [
    "These are merely algebraic expressions.\n",
    "To start modeling we need to interpolate these expressions to some function spaces defined over the mesh."
   ]
  },
  {
   "cell_type": "code",
   "execution_count": null,
   "metadata": {},
   "outputs": [],
   "source": [
    "Q = firedrake.FunctionSpace(mesh, family='CG', degree=2)\n",
    "V = firedrake.VectorFunctionSpace(mesh, family='CG', degree=2)\n",
    "\n",
    "h0 = firedrake.interpolate(h_expr, Q)\n",
    "u0 = firedrake.interpolate(u_expr, V)"
   ]
  },
  {
   "cell_type": "markdown",
   "metadata": {},
   "source": [
    "The algebra might be a little opaque, but the plots of the initial data should be more illuminating."
   ]
  },
  {
   "cell_type": "code",
   "execution_count": null,
   "metadata": {},
   "outputs": [],
   "source": [
    "fig, axes = icepack.plot.subplots()\n",
    "axes.set_title('Thickness')\n",
    "colors = icepack.plot.tripcolor(h0, axes=axes)\n",
    "fig.colorbar(colors);"
   ]
  },
  {
   "cell_type": "code",
   "execution_count": null,
   "metadata": {},
   "outputs": [],
   "source": [
    "fig, axes = icepack.plot.subplots()\n",
    "axes.set_title('Velocity')\n",
    "streamlines = icepack.plot.streamplot(\n",
    "    u0, precision=1e3, density=2e3, axes=axes\n",
    ")\n",
    "fig.colorbar(streamlines);"
   ]
  },
  {
   "cell_type": "markdown",
   "metadata": {},
   "source": [
    "As the simulation progresses, the ice streams, as represented by areas with higher thickness, will spread and grow."
   ]
  },
  {
   "cell_type": "markdown",
   "metadata": {},
   "source": [
    "### Modeling\n",
    "\n",
    "To actually start solving things, we need to make two objects.\n",
    "First, the class `IceShelf` represents what physics problem we're interested in.\n",
    "In later tutorials we'll show how to alter the components of a particular physics model and how to use other models entirely."
   ]
  },
  {
   "cell_type": "code",
   "execution_count": null,
   "metadata": {},
   "outputs": [],
   "source": [
    "import icepack\n",
    "model = icepack.models.IceShelf()"
   ]
  },
  {
   "cell_type": "markdown",
   "metadata": {},
   "source": [
    "Second, the class `FlowSolver` decides how we're going to solve that problem.\n",
    "When we initialize the flow solver we pass it any arguments that never change throughout a simulation.\n",
    "For example, the parts of the domain boundary where we apply Dirichlet boundary conditions have to stay the same throughout the whole simulation, and the list of those boundary IDs is passed in the keyword argument `dirichlet_ids`."
   ]
  },
  {
   "cell_type": "code",
   "execution_count": null,
   "metadata": {},
   "outputs": [],
   "source": [
    "solver = icepack.solvers.FlowSolver(model, dirichlet_ids=[1])"
   ]
  },
  {
   "cell_type": "markdown",
   "metadata": {},
   "source": [
    "The main job of the flow solver object is to solve the PDEs for ice velocity and thickness, for which it has two methods, `diagnostic_solve` and `prognostic_solve`.\n",
    "These two methods are all that you need to describe the evolution of an ice shelf."
   ]
  },
  {
   "cell_type": "markdown",
   "metadata": {},
   "source": [
    "We need one more input variable, the fluidity factor $A$ in Glen's flow law $\\dot\\varepsilon = A\\tau^3$.\n",
    "The fluidity depends on several variables, especially the temperature of the ice; warmer ice is easier to deform.\n",
    "For now we'll use a fluidity that comes from a spatially constant temperature of -18C.\n",
    "The code itself assumes that all temperatures are in Kelvin.\n",
    "At the end of this demo, we'll show how to incorporate the effect of ice damage on the fluidity."
   ]
  },
  {
   "cell_type": "code",
   "execution_count": null,
   "metadata": {},
   "outputs": [],
   "source": [
    "T = firedrake.Constant(255.15)\n",
    "A = icepack.rate_factor(T)"
   ]
  },
  {
   "cell_type": "markdown",
   "metadata": {},
   "source": [
    "To compute the velocity field, we'll call the diagnostic solve method of the ice shelf object.\n",
    "This method takes in the thickness, the fluidity factor $A$, and the initial guess for the ice velocity.\n",
    "The keywords we use for these fields are exactly the same as their names."
   ]
  },
  {
   "cell_type": "code",
   "execution_count": null,
   "metadata": {},
   "outputs": [],
   "source": [
    "h = h0.copy(deepcopy=True)\n",
    "u = solver.diagnostic_solve(\n",
    "    velocity=u0,\n",
    "    thickness=h,\n",
    "    fluidity=A\n",
    ")"
   ]
  },
  {
   "cell_type": "markdown",
   "metadata": {},
   "source": [
    "The following plot shows streamlines of the velocity field.\n",
    "These kind of plots are useful for showing areas of convergence and divergence of the flow field."
   ]
  },
  {
   "cell_type": "code",
   "execution_count": null,
   "metadata": {},
   "outputs": [],
   "source": [
    "fig, axes = icepack.plot.subplots()\n",
    "streamlines = icepack.plot.streamplot(\n",
    "    u, precision=1e3, density=2e3, axes=axes\n",
    ")\n",
    "fig.colorbar(streamlines, label='meters/year');"
   ]
  },
  {
   "cell_type": "markdown",
   "metadata": {},
   "source": [
    "To project the state of the ice shelf forward in time, we'll use the prognostic solve method.\n",
    "The prognostic solver updates the ice thickness forward by a given timestep given the accumulation rate and velocity.\n",
    "We then update the velocity using the diagnostic solver at each timestep.\n",
    "The following code runs the model forward for several years until the ice shelf is roughly in steady state."
   ]
  },
  {
   "cell_type": "code",
   "execution_count": null,
   "metadata": {},
   "outputs": [],
   "source": [
    "import tqdm\n",
    "\n",
    "final_time = 400.\n",
    "num_timesteps = 200\n",
    "dt = final_time / num_timesteps\n",
    "a = firedrake.Constant(0.0)\n",
    "\n",
    "for step in tqdm.trange(num_timesteps):\n",
    "    h = solver.prognostic_solve(\n",
    "        dt,\n",
    "        thickness=h, \n",
    "        velocity=u,\n",
    "        accumulation=a,\n",
    "        thickness_inflow=h0\n",
    "    )\n",
    "    \n",
    "    u = solver.diagnostic_solve(\n",
    "        velocity=u,\n",
    "        thickness=h,\n",
    "        fluidity=A\n",
    "    )"
   ]
  },
  {
   "cell_type": "markdown",
   "metadata": {},
   "source": [
    "The main loop to run the simulation consists of alternating calls to the prognostic and diagnostic solve methods of the model object.\n",
    "We saw this pattern in the ice sheet demo, and we'll see it repeated in all of the demos that follow.\n",
    "In some cases we'll add in extra physics, like updating the temperature or damage field, but the core idea is the same.\n",
    "\n",
    "Because repetition can be helpful, here are some notes we also made in the ice sheet demo.\n",
    "\n",
    "**All of the fields involved in this simulation -- the ice thickness, velocity, and so forth -- were passed by keyword.**\n",
    "Only the timestep `dt` was passed by position.\n",
    "This is true more broadly of every solving routine in icepack.\n",
    "Passing arguments by keyword is admittedly more verbose than passing them by position, but we've made this choice for an important reason.\n",
    "As we'll show later on in this demo, passing arguments by keyword makes it possible to swap out components of the model physics for your own customized versions.\n",
    "This flexibility would be impossible if we passed these fields by position.\n",
    "Finally, keyword arguments save you the trouble of remembering what order everything goes in; you only have to remember their names.\n",
    "\n",
    "As a typographical convenience, we've put every argument on its own line.\n",
    "This isn't strictly necessary and you can adopt whatever convention you like for indenting your own code.\n",
    "We've found that using a separate line for each argument when calling really important functions makes them stand out visually, and makes it easiest to quickly scan over the argument list.\n",
    "\n",
    "We've added a progress bar using the package [tqdm](https://tqdm.github.io/) to give a bit of feedback about how long the simulation will take.\n",
    "These kinds of diagnostics are helpful to know that the simulation is actually running and that it hasn't frozen.\n",
    "But you can also put in whatever extra code you want here.\n",
    "For example, you might want to make plots of the thickness and velocity, print out some physical quantity like the total flux of ice out of the calving front, or accumulate the fields into a list so that you can analyze the entire time series later.\n",
    "\n",
    "To wrap things up, we'll make a plot of the final ice thickness and velocity.\n",
    "The initial thickness profile of each ice stream, which flattened out in the middle of the shelf, has extended all the way to the terminus."
   ]
  },
  {
   "cell_type": "code",
   "execution_count": null,
   "metadata": {},
   "outputs": [],
   "source": [
    "fig, axes = icepack.plot.subplots()\n",
    "colors = icepack.plot.tripcolor(h, axes=axes)\n",
    "fig.colorbar(colors, label='meters');"
   ]
  },
  {
   "cell_type": "markdown",
   "metadata": {},
   "source": [
    "A stream plot of the ice velocity shows that the areas of greatest flow divergence have moved around relative to the initial velocity."
   ]
  },
  {
   "cell_type": "code",
   "execution_count": null,
   "metadata": {},
   "outputs": [],
   "source": [
    "fig, axes = icepack.plot.subplots()\n",
    "streamlines = icepack.plot.streamplot(\n",
    "    u, precision=1e3, density=2e3, axes=axes\n",
    ")\n",
    "fig.colorbar(streamlines, label='meters/year');"
   ]
  },
  {
   "cell_type": "markdown",
   "metadata": {},
   "source": [
    "A useful quantity to know is how much ice is moving through the system.\n",
    "In the first demo on meshes and functions, we showed how to symbolically create functionals of the solution.\n",
    "We can use this to calculate the total ice flux through the calving terminus."
   ]
  },
  {
   "cell_type": "code",
   "execution_count": null,
   "metadata": {},
   "outputs": [],
   "source": [
    "from firedrake import ds\n",
    "ν = firedrake.FacetNormal(mesh)\n",
    "flux = h * inner(u, ν) * ds(2)"
   ]
  },
  {
   "cell_type": "markdown",
   "metadata": {},
   "source": [
    "The extra argument to `ds` indicates that we want to integrate over just the calving terminus rather than over the entire domain boundary.\n",
    "The variable `flux` is a symbolic representation of this quantity in terms of the input fields; it isn't a number but rather a description of how to compute a number.\n",
    "The function `firedrake.assemble` does the actual work of evaluating the integral."
   ]
  },
  {
   "cell_type": "code",
   "execution_count": null,
   "metadata": {},
   "outputs": [],
   "source": [
    "print(f'Flux: {firedrake.assemble(flux) / 1e9} km^3 / year')"
   ]
  },
  {
   "cell_type": "markdown",
   "metadata": {},
   "source": [
    "To check the degree to which the system really is in steady state, we can compute the flux along the inflow boundary rather than along the terminus.\n",
    "This should be equal to the flux out of the domain since we've set the accumulation rate to be zero."
   ]
  },
  {
   "cell_type": "code",
   "execution_count": null,
   "metadata": {},
   "outputs": [],
   "source": [
    "influx = -h * inner(u, ν) * ds(1)\n",
    "print(f'Influx: {firedrake.assemble(influx) / 1e9} km^3 / year')"
   ]
  },
  {
   "cell_type": "markdown",
   "metadata": {},
   "source": [
    "The influx and outflux are reasonably close, with the influx slightly exceeding the outflux.\n",
    "The ice shelf will thicken, increasing the flux out of the terminus, until the two values equilibrate."
   ]
  },
  {
   "cell_type": "markdown",
   "metadata": {},
   "source": [
    "### Conclusion\n",
    "\n",
    "In the last demo, we saw how to model a synthetic ice sheet.\n",
    "Here we've shown a different example by modeling a synthetic ice shelf.\n",
    "If you want to experiment with this example a bit more, you can run this notebook yourself and:\n",
    "\n",
    "* change the curvature of the inflow boundary or the calving terminus\n",
    "* change the stream widths, thicknesses, or velocities\n",
    "* add a sinusoidal variation in the accumulation rate to approximate seasonal cycles\n",
    "\n",
    "In the next demo, we'll show how to use these functions for simulating a real ice shelf in the Antarctic Peninsula using observational data from satellites.\n",
    "As a bonus epilogue to this demo, we'll show how to also include the physics of damage and crevassing."
   ]
  },
  {
   "cell_type": "markdown",
   "metadata": {},
   "source": [
    "### Epilogue: Damage\n",
    "\n",
    "The simulation we just ran uses the prognostic and diagnostic model physics of ice shelf flow.\n",
    "These models successively update the ice thickness and velocity.\n",
    "We assumed that the ice rheology was constant in space in order to simplify things, but this is never true for real ice shelves.\n",
    "Here we'll show how to add a model for how crevasses and rifts affect glacier flow.\n",
    "\n",
    "As ice becomes more damaged, the same driving stress must be transferred through a smaller total cross-sectional area of the ice.\n",
    "We can incorporate the effect of crevasses and rifts into large-scale models of glacier velocity by increasing the fluidity of the ice column.\n",
    "The extent of the damage is quantified in a scalar field $D$ which takes values between 0 (undamaged) and 1 (completely damaged).\n",
    "Following [Albrecht and Levermann](https://doi.org/10.3189/2012JoG11J191), we define the damaged rate factor $A_D$ to be\n",
    "\n",
    "$$A_D = (1 - D)^{-n}A(T)$$\n",
    "\n",
    "where $n = 3$ is the Glen flow law exponent and $A(T)$ is the rate factor for undamaged ice at temperature $T$.\n",
    "As the damage field approaches is maximum value of 1, the fluidity goes to infinity.\n",
    "A large-scale calving event would occur before this limit is reached for a real glacier, but we won't include this effect here.\n",
    "\n",
    "The ice shelf model includes several functions for calculating the net power dissipation of the ice shelf.\n",
    "The velocity that solves the diagnostic equations minimizes this power dissipation functional.\n",
    "To incorporate damage, we need to create our own function that calculates the viscous power dissipation in the presence of damage.\n",
    "The default function to calculate the viscous power dissipation lives in the module `icepack.models.viscosity`, so all we need to do is pass the damaged fluidity $(1 - D)^{-n}\\cdot A$ instead of just $A$ itself."
   ]
  },
  {
   "cell_type": "code",
   "execution_count": null,
   "metadata": {},
   "outputs": [],
   "source": [
    "from icepack.constants import glen_flow_law as n\n",
    "from icepack.models.viscosity import viscosity_depth_averaged\n",
    "def viscosity_damaged(**kwargs):\n",
    "    u = kwargs['velocity']\n",
    "    h = kwargs['thickness']\n",
    "    A = kwargs['fluidity']\n",
    "    D = kwargs['damage']\n",
    "    return viscosity_depth_averaged(\n",
    "        velocity=u, \n",
    "        thickness=h,\n",
    "        fluidity=(1 - D)**(-n) * A\n",
    "    )"
   ]
  },
  {
   "cell_type": "markdown",
   "metadata": {},
   "source": [
    "We can then create a new ice shelf model object and solver that will use `viscosity_damaged` to calculate the power dissipation instead of the default."
   ]
  },
  {
   "cell_type": "code",
   "execution_count": null,
   "metadata": {},
   "outputs": [],
   "source": [
    "flow_model = icepack.models.IceShelf(viscosity=viscosity_damaged)\n",
    "flow_solver = icepack.solvers.FlowSolver(flow_model, dirichlet_ids=[1])"
   ]
  },
  {
   "cell_type": "markdown",
   "metadata": {},
   "source": [
    "The procedure is exactly the same to modify any other part of the physics of any model.\n",
    "For example, you could also change how the back-pressure at the calving terminus is computed in order to account for the presence of ice melange.\n",
    "In later tutorials, we'll look at alternative models for basal friction, and we'll swap out the model physics in exactly the same way.\n",
    "\n",
    "So far, we've decided how to incorporate damage into the diagnostic model for the ice velocity.\n",
    "We also need some rule for how damage will evolve.\n",
    "One approach would be to use fracture mechanics to explicitly model individual crevasses, but this approach would be very computationally expensive.\n",
    "Instead, the *continuum damage mechanics* approximation posits that there is some bulk transport law for damage that looks something like this:\n",
    "\n",
    "$$\\frac{\\partial D}{\\partial t} + u\\cdot\\nabla D = f_o - f_c$$\n",
    "\n",
    "where $f_o$ is a crevasse opening term and $f_c$ is a crevasse closing or healing term.\n",
    "Crevasses open when the stress is sufficiently high, and crevasses close when the strain rate is low or compressional.\n",
    "The real physics comes in deciding the exact details of how these terms depend on the stress, strain rate, and other variables.\n",
    "In the following, we'll use the model from [Albrecht and Levermann](https://doi.org/10.3189/2012JoG11J191), but there are many others.\n",
    "\n",
    "A key feature of the damage model we'll use is that the sources of damage depend on the stress and strain rate of the flow field and we need to explicitly supply these variables as inputs.\n",
    "These fields are both rank-2 tensors (which is sort of a fancy way of saying a matrix).\n",
    "We need to first create a function space to represent them.\n",
    "Next we'll use some of the symbolic functions that Firedrake gives us in order to calculate the strain rate tensor."
   ]
  },
  {
   "cell_type": "code",
   "execution_count": null,
   "metadata": {},
   "outputs": [],
   "source": [
    "from firedrake import sym, grad\n",
    "S = firedrake.TensorFunctionSpace(mesh, family='DG', degree=1)\n",
    "ε = firedrake.project(sym(grad(u)), S)"
   ]
  },
  {
   "cell_type": "markdown",
   "metadata": {},
   "source": [
    "At this juncture we'd like to make a plot of the strain rate field, but since it's a tensor, doing that is a little challenging.\n",
    "Here we've taken the easy way out and plotted the effective strain rate, which is the only quantity that actually matters for the damage mechanics model.\n",
    "You could also plot, say, the component of the strain rate tensor along or across the flow direction if you wanted more fine-grained details.\n",
    "The strain rate has units of inverse time, which is a little hard to grasp.\n",
    "I find it's most helpful to think of this in terms of how much speed the ice can gain in meters per year over a distance in kilometers, which is the unit system we've used for the color bar below."
   ]
  },
  {
   "cell_type": "code",
   "execution_count": null,
   "metadata": {},
   "outputs": [],
   "source": [
    "from firedrake import sqrt, tr\n",
    "ε_e = firedrake.project(1e3 * sqrt(inner(ε, ε) + tr(ε)**2), Q)\n",
    "\n",
    "fig, axes = icepack.plot.subplots()\n",
    "axes.get_xaxis().set_visible(False)\n",
    "colors = firedrake.tripcolor(ε_e, vmin=0, vmax=8, axes=axes)\n",
    "fig.colorbar(\n",
    "    colors, orientation='horizontal', label='m yr${}^{-1}$ km${}^{-1}$'\n",
    ");"
   ]
  },
  {
   "cell_type": "markdown",
   "metadata": {},
   "source": [
    "One of the interesting things you can observe in this plot is how much higher the strain rate is *between* the ice streams rather than within them.\n",
    "\n",
    "The class `icepack.models.DamageTransport` describes the damage transport law, while `icepack.solvers.DamageSolver` contains routines for actually solving it.\n",
    "We'll initialize the damage field to be zero everywhere and we'll advect in zero damage from upstream."
   ]
  },
  {
   "cell_type": "code",
   "execution_count": null,
   "metadata": {},
   "outputs": [],
   "source": [
    "damage_model = icepack.models.DamageTransport()\n",
    "damage_solver = icepack.solvers.DamageSolver(damage_model)\n",
    "\n",
    "Δ = firedrake.FunctionSpace(mesh, family='DG', degree=1)\n",
    "D = firedrake.Function(Δ)"
   ]
  },
  {
   "cell_type": "markdown",
   "metadata": {},
   "source": [
    "Next, we'll run a new simulation that includes interleaved updates for ice thickness and velocity, just like before, but also an update for the damage field according to the transport law we wrote down above.\n",
    "The simulation will go for long enough to propagate the damage field through an entire residence time of the ice shelf.\n",
    "\n",
    "There are a few new things about this simulation loop compared to what we showed above.\n",
    "First, the diagnostic solve procedure now takes the damage field as a keyword argument in addition to the other fields we've already seen.\n",
    "We then have to calculate the strain rate and membrane stress tensors, since these are the sources of damage.\n",
    "Finally, there's another update for the damage field.\n",
    "\n",
    "We're also explicitly telling the form compiler what quadrature dgree to use when we calculate the membrane stress tensor.\n",
    "Firedrake defaults to a large number of quadrature points in order to evaluate that integral as exactly as it can.\n",
    "But it will also throw a warning if an expression is so complicated that it requires too many quadrature points.\n",
    "Passing the degree explicitly silences the warning and makes the code run faster without much accuracy loss."
   ]
  },
  {
   "cell_type": "code",
   "execution_count": null,
   "metadata": {},
   "outputs": [],
   "source": [
    "from icepack.models.viscosity import membrane_stress\n",
    "degree = D.ufl_element().degree() + 2 * ε.ufl_element().degree()\n",
    "params = {\n",
    "    'form_compiler_parameters': {\n",
    "        'quadrature_degree': degree\n",
    "    }\n",
    "}\n",
    "\n",
    "for step in tqdm.trange(num_timesteps):\n",
    "    h = flow_solver.prognostic_solve(\n",
    "        dt,\n",
    "        thickness=h,\n",
    "        velocity=u,\n",
    "        accumulation=a,\n",
    "        thickness_inflow=h0\n",
    "    )\n",
    "    \n",
    "    u = flow_solver.diagnostic_solve(\n",
    "        velocity=u,\n",
    "        thickness=h,\n",
    "        fluidity=A,\n",
    "        damage=D\n",
    "    )\n",
    "    \n",
    "    ε = firedrake.project(sym(grad(u)), S)\n",
    "    M = firedrake.project((1 - D) * membrane_stress(ε, A), S, **params)\n",
    "\n",
    "    D = damage_solver.solve(\n",
    "        dt,\n",
    "        damage=D,\n",
    "        velocity=u,\n",
    "        strain_rate=ε,\n",
    "        membrane_stress=M,\n",
    "        damage_inflow=firedrake.Constant(0.)\n",
    "    )"
   ]
  },
  {
   "cell_type": "markdown",
   "metadata": {},
   "source": [
    "To use the damage model, you (the user) have to add some code to calculate the strain rate and membrane stress tensors.\n",
    "This is a general feature of icepack: we'll implement the solvers and you provide the forcing terms.\n",
    "This approach does involve some extra work on your part.\n",
    "But we've found that giving users this level of control over feedbacks between different processes is essential.\n",
    "\n",
    "Finally we'll plot the result.\n",
    "When we plotted the strain rate before, we found elevated values between the ice streams.\n",
    "While there is a band of high ice damage in between the the two streams on the left, the other two margins show relatively little damage at all despite strain rates that are lower but not significantly so.\n",
    "We see this feature in the solution occurs because the source terms in the damage model are only activated once the stress exceeds a certain threshold."
   ]
  },
  {
   "cell_type": "code",
   "execution_count": null,
   "metadata": {},
   "outputs": [],
   "source": [
    "fig, axes = icepack.plot.subplots()\n",
    "colors = icepack.plot.tripcolor(D, axes=axes)\n",
    "fig.colorbar(colors);"
   ]
  },
  {
   "cell_type": "markdown",
   "metadata": {},
   "source": [
    "If you want to experiment with this problem further, you can try:\n",
    "\n",
    "* changing the parameters of the damage model, such as the critical stress at which damage grows; see `DamageTransport.__init__` for a full list and the default values\n",
    "* changing the inflow velocities of each ice stream; the larger the speed contrasts between neighboring streams, the greater the damage between them\n",
    "* adding an ice rise to the domain to see how shear around this obstacle affects damage.\n",
    "\n",
    "Damage mechanics is one of many things you might want to simulate in order to accurately capture the physics of glacier flow.\n",
    "In later demos, we'll show how to incorporate heat transfer.\n",
    "We could also include models describing things like the buoyant plume of meltwater in the top layer of ocean underneath the ice shelf, or the densification of firn on the ice surface.\n",
    "The details are different in each case, but the essential procedure is the same: first decide how the addition of a new field will affect the flow, and then decide how this field will evolve in time.\n",
    "We used the continuum damage formulation of Albrecht and Levermann, but there are many other models we could have chosen."
   ]
  }
 ],
 "metadata": {
  "kernelspec": {
   "display_name": "firedrake",
   "language": "python",
   "name": "firedrake"
  },
  "language_info": {
   "codemirror_mode": {
    "name": "ipython",
    "version": 3
   },
   "file_extension": ".py",
   "mimetype": "text/x-python",
   "name": "python",
   "nbconvert_exporter": "python",
   "pygments_lexer": "ipython3",
   "version": "3.7.4"
  }
 },
 "nbformat": 4,
 "nbformat_minor": 2
}
