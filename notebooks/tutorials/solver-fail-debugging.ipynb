{
 "cells": [
  {
   "cell_type": "markdown",
   "id": "e63162bf-dc62-4801-a9b1-f08833d318bd",
   "metadata": {},
   "source": [
    "# Help, the solver crashed!\n",
    "\n",
    "The previous tutorials have mostly used simple input data where we can rely on Firedrake's built-in numerical solvers to work on the first try.\n",
    "One exception to this was in the Larsen C notebook.\n",
    "The remote sensing data that we used for the thickness were finely resolved to capture individual rifts, which look like discontinuities.\n",
    "A discontinuity makes the slope, and in turn the driving stress, go to infinity.\n",
    "This singularity will break a numerical solver.\n",
    "The remedy was to smooth over the ice thickness a bit.\n",
    "\n",
    "Realistic problems can require some finesse to solve.\n",
    "Although it might seem that synthetic problems are easier, sometimes the opposite is true.\n",
    "A real glacier has got itself somewhere kind of near equilibrium for you and spent a few decades doing it.\n",
    "If you make up a synthetic bed geometry and thickness, there isn't an obvious way to guess what velocity solves the momentum balance equation.\n",
    "The Newton-type methods that we use are, in principle, supposed to converge from any initial guess.\n",
    "But the rate of convergence is hard to guess at when you start far from the true solution.\n",
    "\n",
    "This tutorial will show a test case where we might have to make some choices about what method to use.\n",
    "We'll take a standard test case, try to solve the diagnostic equations, and fail (at first).\n",
    "Then we'll look at how to get more information about the failure mode.\n",
    "Some failure modes are easier to recover from than others.\n",
    "Finally, we'll show some different solver options that we can use to recover from convergence failures.\n",
    "\n",
    "Here we'll look at the MISMIP+ test case, described in [Asay-Davis et al. (2016)](https://doi.org/10.5194/gmd-9-2471-2016).\n",
    "MISMIP+ is a standard test problem for evaluating glaciological flow models and we'll revisit it again in the guides that follow."
   ]
  },
  {
   "cell_type": "code",
   "execution_count": null,
   "id": "fb27a6fd-3e84-4014-93b6-50e07062780a",
   "metadata": {},
   "outputs": [],
   "source": [
    "import firedrake\n",
    "from firedrake import (\n",
    "    sqrt, exp, max_value, inner, as_vector, Constant, Function, dx\n",
    ")\n",
    "\n",
    "Lx, Ly = 640e3, 80e3\n",
    "ny = 20\n",
    "nx = int(Lx / Ly) * ny\n",
    "area = Lx * Ly\n",
    "\n",
    "mesh = firedrake.RectangleMesh(nx, ny, Lx, Ly)\n",
    "Q = firedrake.FunctionSpace(mesh, \"CG\", 1)\n",
    "V = firedrake.VectorFunctionSpace(mesh, \"CG\", 1)"
   ]
  },
  {
   "cell_type": "markdown",
   "id": "8c33c03d-07e9-481b-a628-45dccef03900",
   "metadata": {},
   "source": [
    "The MISMIP+ experimental protocol defines a profile for the ice bed that is a 6th-order polynomial in $x$ and an exponential in $y$.\n",
    "The bed shape was designed to create a bench or bedrock high in the $x$ direction that the ice could ground on and, given enough of a meltwater kick, to retreat off of.\n",
    "The shape in the $y$ direction is designed to funnel ice off of the side walls and create geometric constrictions."
   ]
  },
  {
   "cell_type": "code",
   "execution_count": null,
   "id": "6bd811e1-ba03-4f6f-8bc4-49a266089ecc",
   "metadata": {},
   "outputs": [],
   "source": [
    "x, y = firedrake.SpatialCoordinate(mesh)\n",
    "\n",
    "x_c = Constant(300e3)\n",
    "X = x / x_c\n",
    "\n",
    "B_0 = Constant(-150)\n",
    "B_2 = Constant(-728.8)\n",
    "B_4 = Constant(343.91)\n",
    "B_6 = Constant(-50.57)\n",
    "B_x = B_0 + B_2 * X**2 + B_4 * X**4 + B_6 * X**6\n",
    "\n",
    "f_c = Constant(4e3)\n",
    "d_c = Constant(500)\n",
    "w_c = Constant(24e3)\n",
    "\n",
    "B_y = d_c * (\n",
    "    1 / (1 + exp(-2 * (y - Ly / 2 - w_c) / f_c)) +\n",
    "    1 / (1 + exp(+2 * (y - Ly / 2 + w_c) / f_c))\n",
    ")\n",
    "\n",
    "z_deep = Constant(-720)\n",
    "z_b = Function(Q).interpolate(max_value(B_x + B_y, z_deep))"
   ]
  },
  {
   "cell_type": "code",
   "execution_count": null,
   "id": "3e5757d8-a5c0-4641-aa82-4dae4bcd1d5d",
   "metadata": {},
   "outputs": [],
   "source": [
    "import matplotlib.pyplot as plt\n",
    "from mpl_toolkits import mplot3d\n",
    "\n",
    "fig = plt.figure()\n",
    "axes = fig.add_subplot(projection=\"3d\")\n",
    "firedrake.trisurf(z_b, axes=axes);"
   ]
  },
  {
   "cell_type": "markdown",
   "id": "d2523d2b-d0d7-464d-9c0a-a140ea879a1c",
   "metadata": {},
   "source": [
    "The experiment further sets the default values for the ice fluidity and friction, but leaves it to modelers to set the exact friction law.\n",
    "We'll use our form of the Schoof sliding law from the tutorials on ice streams rather than the Weertman sliding law.\n",
    "This sliding law crucially includes a ramping factor that smoothly dials the friction down towards the grounding line.\n",
    "Without this ramping factor, the system would experience a sudden shock across the grounding line, which often manifests in numerical artifacts."
   ]
  },
  {
   "cell_type": "code",
   "execution_count": null,
   "id": "660ec276-c041-4425-8d90-fb91f9397f0d",
   "metadata": {},
   "outputs": [],
   "source": [
    "A = Constant(20)\n",
    "C = Constant(1e-2)"
   ]
  },
  {
   "cell_type": "code",
   "execution_count": null,
   "id": "9c4c15a3-ec54-49bc-8be9-d8abf7f88694",
   "metadata": {},
   "outputs": [],
   "source": [
    "from icepack.constants import (\n",
    "    ice_density as ρ_I,\n",
    "    water_density as ρ_W,\n",
    "    gravity as g,\n",
    "    glen_flow_law as n,\n",
    "    weertman_sliding_law as m,\n",
    ")\n",
    "\n",
    "def friction(**kwargs):\n",
    "    variables = (\"velocity\", \"thickness\", \"surface\", \"friction\")\n",
    "    u, h, s, C = map(kwargs.get, variables)\n",
    "\n",
    "    p_W = ρ_W * g * max_value(0, -(s - h))\n",
    "    p_I = ρ_I * g * h\n",
    "    N = max_value(0, p_I - p_W)\n",
    "    τ_c = N / 2\n",
    "\n",
    "    u_c = (τ_c / C)**m\n",
    "    u_b = sqrt(inner(u, u))\n",
    "\n",
    "    return τ_c * (\n",
    "        (u_c**(1 / m + 1) + u_b**(1 / m + 1))**(m / (m + 1)) - u_c\n",
    "    )"
   ]
  },
  {
   "cell_type": "markdown",
   "id": "04775f02-a77e-46a0-bd16-6181fea8740f",
   "metadata": {},
   "source": [
    "The experiment specifies an accumulation rate of 30 cm / year in the initial spin-up phase.\n",
    "In later guides we'll look at the next phase of the experiment, which uses a pre-defined function of the depth below the water line to set sub-ice shelf melt rate."
   ]
  },
  {
   "cell_type": "code",
   "execution_count": null,
   "id": "9c82b6ec-87c0-4098-88ba-4d03f949ad07",
   "metadata": {},
   "outputs": [],
   "source": [
    "a = Constant(0.3)"
   ]
  },
  {
   "cell_type": "markdown",
   "id": "2eeadadb-1227-405c-add4-fc30a39a25f9",
   "metadata": {},
   "source": [
    "For now, we'll focus on the 2D ice stream model, which is more than enough to illustrate the different kinds of solver options you can choose.\n",
    "Comparing the results with those of the hybrid model is a worthwhile exercise though -- it tells us the degree to which resolving vertical shear is important for the problem we're solving."
   ]
  },
  {
   "cell_type": "code",
   "execution_count": null,
   "id": "05d7b125-2561-4b35-a125-50ef50eeb1c1",
   "metadata": {},
   "outputs": [],
   "source": [
    "import icepack\n",
    "\n",
    "model = icepack.models.IceStream(friction=friction)"
   ]
  },
  {
   "cell_type": "markdown",
   "id": "4d62b626-981b-4871-b0c8-dca728865a40",
   "metadata": {},
   "source": [
    "We can't predict ahead of time what the steady state thickness of the ice stream will be.\n",
    "The purpose of the exercise is to start from a physically unrealistic starting state -- a constant thickness of 100m everywhere -- and spin this up to steady state.\n",
    "Starting so far from the true solution is a hard stress test for the solver.\n",
    "As we'll see, it doesn't always pass."
   ]
  },
  {
   "cell_type": "code",
   "execution_count": null,
   "id": "03335c44-e0d3-47e3-bb36-3296451b8a98",
   "metadata": {},
   "outputs": [],
   "source": [
    "h = Function(Q).assign(Constant(100))\n",
    "s = icepack.compute_surface(thickness=h, bed=z_b)\n",
    "\n",
    "δu = Constant(90)\n",
    "u_guess = Function(V).interpolate(as_vector((δu * x / Lx, 0)))"
   ]
  },
  {
   "cell_type": "markdown",
   "id": "ffc629e4-066e-4554-9271-3c41e15bbe9a",
   "metadata": {},
   "source": [
    "Here we've wrapped the diagnostic solve call in a try/except block because we have reason to believe that it might fail."
   ]
  },
  {
   "cell_type": "code",
   "execution_count": null,
   "id": "292c9c4a-028a-4f4a-9c2f-f3bcc6d87cf1",
   "metadata": {},
   "outputs": [],
   "source": [
    "opts = {\"dirichlet_ids\": [1], \"side_wall_ids\": [3, 4]}\n",
    "solver = icepack.solvers.FlowSolver(model, **opts)\n",
    "\n",
    "fields = {\n",
    "    \"velocity\": u_guess,\n",
    "    \"thickness\": h,\n",
    "    \"surface\": s,\n",
    "    \"fluidity\": A,\n",
    "    \"friction\": C,\n",
    "}\n",
    "\n",
    "try:\n",
    "    solver.diagnostic_solve(**fields)\n",
    "except firedrake.ConvergenceError as error:\n",
    "    print(error)"
   ]
  },
  {
   "cell_type": "markdown",
   "id": "7aa71273-abae-48e9-a870-90852851e8d1",
   "metadata": {},
   "source": [
    "With the default options, the solver didn't converge after 50 iterations.\n",
    "This error message alone isn't enough to debug what's going wrong.\n",
    "We can get more information by telling PETSc to print out some diagnostic information about the outer-level nonlinear solve."
   ]
  },
  {
   "cell_type": "code",
   "execution_count": null,
   "id": "fada9c23-e1a0-4e35-b46c-a2aaed4e5162",
   "metadata": {},
   "outputs": [],
   "source": [
    "opts = {\n",
    "    \"dirichlet_ids\": [1],\n",
    "    \"side_wall_ids\": [3, 4],\n",
    "    \"diagnostic_solver_parameters\": {\"snes_monitor\": None},\n",
    "}"
   ]
  },
  {
   "cell_type": "markdown",
   "id": "c2c38648-0f40-45b3-bdd3-c84ecd15d3f1",
   "metadata": {},
   "source": [
    "When we call the diagnostic solve routine again, we'll get an unholy mess of text output.\n",
    "If you parse through all of this you can see that the residual norm went from $10^7$ monotonically down to $10^5$ after 50 iterations."
   ]
  },
  {
   "cell_type": "code",
   "execution_count": null,
   "id": "170e0394-7597-4e80-bd05-9753922e606f",
   "metadata": {},
   "outputs": [],
   "source": [
    "solver = icepack.solvers.FlowSolver(model, **opts)\n",
    "try:\n",
    "    solver.diagnostic_solve(**fields)\n",
    "except firedrake.ConvergenceError as error:\n",
    "    print(error)"
   ]
  },
  {
   "cell_type": "markdown",
   "id": "58d4619b-f66a-44e0-a318-b9887aa6c1b0",
   "metadata": {},
   "source": [
    "The average glaciologist should never have to mess with this, but it's better to know how and not need it.\n",
    "For good measure let's try all of the other line search methods that are available in PETSc.\n",
    "These are:\n",
    "* `\"basic\"`: take the full Newton step; no line search at all\n",
    "* `\"bt\"`: backtracking; try the full step, and walk back if it's no good\n",
    "* `\"l2\"`: minimize the residual along the search direction using cubic fitting\n",
    "* `\"cp\"`: assume that the nonlinear equation to be solved is really finding a critical point of some scalar functional\n",
    "* `\"nleqerr\"`: this is the default in icepack; uses what are called affine-covariant methods, described in [this book](https://doi.org/10.1007/978-3-642-23899-4) which haunts my dreams"
   ]
  },
  {
   "cell_type": "code",
   "execution_count": null,
   "id": "5a1d66da-68f5-43e0-a559-8c67c2413974",
   "metadata": {},
   "outputs": [],
   "source": [
    "for line_search_type in [\"basic\", \"bt\", \"l2\", \"cp\", \"nleqerr\"]:\n",
    "    opts = {\n",
    "        \"dirichlet_ids\": [1],\n",
    "        \"side_wall_ids\": [3, 4],\n",
    "        \"diagnostic_solver_parameters\": {\n",
    "            \"snes_linesearch_type\": line_search_type,\n",
    "        },\n",
    "    }\n",
    "    solver = icepack.solvers.FlowSolver(model, **opts)\n",
    "    try:\n",
    "        u_0 = solver.diagnostic_solve(**fields)\n",
    "        print(f\"Method {line_search_type} worked!\")\n",
    "    except firedrake.ConvergenceError as error:\n",
    "        message = str(error).replace(\"\\n\", \" \")\n",
    "        print(f\"Method {line_search_type} failed with: {message}\")"
   ]
  },
  {
   "cell_type": "markdown",
   "id": "c2584fe3-ee23-442a-a501-f102ba581ac9",
   "metadata": {},
   "source": [
    "Using no line search at all made the solver diverge -- the residual norm was increasing instead of decreasing.\n",
    "Both backtracking and cubic line search worked.\n",
    "The critical point and affine-covariant methods took too long.\n",
    "We could stop here and just use one of the methods that worked (`bt` and `l2`).\n",
    "This feels a little hacky but if you're desparate it can work in a pinch.\n",
    "\n",
    "Instead, let's remember what happened when we used the default `nleqerr` method -- the residual was decreasing monotonically, but slowly.\n",
    "What if we instead budgeted for more iterations?"
   ]
  },
  {
   "cell_type": "code",
   "execution_count": null,
   "id": "27a3f9b5-41c2-4f94-adb0-91a8d834fd15",
   "metadata": {},
   "outputs": [],
   "source": [
    "opts = {\n",
    "    \"dirichlet_ids\": [1],\n",
    "    \"side_wall_ids\": [3, 4],\n",
    "    \"diagnostic_solver_parameters\": {\n",
    "        \"snes_monitor\": None,\n",
    "        \"snes_linesearch_type\": \"nleqerr\",\n",
    "        \"snes_max_it\": 200,\n",
    "    },\n",
    "}\n",
    "solver = icepack.solvers.FlowSolver(model, **opts)\n",
    "u_0 = solver.diagnostic_solve(**fields)"
   ]
  },
  {
   "cell_type": "markdown",
   "id": "06d8de5a-a097-4da4-a424-d263324718ec",
   "metadata": {},
   "source": [
    "The solver converged, it just took a few more iterations than our initial maximum of 50."
   ]
  },
  {
   "cell_type": "code",
   "execution_count": null,
   "id": "c29d6d23-1e25-490b-a014-07cfb7605cdd",
   "metadata": {},
   "outputs": [],
   "source": [
    "import icepack.plot\n",
    "\n",
    "fig, ax = icepack.plot.subplots()\n",
    "colors = firedrake.tripcolor(u_0, axes=ax)\n",
    "fig.colorbar(colors, label=\"m/yr\", orientation=\"horizontal\");"
   ]
  },
  {
   "cell_type": "markdown",
   "id": "af687f17-c526-43d1-a3b2-0e792cdb0649",
   "metadata": {},
   "source": [
    "There's one final trick that's worth knowing.\n",
    "The default nonlinear solver method in PETSc is based on Newton's method with a line search.\n",
    "There's an alternative called a *trust region* method which works in a different way.\n",
    "The trust region method can work better on some problems where the line search method fails or converges slowly.\n",
    "To use a trust region method, we give a different argument for `\"snes_type\"` when we make the solver."
   ]
  },
  {
   "cell_type": "code",
   "execution_count": null,
   "id": "0b00cd2e-5ab0-42e4-ac1b-fd14bd565367",
   "metadata": {},
   "outputs": [],
   "source": [
    "opts = {\n",
    "    \"dirichlet_ids\": [1],\n",
    "    \"side_wall_ids\": [3, 4],\n",
    "    \"diagnostic_solver_parameters\": {\n",
    "        \"snes_monitor\": None,\n",
    "        \"snes_type\": \"newtontr\",\n",
    "        \"snes_max_it\": 200,\n",
    "    },\n",
    "}\n",
    "solver = icepack.solvers.FlowSolver(model, **opts)\n",
    "u_0 = solver.diagnostic_solve(**fields)"
   ]
  },
  {
   "cell_type": "markdown",
   "id": "e0fed742-4c60-4612-b16e-7ef2d48c568c",
   "metadata": {},
   "source": [
    "## Recap\n",
    "\n",
    "When the solver fails, try the following:\n",
    "1. If the solver immediately fails with `DIVERGED_FNORM_NAN`, then there's some kind of division by zero error.\n",
    "The most likely explanation is that the input data are bad -- a zero thickness, a discontinuity in the surface, etc.\n",
    "No amount of fiddling with the solver can fix this error.\n",
    "3. Add `\"snes_monitor\": None` to the solver options.\n",
    "This will tell you how fast or catastrophically the solver is failing.\n",
    "4. If you're desparate, you can also add add `\"snes_linesearch_monitor\": None`.\n",
    "5. If the residual is decreasing but slowly, try increasing the maximum number of iterations.\n",
    "6. Try all the possible line search methods.\n",
    "7. Try using the Newton trust region method.\n",
    "8. If all of these fail, [get in touch](https://icepack.github.io/contact/) with the complete script and data and output from SNES monitor.\n",
    "\n",
    "In an ideal world, the solvers would all work perfectly the first time and you wouldn't need to know any of this.\n",
    "We strive to make icepack as robust as it can be through both good defaults and careful problem formulation.\n",
    "But you might still need some of the strategies outlined above.\n",
    "\n",
    "The initial diagnostic solve to compute the starting velocity is usually the most challenging.\n",
    "Provided that the timestep is not too large, the changes to the thickness should be small enough that the velocity from the previous timestep will be a good guess for the velocity at the next timestep.\n",
    "When solving statistical estimation problems, on the other hand, the outer-level optimization solver can make weird or unphysical guesses for the parameters, which can then crash the inner-level physics solver.\n",
    "Knowing how to get more information from PETSc using `\"snes_monitor\"` is crucial to debugging these types of problems."
   ]
  }
 ],
 "metadata": {
  "kernelspec": {
   "display_name": "firedrake",
   "language": "python",
   "name": "firedrake"
  },
  "language_info": {
   "codemirror_mode": {
    "name": "ipython",
    "version": 3
   },
   "file_extension": ".py",
   "mimetype": "text/x-python",
   "name": "python",
   "nbconvert_exporter": "python",
   "pygments_lexer": "ipython3",
   "version": "3.11.9"
  }
 },
 "nbformat": 4,
 "nbformat_minor": 5
}
