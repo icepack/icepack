{
 "cells": [
  {
   "cell_type": "markdown",
   "id": "57c9beda-5bee-4df3-98cd-21516aa0b252",
   "metadata": {},
   "source": [
    "# Meshing RGI polygons\n",
    "\n",
    "Here we'll show how to generate meshes out of polygons from the [Randolph Glacier Inventory](https://www.glims.org/RGI/) or RGI.\n",
    "The RGI is a collection of high-resolution digitized outlines of every mountain glacier on earth.\n",
    "There's a bit of preliminary data munging necessary to make things go well, which we'll demonstrate below.\n",
    "The entire inventory is a gigantic file, so in order to make the search and processing faster we'll fetch only the regional segment for Alaska."
   ]
  },
  {
   "cell_type": "code",
   "execution_count": null,
   "id": "530c3e71-49fe-49b5-a91e-3251c8d5d5aa",
   "metadata": {},
   "outputs": [],
   "source": [
    "import icepack\n",
    "rgi_filename = icepack.datasets.fetch_randolph_glacier_inventory(\"alaska\")"
   ]
  },
  {
   "cell_type": "markdown",
   "id": "ca809379-0756-41f9-9849-69e99b4765dc",
   "metadata": {},
   "source": [
    "This one shapefile contains many glacier outlines.\n",
    "Rather than go through every entry manually, we'll use geopandas to search for the glacier we want by name."
   ]
  },
  {
   "cell_type": "code",
   "execution_count": null,
   "id": "f4e6c584-a9e0-4fc2-abcc-5f9ff2a8fe92",
   "metadata": {},
   "outputs": [],
   "source": [
    "import geopandas\n",
    "dataframe = geopandas.read_file(rgi_filename)"
   ]
  },
  {
   "cell_type": "markdown",
   "id": "05f64422-e6dc-4301-8778-95e7c4f85561",
   "metadata": {},
   "source": [
    "We won't use this here, but it's good to see what's contained in each record.\n",
    "The inventory includes not just the glacier outlines but their area, slope, aspect, and elevation.\n",
    "So if you want to find (for example) the steepest glaciers in a particular region you can do that with a simple query."
   ]
  },
  {
   "cell_type": "code",
   "execution_count": null,
   "id": "0b7ce440-5851-4423-9227-8e84c9035669",
   "metadata": {},
   "outputs": [],
   "source": [
    "dataframe.keys()"
   ]
  },
  {
   "cell_type": "markdown",
   "id": "b1401694-8583-481b-be1b-4de244e7767c",
   "metadata": {},
   "source": [
    "Here we'll look at Gulkana Glacier, which is in the Alaska Range."
   ]
  },
  {
   "cell_type": "code",
   "execution_count": null,
   "id": "6388fa4f-5ad4-4407-8d63-ebf2bd8a4a42",
   "metadata": {},
   "outputs": [],
   "source": [
    "entry = dataframe[dataframe[\"glac_name\"] == \"Gulkana Glacier\"]"
   ]
  },
  {
   "cell_type": "markdown",
   "id": "cca691d9-4a49-4920-8f3d-996efaf8572e",
   "metadata": {},
   "source": [
    "By default, the geometries in the RGI are stored in lat-lon coordinates, which isn't that useful to us."
   ]
  },
  {
   "cell_type": "code",
   "execution_count": null,
   "id": "d443363a-867d-4203-ac15-da555d7571f6",
   "metadata": {},
   "outputs": [],
   "source": [
    "outline_lat_lon = entry.geometry\n",
    "outline_lat_lon.crs"
   ]
  },
  {
   "cell_type": "markdown",
   "id": "b0deb0f1-6504-4996-be6f-edd42734271d",
   "metadata": {},
   "source": [
    "The geopandas API includes functions that will estimate which Universal Transverse Mercator zone the polygon will be in.\n",
    "In this case, Gulkana is in UTM zone 6."
   ]
  },
  {
   "cell_type": "code",
   "execution_count": null,
   "id": "f8452ad5-2561-4f03-b41d-0d49f3464a6d",
   "metadata": {},
   "outputs": [],
   "source": [
    "utm_crs = outline_lat_lon.estimate_utm_crs()\n",
    "utm_crs"
   ]
  },
  {
   "cell_type": "markdown",
   "id": "0cc72d83-3415-4568-9ecb-9a8f7816f773",
   "metadata": {},
   "source": [
    "We can then convert the lat/lon geometry to the new coordinate system.\n",
    "Note that we don't necessarily need to use UTM zone 6.\n",
    "For example, you might be working with a gridded data set of, say, ice thickness or velocity that happens to be in a different UTM zone.\n",
    "In that case you should use whichever zone the rest of your data uses."
   ]
  },
  {
   "cell_type": "code",
   "execution_count": null,
   "id": "7a8eabc9-32a6-4db9-8895-340915326313",
   "metadata": {},
   "outputs": [],
   "source": [
    "outline_utm = outline_lat_lon.to_crs(utm_crs)"
   ]
  },
  {
   "cell_type": "markdown",
   "id": "0bc54bda-1cda-4d60-a341-2b4660fee61f",
   "metadata": {},
   "source": [
    "Next, all the meshing routines in icepack expect a GeoJSON file.\n",
    "The code below will convert the geopandas geometry into JSON, which has the undesirable effect of adding a superfluous Z coordinate.\n",
    "We can then use the `map_tuples` function from the GeoJSON library to strip this out."
   ]
  },
  {
   "cell_type": "code",
   "execution_count": null,
   "id": "d75d8d7f-29ec-40db-9d6d-bfa5b8b4fb29",
   "metadata": {},
   "outputs": [],
   "source": [
    "import geojson\n",
    "outline_json = geojson.loads(outline_utm.to_json())\n",
    "outline = geojson.utils.map_tuples(lambda x: x[:2], outline_json)"
   ]
  },
  {
   "cell_type": "markdown",
   "id": "8b9c78f8-707a-44cd-9c65-6d1a85f084d0",
   "metadata": {},
   "source": [
    "The icepack meshing module includes routines that will transform a GeoJSON data structure into the input format for a mesh generator like gmsh."
   ]
  },
  {
   "cell_type": "code",
   "execution_count": null,
   "id": "c4c0f74f-0822-4940-ade9-b554f1630dcd",
   "metadata": {},
   "outputs": [],
   "source": [
    "geometry = icepack.meshing.collection_to_geo(outline)\n",
    "geo_filename = \"gulkana.geo\"\n",
    "with open(geo_filename, \"w\") as geo_file:\n",
    "    geo_file.write(geometry.get_code())"
   ]
  },
  {
   "cell_type": "markdown",
   "id": "41ff5cc5-97f7-4206-87e7-3e69da5a9fe0",
   "metadata": {},
   "source": [
    "Next we'll call the mesh generator at the command line."
   ]
  },
  {
   "cell_type": "code",
   "execution_count": null,
   "id": "9acfe6d5-92a6-42dc-b37f-f92f9da4a936",
   "metadata": {},
   "outputs": [],
   "source": [
    "!gmsh -2 -v 0 gulkana.geo gulkana.msh"
   ]
  },
  {
   "cell_type": "markdown",
   "id": "04eb5dbf-1e25-4579-a4f2-e8d9ed36e907",
   "metadata": {},
   "source": [
    "Finally, we'll load the result with Firedrake and visualize it."
   ]
  },
  {
   "cell_type": "code",
   "execution_count": null,
   "id": "65d41e27-c8ae-450d-ac09-79a597e36881",
   "metadata": {},
   "outputs": [],
   "source": [
    "import firedrake\n",
    "mesh = firedrake.Mesh(\"gulkana.msh\")"
   ]
  },
  {
   "cell_type": "code",
   "execution_count": null,
   "id": "6d01e8f0-019a-4277-b94f-2dceb44a0b51",
   "metadata": {},
   "outputs": [],
   "source": [
    "import matplotlib.pyplot as plt\n",
    "fig, axes = plt.subplots()\n",
    "axes.set_aspect(\"equal\")\n",
    "firedrake.triplot(mesh, axes=axes, interior_kw={\"linewidth\": 0.25})\n",
    "axes.legend();"
   ]
  },
  {
   "cell_type": "markdown",
   "id": "a19e017e-20a3-40c1-8445-4a66ec7adb8a",
   "metadata": {},
   "source": [
    "The legend shows the numeric IDs that are used to define each segment of the boundary.\n",
    "You'll need these in the event that you need to define different boundary conditions on different segments, although for mountain glaciers it's usually enough to fix the velocity to zero at the boundaries.\n",
    "Gulkana has lots of nunataks, so there are lots of segments.\n",
    "\n",
    "You'll also notice that the mesh we get is very fine.\n",
    "Using a resolution that high might not be necessary to get a result that's accurate enough and it will definitely be more expensive.\n",
    "Depending on your use case, it might be worth doing some preliminary coarsening of the initial geometry."
   ]
  }
 ],
 "metadata": {
  "kernelspec": {
   "display_name": "firedrake",
   "language": "python",
   "name": "firedrake"
  },
  "language_info": {
   "codemirror_mode": {
    "name": "ipython",
    "version": 3
   },
   "file_extension": ".py",
   "mimetype": "text/x-python",
   "name": "python",
   "nbconvert_exporter": "python",
   "pygments_lexer": "ipython3",
   "version": "3.11.5"
  }
 },
 "nbformat": 4,
 "nbformat_minor": 5
}
