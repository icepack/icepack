{
 "cells": [
  {
   "cell_type": "markdown",
   "metadata": {},
   "source": [
    "# Synthetic ice sheet\n",
    "\n",
    "In this demo we'll run an idealized experiment inspired by the paper [*Fjord insertion into continental margins\n",
    "driven by topographic steering of ice*](https://www.nature.com/articles/ngeo201) by Kessler et al. (2008).\n",
    "Their work simulated the evolution of an entire ice sheet on millenial timescales, with the added twist that the bedrock topography freely evolved under the influence of erosion. We will simulate an ice sheet on a similar bedrock topography, but the bed will stay constant and we will not include erosion.\n",
    "\n",
    "Starting with a rough guess for the initial ice thickness, we'll solve the *diagnostic equation* for the velocity throughout the ice sheet.\n",
    "We'll then solve the *prognostic equation* to obtain the ice thickness at a slightly later time.\n",
    "By assuming a given rate of ice accumulation and melting, we can successively solve the prognostic and diagnostic equations until the system is close to a steady state.\n",
    "\n",
    "The whole simulation can be divided into three parts:\n",
    "\n",
    "* Define the shape of the ice sheet and get a triangulation of the interior.\n",
    "* Define the initial guess for the ice thickness and velocity, and set a value of the rheology and accumulation rate.\n",
    "* Set the total simulation time and the number of time steps, and then iteratively update the ice thickness and velocity at each time step.\n",
    "\n",
    "This is a pretty common workflow for a predictive model."
   ]
  },
  {
   "cell_type": "markdown",
   "metadata": {},
   "source": [
    "### Geometry\n",
    "\n",
    "The model domain is a circle 250 km wide, but with a 1km-high ridge at a radius of 200 km.\n",
    "This ridge is punctuated by four valleys of varying depths from which ice streams form!\n",
    "\n",
    "In the first demo, we used one of firedrake's built-in functions to create the geometry. Here, we'll use a different built-in function to create a circular mesh.\n",
    "We'll then scale the coordinates to the desired radius of 250 km."
   ]
  },
  {
   "cell_type": "code",
   "execution_count": null,
   "metadata": {},
   "outputs": [],
   "source": [
    "import firedrake\n",
    "mesh = firedrake.UnitDiskMesh(5)\n",
    "R = 250e3\n",
    "mesh.coordinates.dat.data[:] *= R"
   ]
  },
  {
   "cell_type": "markdown",
   "metadata": {},
   "source": [
    "In the previous notebook, we used matplotlib to create figure and axis objects.\n",
    "In this and the following notebooks, we'll instead use a wrapper function in icepack that equalizes the aspect ratio of plots and sets the axis labelling to work better for domains that are usually on the scale of hundreds of kilometers."
   ]
  },
  {
   "cell_type": "code",
   "execution_count": null,
   "metadata": {},
   "outputs": [],
   "source": [
    "import icepack.plot\n",
    "fig, axes = icepack.plot.subplots()\n",
    "icepack.plot.triplot(mesh, axes=axes)\n",
    "axes.set_title('Mesh');"
   ]
  },
  {
   "cell_type": "markdown",
   "metadata": {},
   "source": [
    "### Input data\n",
    "\n",
    "To create the input data for the model we need to define expressions for the ice bed, surface, thickness, velocity, and accumulation rate.\n",
    "We'll then interpolate these expressions to function spaces.\n",
    "One function space, $Q$, will be for scalar fields, such as elevation and ice thickness.\n",
    "The second function space $V$ will be for vector fields, such as velocity."
   ]
  },
  {
   "cell_type": "code",
   "execution_count": null,
   "metadata": {},
   "outputs": [],
   "source": [
    "Q = firedrake.FunctionSpace(mesh, family='CG', degree=2)\n",
    "V = firedrake.VectorFunctionSpace(mesh, family='CG', degree=2)"
   ]
  },
  {
   "cell_type": "markdown",
   "metadata": {},
   "source": [
    "To build up an expression for the bed toporaphy, we'll use the bump and ramp functions that we showed in the 0th tutorial.\n",
    "The expression for the bed topography is complex and a little messy; when we wrote this tutorial in the first place, it took a few hours and lots of trial and error.\n",
    "We'll show how the bed topography was built up in several stages in order to help you understand it better.\n",
    "First let's define some variables and functions."
   ]
  },
  {
   "cell_type": "code",
   "execution_count": null,
   "metadata": {},
   "outputs": [],
   "source": [
    "from firedrake import sqrt, exp, Constant\n",
    "\n",
    "x, y = firedrake.SpatialCoordinate(mesh)\n",
    "r = sqrt(x**2 + y**2)\n",
    "\n",
    "# Plateau elevation\n",
    "b_base = Constant(400)\n",
    "\n",
    "# Max elevation\n",
    "b_max = Constant(1400)\n",
    "\n",
    "# Radius of the plateau interior\n",
    "ro = 125e3\n",
    "\n",
    "# Radius of the ridge\n",
    "Ro = Constant(200e3)\n",
    "\n",
    "def tanh(z):\n",
    "    return (exp(z) - exp(-z)) / (exp(z) + exp(-z))\n",
    "\n",
    "def θ(z):\n",
    "    return (tanh(z) + 1) / 2\n",
    "\n",
    "def sech(z):\n",
    "    return 2 / (exp(z) + exp(-z))"
   ]
  },
  {
   "cell_type": "markdown",
   "metadata": {},
   "source": [
    "The next step is to make a plateau on which the ice sheet will sit."
   ]
  },
  {
   "cell_type": "code",
   "execution_count": null,
   "metadata": {},
   "outputs": [],
   "source": [
    "from firedrake import interpolate\n",
    "import numpy as np\n",
    "a = Constant(50e3)\n",
    "ξ = (sqrt(x**2 + y**2) - ro) / a\n",
    "\n",
    "b_expr_plateau = b_base * (1 - θ(3 * ξ))\n",
    "b = interpolate(b_expr_plateau, Q)\n",
    "\n",
    "fig, axes = icepack.plot.subplots()\n",
    "kw = {'vmin': -600, 'vmax': +1200}\n",
    "colors = icepack.plot.tripcolor(b, axes=axes, **kw)\n",
    "fig.colorbar(colors, label='meters above sea level')\n",
    "axes.set_title('Bed Plateau');"
   ]
  },
  {
   "cell_type": "markdown",
   "metadata": {},
   "source": [
    "Next we'll add a ridge that runs along the edge of the plateau."
   ]
  },
  {
   "cell_type": "code",
   "execution_count": null,
   "metadata": {},
   "outputs": [],
   "source": [
    "ζ = (r - Ro) / Ro\n",
    "\n",
    "b_expr_ridge = (b_max - b_base) * sech(3 * ξ)\n",
    "b_expr = b_expr_plateau + b_expr_ridge\n",
    "b = interpolate(b_expr, Q)\n",
    "\n",
    "fig, axes = icepack.plot.subplots()\n",
    "contours = icepack.plot.tripcolor(b, axes=axes, **kw)\n",
    "fig.colorbar(contours, label='meters above sea level')\n",
    "axes.set_title('Bed Plateau and Ridge');"
   ]
  },
  {
   "cell_type": "markdown",
   "metadata": {},
   "source": [
    "Finally, we'll cut valleys into the ridge to get bed topography similar to the one in Kessler et al. (2008)."
   ]
  },
  {
   "cell_type": "code",
   "execution_count": null,
   "metadata": {},
   "outputs": [],
   "source": [
    "ρ1 = Constant(1/4)\n",
    "μ1 = 1 - ρ1 * θ(3 * (x - ro/4) / a) * sech(2 * y / a)\n",
    "\n",
    "ρ2 = Constant(3/8)\n",
    "μ2 = 1 - ρ2 * θ(3 * (y - ro/4) / a) * sech(2 * x / a)\n",
    "\n",
    "ρ3 = Constant(1/2)\n",
    "μ3 = 1 - ρ3 * θ(3 * (-x + ro/4) / a) * sech(2 * y / a)\n",
    "\n",
    "ρ4 = Constant(5/8)\n",
    "μ4 = 1 - ρ4 * θ(3 * (-y + ro/4) / a) * sech(2 * x / a)\n",
    "\n",
    "μ = μ1 * μ2 * μ3 * μ4\n",
    "\n",
    "S = 480 / (1 - Ro / R)\n",
    "\n",
    "b_expr_valleys = (b_max - b_base) * sech(3 * ξ) * μ - θ(5 * ζ) * S * ζ\n",
    "b_expr = b_expr_plateau + b_expr_valleys\n",
    "b = interpolate(b_expr, Q)\n",
    "\n",
    "fig, axes = icepack.plot.subplots()\n",
    "contours = icepack.plot.tripcolor(b, axes=axes, **kw)\n",
    "fig.colorbar(contours, label='meters above sea level')\n",
    "axes.set_title('Bed Plateau, \\n Ridge, and Valleys');"
   ]
  },
  {
   "cell_type": "markdown",
   "metadata": {},
   "source": [
    "Now we'll put an initial ice sheet on this bed. We'll start with one that is simply a half sphere. Though this is arbitrary and un-physical, it will allow us a starting point from which to evolve the ice sheet."
   ]
  },
  {
   "cell_type": "code",
   "execution_count": null,
   "metadata": {},
   "outputs": [],
   "source": [
    "from firedrake import max_value\n",
    "\n",
    "# Surface elevation\n",
    "max_radius = 195e3\n",
    "dome_height = 2.4e3\n",
    "dome = dome_height * max_value(1 - (x**2 + y**2) / max_radius**2, 0)\n",
    "s0 = interpolate(dome, Q)\n",
    "\n",
    "# Thickness\n",
    "h0 = interpolate(max_value(s0 - b, 0), Q)"
   ]
  },
  {
   "cell_type": "code",
   "execution_count": null,
   "metadata": {},
   "outputs": [],
   "source": [
    "fig, axes = icepack.plot.subplots()\n",
    "colors = icepack.plot.tripcolor(s0, axes=axes)\n",
    "fig.colorbar(colors, label='meters above sea level')\n",
    "axes.set_title('Initial Ice \\n Surface Elevation');"
   ]
  },
  {
   "cell_type": "code",
   "execution_count": null,
   "metadata": {},
   "outputs": [],
   "source": [
    "fig, axes = icepack.plot.subplots()\n",
    "colors_b = icepack.plot.tripcolor(b, axes=axes)\n",
    "levels = np.linspace(100, 2300, 13)\n",
    "contours_h = icepack.plot.tricontour(h0, levels, axes=axes, cmap='Blues')\n",
    "fig.colorbar(colors_b, label='meters')\n",
    "axes.set_title('Initial Ice Thickness Contours \\n overlain on Bed Surface');"
   ]
  },
  {
   "cell_type": "markdown",
   "metadata": {},
   "source": [
    "### Modeling\n",
    "\n",
    "To actually start solving things, we need to make two objects.\n",
    "First, the class `ShallowIce` represents what physics problem we're interested in.\n",
    "This class solves the equations for the shallow ice approximation, which are particularly applicable to parts of ice sheets and glaciers where ice flows slowly and where there is little to no sliding.\n",
    "In later tutorials we'll show how to alter the components of a particular physics model and how to use other models entirely."
   ]
  },
  {
   "cell_type": "code",
   "execution_count": null,
   "metadata": {},
   "outputs": [],
   "source": [
    "import icepack\n",
    "model = icepack.models.ShallowIce()"
   ]
  },
  {
   "cell_type": "markdown",
   "metadata": {},
   "source": [
    "Second, the class `FlowSolver` decides how we're going to solve that problem.\n",
    "When we initialize the flow solver we pass it any arguments that never change throughout a simulation. For this particular simulation, there are no specific arguments to pass."
   ]
  },
  {
   "cell_type": "code",
   "execution_count": null,
   "metadata": {},
   "outputs": [],
   "source": [
    "solver = icepack.solvers.FlowSolver(model)"
   ]
  },
  {
   "cell_type": "markdown",
   "metadata": {},
   "source": [
    "The main job of the flow solver object is to solve the PDEs for ice velocity and thickness, for which it has two methods, `diagnostic_solve` and `prognostic_solve`.\n",
    "These two methods are all that you need to describe the evolution of an ice sheet."
   ]
  },
  {
   "cell_type": "markdown",
   "metadata": {},
   "source": [
    "We need one more input variable, the fluidity factor $A$ in Glen's flow law $\\dot\\varepsilon = A\\tau^3$. The fluidity depends on several variables, especially the temperature of the ice; warmer ice is easier to deform. For now we'll use a fluidity that comes from a spatially constant temperature of -5C. The code itself assumes that all temperatures are in Kelvin."
   ]
  },
  {
   "cell_type": "code",
   "execution_count": null,
   "metadata": {},
   "outputs": [],
   "source": [
    "T = Constant(273.15 - 5)\n",
    "A = icepack.rate_factor(T)"
   ]
  },
  {
   "cell_type": "markdown",
   "metadata": {},
   "source": [
    "To compute the velocity field, we'll call the diagnostic solve method of the ice sheet object.\n",
    "This method takes in the thickness, surface elevation, the fluidity factor $A$, and the initial guess for the ice velocity.\n",
    "In this case, we have no initial guess for the ice velocity, so we will pass it an empty function.\n",
    "The keywords we use for these fields are exactly the same as their names."
   ]
  },
  {
   "cell_type": "code",
   "execution_count": null,
   "metadata": {},
   "outputs": [],
   "source": [
    "u0 = firedrake.Function(V)\n",
    "h = h0.copy(deepcopy=True)\n",
    "u = solver.diagnostic_solve(\n",
    "    velocity=u0, \n",
    "    thickness=h, \n",
    "    surface=s0, \n",
    "    fluidity=A\n",
    ")"
   ]
  },
  {
   "cell_type": "code",
   "execution_count": null,
   "metadata": {},
   "outputs": [],
   "source": [
    "fig, axes = icepack.plot.subplots()\n",
    "colors = icepack.plot.tripcolor(u, axes=axes)\n",
    "fig.colorbar(colors, label='meters / year')\n",
    "axes.set_title('Initial Ice Velocity');"
   ]
  },
  {
   "cell_type": "markdown",
   "metadata": {},
   "source": [
    "To evolve the ice sheet, we'll need to choose a mass balance field. Here we define a mass balance field that is by default similar to the one in Kessler et al. (2008), but we will use a mass balance field that is zero everywhere. If you would like to play with the mass balance, the rest of this notebook allows the mass balance to be updated at each time step based on the surface elevation"
   ]
  },
  {
   "cell_type": "code",
   "execution_count": null,
   "metadata": {},
   "outputs": [],
   "source": [
    "from firedrake import min_value\n",
    "def mass_balance(s, max_a=0.5, da_ds=0.5/1000, ela=300.0):\n",
    "    return min_value((s - ela) * da_ds, max_a)\n",
    "\n",
    "ela = 300.\n",
    "max_a = 0.\n",
    "da_ds = 0.\n",
    "\n",
    "a = mass_balance(s0, ela=ela, max_a=max_a, da_ds=da_ds)"
   ]
  },
  {
   "cell_type": "markdown",
   "metadata": {},
   "source": [
    "To project the state of the ice sheet forward in time, we'll use the prognostic solve method.\n",
    "The prognostic solver updates the ice thickness for a given timestep given the accumulation rate and velocity.\n",
    "We then update the velocity using the diagnostic solver at each timestep.\n",
    "\n",
    "The following code runs the model forward 500 years with a 10-year time step until the ice sheet is roughly in steady state. \n",
    "We'll save information about how much the ice thickness changes with time to later assess how close the ice sheet is to steady-state."
   ]
  },
  {
   "cell_type": "code",
   "execution_count": null,
   "metadata": {},
   "outputs": [],
   "source": [
    "import tqdm\n",
    "\n",
    "dt = 10\n",
    "num_timesteps = 50\n",
    "\n",
    "dh_max = np.zeros(num_timesteps) * np.nan\n",
    "\n",
    "for step in tqdm.trange(num_timesteps):\n",
    "    a = interpolate(a, Q)\n",
    "    h_old = h.copy(deepcopy=True)\n",
    "    h = solver.prognostic_solve(\n",
    "        dt,\n",
    "        thickness=h,\n",
    "        accumulation=a,\n",
    "        velocity=u\n",
    "    )\n",
    "    \n",
    "    h.interpolate(max_value(h, 0))\n",
    "    s = interpolate(h + b, Q)\n",
    "    u = solver.diagnostic_solve(\n",
    "        velocity=u,\n",
    "        thickness=h,\n",
    "        surface=s,\n",
    "        fluidity=A\n",
    "    )\n",
    "    a = mass_balance(s, ela=ela, max_a=max_a, da_ds=da_ds)\n",
    "    dh = interpolate(h - h_old, Q)\n",
    "    \n",
    "    dh_max[step] = dh.dat.data_ro.max()"
   ]
  },
  {
   "cell_type": "markdown",
   "metadata": {},
   "source": [
    "The main loop to run the simulation consists of alternating calls to the prognostic and diagnostic solve methods of the model object.\n",
    "We'll see this pattern repeated in all of the demos that follow.\n",
    "In some cases we'll add in extra physics, like updating the temperature or damage field, but the core idea is the same.\n",
    "\n",
    "**All of the fields involved in this simulation -- the ice thickness, velocity, and so forth -- were passed by keyword.**\n",
    "Only the timestep `dt` was passed by position.\n",
    "This is true more broadly of every solving routine in icepack.\n",
    "Passing arguments by keyword is admittedly more verbose than passing them by position, but we've made this choice for an important reason.\n",
    "As we'll show in the next demo, passing arguments by keyword makes it possible to swap out components of the model physics for your own customized versions.\n",
    "This flexibility would be impossible if we passed these fields by position.\n",
    "Finally, keyword arguments save you the trouble of remembering what order everything goes in; you only have to remember their names.\n",
    "\n",
    "As a typographical convenience, we've put every argument on its own line.\n",
    "This isn't strictly necessary and you can adopt whatever convention you like for indenting your own code.\n",
    "We've found that using a separate line for each argument when calling really important functions makes them stand out visually, and makes it easiest to quickly scan over the argument list.\n",
    "\n",
    "We've added a progress bar using the package [tqdm](https://tqdm.github.io/) to give a bit of feedback about how long the simulation will take.\n",
    "These kinds of diagnostics are helpful to know that the simulation is actually running and that it hasn't frozen.\n",
    "But you can also put in whatever extra code you want here.\n",
    "For example, you might want to make plots of the thickness and velocity, print out some physical quantity like the total flux of ice out of the calving front, or accumulate the fields into a list so that you can analyze the entire time series later.\n",
    "\n",
    "To wrap things up, we'll make some plots. \n",
    "We'll plot the final ice thickness and velocity. \n",
    "We'll also look at how much the ice thickness has changed compared to the original geometry and compared to the last time step. The latter tells us how close we are to steady-state. We will also use the saved max thickness change for each time step to look at a time series of how the ice sheet approached steady-state."
   ]
  },
  {
   "cell_type": "code",
   "execution_count": null,
   "metadata": {},
   "outputs": [],
   "source": [
    "fig, axes = icepack.plot.subplots()\n",
    "colors = icepack.plot.tripcolor(u, axes=axes)\n",
    "fig.colorbar(colors, label='meters / year')\n",
    "axes.set_title('Final Ice Velocity');"
   ]
  },
  {
   "cell_type": "code",
   "execution_count": null,
   "metadata": {},
   "outputs": [],
   "source": [
    "fig, axes = icepack.plot.subplots()\n",
    "colors = icepack.plot.tripcolor(s, axes=axes)\n",
    "fig.colorbar(colors, label='meters above sea level')\n",
    "axes.set_title('Final Ice \\n Surface Elevation');"
   ]
  },
  {
   "cell_type": "markdown",
   "metadata": {},
   "source": [
    "As we can see, the velocity has evolved and now shows the highest velocities where the ice is constricted to flowing through the valleys. \n",
    "These are the ice streams!\n",
    "\n",
    "Though the ice surface elevation visually appears to have changed only a little, looking at the current ice thickness compared to the original ice thickness gives a clearer picture of how the ice sheet geometry has evolved."
   ]
  },
  {
   "cell_type": "code",
   "execution_count": null,
   "metadata": {},
   "outputs": [],
   "source": [
    "fig, axes = icepack.plot.subplots()\n",
    "thickness_change = interpolate(h - h0, Q)\n",
    "colors = icepack.plot.tripcolor(\n",
    "    thickness_change, vmin=-300, vmax=+300, axes=axes, cmap='RdBu'\n",
    ")\n",
    "fig.colorbar(colors, label='meters')\n",
    "axes.set_title('Final - Initial\\nIce Thickness');"
   ]
  },
  {
   "cell_type": "markdown",
   "metadata": {},
   "source": [
    "If we plot the last incremental change in thickness, then we can get a better sense of how close the ice sheet is to steady-state."
   ]
  },
  {
   "cell_type": "code",
   "execution_count": null,
   "metadata": {},
   "outputs": [],
   "source": [
    "fig, axes = icepack.plot.subplots()\n",
    "colors = icepack.plot.tripcolor(\n",
    "    dh, vmin=-10, vmax=+10, axes=axes, cmap='RdBu'\n",
    ")\n",
    "fig.colorbar(colors, label='meters')\n",
    "axes.set_title('Final - Previous\\nIce Thickness');"
   ]
  },
  {
   "cell_type": "markdown",
   "metadata": {},
   "source": [
    "Last, if we plot the maximum change in thickness through time, we can see how the ice sheet is approaching steady-state."
   ]
  },
  {
   "cell_type": "code",
   "execution_count": null,
   "metadata": {},
   "outputs": [],
   "source": [
    "import matplotlib.pyplot as plt\n",
    "plt.figure()\n",
    "plt.plot(dt * np.arange(num_timesteps), dh_max)\n",
    "plt.xlabel('years')\n",
    "plt.ylabel('maximum change in thickness (meters)')\n",
    "axes.set_title('Max Change in Ice Thickness at each Time Step');"
   ]
  },
  {
   "cell_type": "markdown",
   "metadata": {},
   "source": [
    "### Conclusion\n",
    "\n",
    "In the last demo, we saw how to create a mesh, define a finite element space, interpolate functions to that finite element space, and analyze the results.\n",
    "Here we've shown how to use these functions as an input to an ice sheet using the shallow ice flow model.\n",
    "If you want to experiment with this example a bit more, you can run this notebook yourself and:\n",
    "\n",
    "* change the mass balance parameters\n",
    "* change the depth of the bedrock valleys or height of the ridge\n",
    "* change the initial ice sheet geometry\n",
    "\n",
    "The mass balance parameters are in units of meters/year.\n",
    "A typical accumulation rate deep in the interior of Antarctica would be on the order of 7 cm/year, whereas southeast Greenland can have rates closer to 50 cm / year to 1.5 m / year.\n",
    "You can learn more about the mass balance of glaciers around the world from the [SUMup](https://essd.copernicus.org/articles/10/1959/2018/) database.\n",
    "To make things even more interesting, you can try changing the accumulation rate or lapse rate as a function of time to simulate glacial cycles."
   ]
  }
 ],
 "metadata": {
  "kernelspec": {
   "display_name": "firedrake",
   "language": "python",
   "name": "firedrake"
  },
  "language_info": {
   "codemirror_mode": {
    "name": "ipython",
    "version": 3
   },
   "file_extension": ".py",
   "mimetype": "text/x-python",
   "name": "python",
   "nbconvert_exporter": "python",
   "pygments_lexer": "ipython3",
   "version": "3.8.6"
  }
 },
 "nbformat": 4,
 "nbformat_minor": 2
}
