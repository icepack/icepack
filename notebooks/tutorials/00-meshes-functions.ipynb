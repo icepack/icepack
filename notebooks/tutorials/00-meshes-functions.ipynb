{
 "cells": [
  {
   "cell_type": "markdown",
   "metadata": {},
   "source": [
    "# Meshes, functions\n",
    "\n",
    "This demo will show some of the basic features of the finite element modeling package [firedrake](https://www.firedrakeproject.org), which icepack is built on.\n",
    "These are the kinds of things you'd need to know before you begin to model anything.\n",
    "First, we'll show to create a simple mesh, and how to define a function on that mesh symbolically using handles for the x- and y-coordinates of the points of the domain.\n",
    "Then we'll demonstrate some of the plotting routines included in icepack, which are meant to mimic as closely as possible the corresponding routines in matplotlib.\n",
    "Finally, we'll show how to analyze a function by evaluating some area and contour integrals."
   ]
  },
  {
   "cell_type": "markdown",
   "metadata": {},
   "source": [
    "### Meshes\n",
    "\n",
    "First, we need to make a mesh.\n",
    "Firedrake includes routines for generating meshes of simple domains; to see all of the meshes that are available, you can type\n",
    "\n",
    "    help(firedrake.utility_meshes)\n",
    "\n",
    "from the python interpreter.\n",
    "In this demo we'll use a mesh of the unit square."
   ]
  },
  {
   "cell_type": "code",
   "execution_count": null,
   "metadata": {},
   "outputs": [],
   "source": [
    "import firedrake\n",
    "nx, ny = 16, 16\n",
    "mesh = firedrake.UnitSquareMesh(nx, ny)"
   ]
  },
  {
   "cell_type": "markdown",
   "metadata": {},
   "source": [
    "Mesh plots are shown with a different color for each segments of the boundary.\n",
    "You can then create a legend that will show you how the colors correspond to the numeric IDs of each boundary segment.\n",
    "This is useful to when applying different boundary conditions to different segments, for example, Dirichlet boundary conditions on part of the domain and Neumann boundary conditions on the other part."
   ]
  },
  {
   "cell_type": "code",
   "execution_count": null,
   "metadata": {},
   "outputs": [],
   "source": [
    "import matplotlib.pyplot as plt\n",
    "fig, axes = plt.subplots()\n",
    "firedrake.triplot(mesh, axes=axes)\n",
    "axes.legend();"
   ]
  },
  {
   "cell_type": "markdown",
   "metadata": {},
   "source": [
    "### Functions\n",
    "\n",
    "We can make scalar and vector fields defined on this mesh by interpolating the values of an algebraic expression to some space of functions.\n",
    "\n",
    "First, we have to construct a function space `Q`.\n",
    "We already have a mesh, and we need to decide what element family and polynomial degree.\n",
    "In almost all the cases you'll encounter, the element family consists of continuous piecewise-polynomial functions in each triangle, which is abbreviated to `CG` for \"continuous Galerkin\".\n",
    "\n",
    "Next, we have to make an expression for the function and interpolate it to the function space `Q`.\n",
    "The function `firedrake.SpatialCoordinate` returns two symbolic objects `x`, `y` for the coordinates of each point of the mesh.\n",
    "We can then use these symbols to define expressions for the function we'd like to analyze.\n",
    "In this case, I've chosen the [Rosenbrock function](https://en.wikipedia.org/wiki/Rosenbrock_function).\n",
    "Firedrake has built-in functions for evaluating various transcendental functions of the coordinates, for example the sine, cosine, exponential, logarithm, etc.\n",
    "To see all of the available functions, you can check the namespace `ufl.operators`.\n",
    "\n",
    "Finally, the function `firedrake.interpolate` takes in an expression and a function space, and returns a field from that function space.\n",
    "In the code below, the variable `expr` is a purely symbolic object.\n",
    "The variable `q` on the other hand represents what happens when that expression gets interpolated to some function space.\n",
    "The space we've chosen can represent polynomials up to degree 2 within each triangle, whereas the expression we're interpolating has polynomials up to degree four.\n",
    "So there can be some loss of precision when we interpolate an expression to a function space."
   ]
  },
  {
   "cell_type": "code",
   "execution_count": null,
   "metadata": {},
   "outputs": [],
   "source": [
    "Q = firedrake.FunctionSpace(mesh, family='CG', degree=2)\n",
    "\n",
    "x, y = firedrake.SpatialCoordinate(mesh)\n",
    "a = firedrake.Constant(0.5)\n",
    "b = firedrake.Constant(10.0)\n",
    "expr = (a - x)**2 + b*(y - x**2)**2\n",
    "q = firedrake.interpolate(expr, Q)"
   ]
  },
  {
   "cell_type": "markdown",
   "metadata": {},
   "source": [
    "Here we've defined the variables $a$ and $b$ as a `firedrake.Constant`.\n",
    "We could have left these as just the floating-point numbers `0.5` and `10.0` and the code still would have worked.\n",
    "In general you'll want to making something a `Constant` if its value could change from one run of the program to another.\n",
    "For example, we might want to look at how the shape of this function changes as we alter the parameters.\n",
    "\n",
    "Next we'll make a contour plot of the the function we just created.\n",
    "The functions `tricontour`, `tricontourf`, `tripcolor`, and `quiver` are just wrappers around the equivalent functions in matplotlib.\n",
    "If you haven't used matplotlib before, you can consult their [example code](https://matplotlib.org/gallery/images_contours_and_fields/tripcolor_demo.html#sphx-glr-gallery-images-contours-and-fields-tripcolor-demo-py) to see how these functions work."
   ]
  },
  {
   "cell_type": "code",
   "execution_count": null,
   "metadata": {},
   "outputs": [],
   "source": [
    "fig, axes = plt.subplots()\n",
    "contours = firedrake.tricontourf(q, 36, axes=axes)\n",
    "fig.colorbar(contours);"
   ]
  },
  {
   "cell_type": "markdown",
   "metadata": {},
   "source": [
    "We can make vector fields in much the same way as we make scalar fields.\n",
    "There are two key differences.\n",
    "First, we have to put the expression we want inside the function `as_vector` in order to specify that we want a field with more than one component.\n",
    "(There's also an `as_tensor` function if you want a matrix field.)\n",
    "Second, we have to interpolate into a vector function space.\n",
    "Here we'll make a vector field representing the negative gradient of the Rosenbrock function that we just defined above."
   ]
  },
  {
   "cell_type": "code",
   "execution_count": null,
   "metadata": {},
   "outputs": [],
   "source": [
    "from firedrake import as_vector\n",
    "expr = as_vector((\n",
    "    2 * (a - x) + 4 * b * x * (y - x**2),\n",
    "    -2 * b * (y - x**2)\n",
    "))\n",
    "\n",
    "V = firedrake.VectorFunctionSpace(mesh, family='CG', degree=2)\n",
    "v = firedrake.interpolate(expr, V)"
   ]
  },
  {
   "cell_type": "markdown",
   "metadata": {},
   "source": [
    "There are many ways to plot a vector field.\n",
    "Here we show a plot of the streamlines of the vector field, colored according to the magnitude of the vector.\n",
    "This method is expensive, especially if you set the resolution or spacing of the streamlines to be too small, but nonetheless it produces really nice graphics."
   ]
  },
  {
   "cell_type": "code",
   "execution_count": null,
   "metadata": {},
   "outputs": [],
   "source": [
    "fig, axes = plt.subplots()\n",
    "opts = {'resolution': 1 / 32, 'seed': 1}\n",
    "streamlines = firedrake.streamplot(v, axes=axes, **opts)\n",
    "fig.colorbar(streamlines);"
   ]
  },
  {
   "cell_type": "markdown",
   "metadata": {},
   "source": [
    "### Post-processing\n",
    "\n",
    "We've shown above how to plot what a scalar or vector field looks like, but there's more to analyzing the results of simulations than just making pretty pictures.\n",
    "For starters, you might also want to evaluate scalar or vector fields at points in the domain:"
   ]
  },
  {
   "cell_type": "code",
   "execution_count": null,
   "metadata": {},
   "outputs": [],
   "source": [
    "z = (a, a**2)\n",
    "print(q(z))\n",
    "print(v(z))"
   ]
  },
  {
   "cell_type": "markdown",
   "metadata": {},
   "source": [
    "Firedrake also provides a rich set of operations for evaluating integral expressions of scalar and vector fields.\n",
    "Much like how the function `SpatialCoordinate` gives you two symbols `x`, `y` that represent the coordinates of each point of the mesh, firedrake also provides an object `dx` that represents the differential area element.\n",
    "To define an integral, we multiply an expression by `dx`.\n",
    "This gives back a purely symbolic object representing a recipe for computing an integral; we haven't yet evaluated it to get a real number.\n",
    "The function `firedrake.assemble` actually evaluates this symbolic expression to give us a number."
   ]
  },
  {
   "cell_type": "code",
   "execution_count": null,
   "metadata": {},
   "outputs": [],
   "source": [
    "from firedrake import inner, dx, assemble\n",
    "print(assemble(x * y * dx))\n",
    "print(assemble(q * dx))\n",
    "print(assemble(inner(v, v) * dx))"
   ]
  },
  {
   "cell_type": "markdown",
   "metadata": {},
   "source": [
    "This is similar to `interpolate`; expressions defining fields are purely symbolic until we `interpolate` them to a function space. \n",
    "Likewise, expressions defining integrals are purely symbolic until we `assemble` them to get a real number.\n",
    "\n",
    "We can also evaluate integrals over the boundary of the mesh rather than the interior.\n",
    "Boundary integrals are specified using the surface measure `ds` instead of `dx`."
   ]
  },
  {
   "cell_type": "code",
   "execution_count": null,
   "metadata": {},
   "outputs": [],
   "source": [
    "from firedrake import ds\n",
    "print(assemble(q * ds))"
   ]
  },
  {
   "cell_type": "markdown",
   "metadata": {},
   "source": [
    "We might also need more fine-grained control over which part of the boundary we're integrating over.\n",
    "The mesh plot we created earlier shows the numbering of the boundary segments.\n",
    "We can specify which boundary segment to integrate over by passing the corresponding numeric ID to `ds`; these are the same IDs that are color-coded in the mesh plot above.\n",
    "You can also pass a tuple of IDs to integrate over multiple segments."
   ]
  },
  {
   "cell_type": "code",
   "execution_count": null,
   "metadata": {},
   "outputs": [],
   "source": [
    "print(assemble(q * ds(2)))\n",
    "\n",
    "ids = (1, 2)\n",
    "print(assemble(q * ds(ids)))"
   ]
  },
  {
   "cell_type": "markdown",
   "metadata": {},
   "source": [
    "Finally, a common operation we'll need in the tutorials that follow is to evaluate the flux of a vector field $v$ across the boundary of the domain.\n",
    "The mathematical definition of this quantity is the integral\n",
    "\n",
    "$$F = \\int_{\\partial\\Omega}v\\cdot n\\, ds$$\n",
    "\n",
    "where $n$ is the unit outward-pointing normal vector.\n",
    "So we'll also need a symbolic representation of the outward-pointing normal; this comes from the function `firedrake.FacetNormal`."
   ]
  },
  {
   "cell_type": "code",
   "execution_count": null,
   "metadata": {},
   "outputs": [],
   "source": [
    "n = firedrake.FacetNormal(mesh)\n",
    "print(assemble(inner(v, n) * ds))"
   ]
  },
  {
   "cell_type": "markdown",
   "metadata": {},
   "source": [
    "### Common useful functions\n",
    "\n",
    "In the tutorials that follow, we'll often have to synthesize some field -- an ice thickness or bed elevation for example -- with a shape that mimics a feature of a real physical system.\n",
    "There are a few especially useful functions for doing this.\n",
    "First, the hyperbolic tangent function\n",
    "\n",
    "$$\\tanh z = \\frac{\\sinh z}{\\cosh z}$$\n",
    "\n",
    "goes from -1 in the limit as $z \\to -\\infty$ and to +1 as $z \\to +\\infty$.\n",
    "Firedrake also defines symbolic expressions involving transcendental functions like the exponential, logarithm, sine, and cosine."
   ]
  },
  {
   "cell_type": "code",
   "execution_count": null,
   "metadata": {},
   "outputs": [],
   "source": [
    "from firedrake import exp\n",
    "\n",
    "def sinh(z):\n",
    "    return (exp(z) - exp(-z)) / 2\n",
    "\n",
    "def cosh(z):\n",
    "    return (exp(z) + exp(-z)) / 2\n",
    "\n",
    "def tanh(z):\n",
    "    return sinh(z) / cosh(z)"
   ]
  },
  {
   "cell_type": "markdown",
   "metadata": {},
   "source": [
    "By shifting and rescaling the output tanh function or its argument, we can create ramping functions that go from one value to another over some length scale that we choose.\n",
    "Here we'll create a ramp function that goes from a value $a$ to a value $b$ over a distance $\\delta = 1/8$ across the diagonal line through the center of the domain."
   ]
  },
  {
   "cell_type": "code",
   "execution_count": null,
   "metadata": {},
   "outputs": [],
   "source": [
    "a = firedrake.Constant(-2)\n",
    "b = firedrake.Constant(+3)\n",
    "x_0 = firedrake.Constant(1/2)\n",
    "y_0 = firedrake.Constant(1/2)\n",
    "δ = firedrake.Constant(1/8)\n",
    "\n",
    "w = (x - x_0) / δ + (y - y_0) / δ\n",
    "expr = a + (b - a) * (tanh(w) + 1) / 2\n",
    "ramp = firedrake.interpolate(expr, Q)"
   ]
  },
  {
   "cell_type": "markdown",
   "metadata": {},
   "source": [
    "Just to help visualize this a little better, we'll make a 3D plot."
   ]
  },
  {
   "cell_type": "code",
   "execution_count": null,
   "metadata": {},
   "outputs": [],
   "source": [
    "from mpl_toolkits import mplot3d\n",
    "fig = plt.figure()\n",
    "axes = fig.add_subplot(projection='3d')\n",
    "firedrake.trisurf(ramp, axes=axes);"
   ]
  },
  {
   "cell_type": "markdown",
   "metadata": {},
   "source": [
    "We can get more creative about what the argument to the tanh function is to create ramps around more interesting shapes.\n",
    "Below, we'll create a ramping function around a circle of radius 1/4 in the middle of the domain."
   ]
  },
  {
   "cell_type": "code",
   "execution_count": null,
   "metadata": {},
   "outputs": [],
   "source": [
    "from firedrake import sqrt\n",
    "r = sqrt((x - x_0)**2 + (y - y_0)**2)\n",
    "R = firedrake.Constant(1/4)\n",
    "ϵ = firedrake.Constant(1/16)\n",
    "expr = tanh((R - r) / ϵ)\n",
    "ramp = firedrake.interpolate(expr, Q)"
   ]
  },
  {
   "cell_type": "code",
   "execution_count": null,
   "metadata": {},
   "outputs": [],
   "source": [
    "fig = plt.figure()\n",
    "axes = fig.add_subplot(projection='3d')\n",
    "firedrake.trisurf(ramp, axes=axes);"
   ]
  },
  {
   "cell_type": "markdown",
   "metadata": {},
   "source": [
    "The next useful shaping function is hyperbolic secant:\n",
    "\n",
    "$$\\text{sech}\\,z = \\frac{1}{\\cosh z}.$$\n",
    "\n",
    "This is good for making bumps."
   ]
  },
  {
   "cell_type": "code",
   "execution_count": null,
   "metadata": {},
   "outputs": [],
   "source": [
    "def sech(z):\n",
    "    return 1 / cosh(z)\n",
    "\n",
    "expr = sech(r / δ)\n",
    "bump = firedrake.interpolate(expr, Q)"
   ]
  },
  {
   "cell_type": "code",
   "execution_count": null,
   "metadata": {},
   "outputs": [],
   "source": [
    "fig = plt.figure()\n",
    "axes = fig.add_subplot(projection='3d')\n",
    "firedrake.trisurf(bump, axes=axes);"
   ]
  },
  {
   "cell_type": "markdown",
   "metadata": {},
   "source": [
    "Depending on how sharp a cutoff is necessary, it's also possible to use other bump functions like $e^{-z^2}$, $\\text{sech}^2$, and so forth.\n",
    "Again, by being a little creative about the argument to the sech function, we can make more interesting fields.\n",
    "Here we'll create a ridge at the circle of radius 1/4 about the center of the domain."
   ]
  },
  {
   "cell_type": "code",
   "execution_count": null,
   "metadata": {},
   "outputs": [],
   "source": [
    "expr = sech((r - R) / δ)\n",
    "ridge = firedrake.interpolate(expr, Q)"
   ]
  },
  {
   "cell_type": "code",
   "execution_count": null,
   "metadata": {},
   "outputs": [],
   "source": [
    "fig = plt.figure()\n",
    "axes = fig.add_subplot(projection='3d')\n",
    "firedrake.trisurf(ridge, axes=axes);"
   ]
  },
  {
   "cell_type": "markdown",
   "metadata": {},
   "source": [
    "We'll use combinations of bump, ramp, and polynomials functions several times in the tutorials that follow in order to synthesize fields like a bed topography with a desired shape.\n",
    "For example, we'll use the ridge shape above to emulate a mountain range in the next tutorial."
   ]
  },
  {
   "cell_type": "markdown",
   "metadata": {},
   "source": [
    "### Conclusion\n",
    "\n",
    "Icepack uses the functions in Firedrake to implement solvers for the various physics problems that show up in ice sheet modeling.\n",
    "The Firedrake routines that we've shown here can be used for analyzing simulation results, either through visualization, evaluating fields at points, or evaluating integrals of fields.\n",
    "They can also be used to define input fields of simulations, if those fields have a simple analytical expression.\n",
    "In the next tutorial, we'll show how to use icepack to solve for the velocity and thickness of a an ice sheet with a synthetic geometry.\n",
    "In later tutorials, we'll show how to use real observational data sets, as well as more complicated geometries imported from mesh generators.\n",
    "\n",
    "To learn more about Firedrake, you can visit their [documentation](http://www.firedrakeproject.org/documentation.html) or check out some of the [demos](http://www.firedrakeproject.org/notebooks.html)."
   ]
  }
 ],
 "metadata": {
  "kernelspec": {
   "display_name": "firedrake",
   "language": "python",
   "name": "firedrake"
  },
  "language_info": {
   "codemirror_mode": {
    "name": "ipython",
    "version": 3
   },
   "file_extension": ".py",
   "mimetype": "text/x-python",
   "name": "python",
   "nbconvert_exporter": "python",
   "pygments_lexer": "ipython3",
   "version": "3.8.6"
  }
 },
 "nbformat": 4,
 "nbformat_minor": 2
}
