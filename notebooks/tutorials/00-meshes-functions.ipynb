{
 "cells": [
  {
   "cell_type": "markdown",
   "metadata": {},
   "source": [
    "# Meshes, functions\n",
    "\n",
    "This demo will show some of the basic features of the finite element modeling package [firedrake](https://www.firedrakeproject.org), which icepack is built on.\n",
    "These are the kinds of things you'd need to know before you begin to model anything.\n",
    "First, we'll show to create a simple mesh, and how to define a function on that mesh symbolically using handles for the x- and y-coordinates of the points of the domain.\n",
    "Then we'll demonstrate some of the plotting routines included in icepack, which are meant to mimic as closely as possible the corresponding routines in matplotlib.\n",
    "Finally, we'll show how to analyze a function by evaluating some area and contour integrals."
   ]
  },
  {
   "cell_type": "markdown",
   "metadata": {},
   "source": [
    "### Meshes\n",
    "\n",
    "First, we need to make a mesh.\n",
    "Firedrake includes routines for generating meshes of simple domains; to see all of the meshes that are available, you can type\n",
    "\n",
    "    help(firedrake.utility_meshes)\n",
    "\n",
    "from the python interpreter.\n",
    "In this demo we'll use a mesh of the unit square."
   ]
  },
  {
   "cell_type": "code",
   "execution_count": null,
   "metadata": {},
   "outputs": [],
   "source": [
    "import firedrake\n",
    "nx, ny = 16, 16\n",
    "mesh = firedrake.UnitSquareMesh(nx, ny)"
   ]
  },
  {
   "cell_type": "markdown",
   "metadata": {},
   "source": [
    "Mesh plots are shown with a different color for each segments of the boundary.\n",
    "You can then create a legend that will show you how the colors correspond to the numeric IDs of each boundary segment.\n",
    "This is useful to when applying different boundary conditions to different segments, for example, Dirichlet boundary conditions on part of the domain and Neumann boundary conditions on the other part."
   ]
  },
  {
   "cell_type": "code",
   "execution_count": null,
   "metadata": {},
   "outputs": [],
   "source": [
    "import icepack.plot\n",
    "fig, axes = icepack.plot.subplots()\n",
    "icepack.plot.triplot(mesh, axes=axes)\n",
    "axes.legend();"
   ]
  },
  {
   "cell_type": "markdown",
   "metadata": {},
   "source": [
    "### Functions\n",
    "\n",
    "We can make scalar and vector fields defined on this mesh by interpolating the values of an algebraic expression to some space of functions.\n",
    "\n",
    "First, we have to construct a function space `Q`.\n",
    "We already have a mesh, and we need to decide what element family and polynomial degree.\n",
    "In almost all the cases you'll encounter, the element family consists of continuous piecewise-polynomial functions in each triangle, which is abbreviated to `CG` for \"continuous Galerkin\".\n",
    "\n",
    "Next, we have to make an expression for the function and interpolate it to the function space `Q`.\n",
    "The function `firedrake.SpatialCoordinate` returns two symbolic objects `x`, `y` for the coordinates of each point of the mesh.\n",
    "We can then use these symbols to define expressions for the function we'd like to analyze.\n",
    "In this case, I've chosen the [Rosenbrock function](https://en.wikipedia.org/wiki/Rosenbrock_function).\n",
    "Firedrake has built-in functions for evaluating various transcendental functions of the coordinates, for example the sine, cosine, exponential, logarithm, etc.\n",
    "To see all of the available functions, you can check the namespace `ufl.operators`.\n",
    "\n",
    "Finally, the function `firedrake.interpolate` takes in an expression and a function space, and returns a field from that function space."
   ]
  },
  {
   "cell_type": "code",
   "execution_count": null,
   "metadata": {},
   "outputs": [],
   "source": [
    "Q = firedrake.FunctionSpace(mesh, family='CG', degree=2)\n",
    "\n",
    "x, y = firedrake.SpatialCoordinate(mesh)\n",
    "a, b = 0.5, 10.0\n",
    "expr = (a - x)**2 + b*(y - x**2)**2\n",
    "q = firedrake.interpolate(expr, Q)"
   ]
  },
  {
   "cell_type": "code",
   "execution_count": null,
   "metadata": {},
   "outputs": [],
   "source": [
    "fig, axes = icepack.plot.subplots()\n",
    "contours = icepack.plot.tricontourf(q, 36, axes=axes)\n",
    "fig.colorbar(contours);"
   ]
  },
  {
   "cell_type": "markdown",
   "metadata": {},
   "source": [
    "We can make vector fields in much the same way as we make scalar fields, the only difference being the type of function space.\n",
    "There are many ways to plot a vector field.\n",
    "Here we show a plot of the streamlines of the vector field, colored according to the magnitude of the vector.\n",
    "This method is expensive, especially if you set the resolution or spacing of the streamlines to be too small, but nonetheless it produces really nice graphics."
   ]
  },
  {
   "cell_type": "code",
   "execution_count": null,
   "metadata": {},
   "outputs": [],
   "source": [
    "V = firedrake.VectorFunctionSpace(mesh, family='CG', degree=2)\n",
    "v = firedrake.interpolate(firedrake.grad(expr), V)"
   ]
  },
  {
   "cell_type": "code",
   "execution_count": null,
   "metadata": {},
   "outputs": [],
   "source": [
    "fig, axes = icepack.plot.subplots()\n",
    "opts = {'precision': 1/128, 'density': 1/16, 'max_num_points': 128}\n",
    "streamlines = icepack.plot.streamplot(v, axes=axes, **opts)\n",
    "fig.colorbar(streamlines);"
   ]
  },
  {
   "cell_type": "markdown",
   "metadata": {},
   "source": [
    "### Post-processing\n",
    "\n",
    "We've already seen about how to visualize a scalar or a vector field; this is just a call to the function `icepack.plot`.\n",
    "To analyze the results of a simulation, you might also want to evaluate scalar or vector fields at points in the domain:"
   ]
  },
  {
   "cell_type": "code",
   "execution_count": null,
   "metadata": {},
   "outputs": [],
   "source": [
    "z = (a, a**2)\n",
    "print(q(z))\n",
    "print(v(z))"
   ]
  },
  {
   "cell_type": "markdown",
   "metadata": {},
   "source": [
    "Firedrake also provides a rich set of operations for evaluating integral expressions of scalar and vector fields.\n",
    "Much like how the function `SpatialCoordinate` gives you two symbols `x`, `y` that represent the coordinates of each point of the mesh, firedrake also provides an object `dx` that represents the differential area element.\n",
    "\n",
    "To define an integral, we multiply an expression by `dx`, and then call the function `firedrake.assemble` to evaluate it."
   ]
  },
  {
   "cell_type": "code",
   "execution_count": null,
   "metadata": {},
   "outputs": [],
   "source": [
    "from firedrake import inner, grad, dx, assemble\n",
    "\n",
    "print(assemble(x*y*dx))\n",
    "print(assemble(q*dx))\n",
    "print(assemble(inner(v, v)*dx))"
   ]
  },
  {
   "cell_type": "markdown",
   "metadata": {},
   "source": [
    "We can also evaluate integrals over the boundary of the mesh.\n",
    "Boundary integrals are specified using the differential surface element `ds` instead of `dx`.\n",
    "\n",
    "Sometimes we need to integrate over only part of the boundary.\n",
    "We can specify which part by passing the right numeric ID to `ds`; these are the same IDs that are color-coded in the mesh plot above.\n",
    "\n",
    "Finally, you might also want to evaluate the flux of a vector field across the boundary.\n",
    "To evaluate a flux, we need to get the unit outward normal vector to the boundary.\n",
    "You can get a symbol representing the unit outward normal by calling the function `firedrake.FacetNormal`."
   ]
  },
  {
   "cell_type": "code",
   "execution_count": null,
   "metadata": {},
   "outputs": [],
   "source": [
    "from firedrake import ds\n",
    "\n",
    "print(assemble(q*ds))\n",
    "print(assemble(q*ds(2)))\n",
    "\n",
    "n = firedrake.FacetNormal(mesh)\n",
    "print(assemble(inner(v, n) * ds))"
   ]
  },
  {
   "cell_type": "markdown",
   "metadata": {},
   "source": [
    "### Conclusion\n",
    "\n",
    "Icepack uses the functions in firedrake to implement solvers for the various physics problems that show up in ice sheet modeling.\n",
    "The firedrake routines that we've demonstrated here can be used for analyzing simulation results, either through visualization, evaluating fields at points, or evaluating integrals of fields.\n",
    "They can also be used to define input fields of simulations, if those fields have a simple analytical expression.\n",
    "In the next demo, we'll show how to use icepack to solve for the velocity and thickness of a floating ice shelf with a synthetic geometry.\n",
    "In later demos, we'll show how to use real observational data sets, as well as more complicated geometries imported from mesh generators.\n",
    "\n",
    "To read more about firedrake, you can visit their [documentation](http://www.firedrakeproject.org/documentation.html) or check out some of the [demos](http://www.firedrakeproject.org/notebooks.html)."
   ]
  }
 ],
 "metadata": {
  "kernelspec": {
   "display_name": "firedrake",
   "language": "python",
   "name": "firedrake"
  },
  "language_info": {
   "codemirror_mode": {
    "name": "ipython",
    "version": 3
   },
   "file_extension": ".py",
   "mimetype": "text/x-python",
   "name": "python",
   "nbconvert_exporter": "python",
   "pygments_lexer": "ipython3",
   "version": "3.8.6"
  }
 },
 "nbformat": 4,
 "nbformat_minor": 2
}
